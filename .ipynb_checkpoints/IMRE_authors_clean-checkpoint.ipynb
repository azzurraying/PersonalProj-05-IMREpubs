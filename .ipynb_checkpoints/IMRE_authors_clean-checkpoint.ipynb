{
 "cells": [
  {
   "cell_type": "markdown",
   "metadata": {},
   "source": [
    "# Background of the work\n",
    "\n",
    "The Institute of Materials Research and Engineering would like to extract the core skills of its staff based on their scientific publications in peer reviewed journals. A record of these publications are available in the \"Publication Release Form\" database. This work extracts keywords from each publication's title and abstract, and match (store) these keywords with the respective first authors, who are assumed to be the experts in the subject knowledge. I.e. the staff expertise is constituted by the contents of their first-author publications."
   ]
  },
  {
   "cell_type": "markdown",
   "metadata": {},
   "source": [
    "# Import libraries"
   ]
  },
  {
   "cell_type": "code",
   "execution_count": 2,
   "metadata": {
    "collapsed": false
   },
   "outputs": [],
   "source": [
    "import pandas as pd\n",
    "import numpy as np\n",
    "import re\n",
    "import math\n",
    "import itertools, nltk, string\n",
    "from nltk.stem.porter import PorterStemmer\n",
    "from nltk.stem.snowball import SnowballStemmer\n",
    "from nltk.corpus import stopwords\n",
    "import gensim\n",
    "from sklearn.feature_extraction.text import TfidfVectorizer\n"
   ]
  },
  {
   "cell_type": "markdown",
   "metadata": {},
   "source": [
    "# Define functions"
   ]
  },
  {
   "cell_type": "code",
   "execution_count": 3,
   "metadata": {
    "collapsed": false
   },
   "outputs": [],
   "source": [
    "def cleanColNames(vector): # vector = PRF.columns\n",
    "    newCol = []\n",
    "    for i in vector:\n",
    "        i = i.replace(' ', '_')\n",
    "        i = i.replace('(', '')\n",
    "        i = i.replace(')', '')\n",
    "        i = i.replace('/', '_or_')\n",
    "        newCol.append(i)\n",
    "    return newCol"
   ]
  },
  {
   "cell_type": "code",
   "execution_count": 4,
   "metadata": {
    "collapsed": false
   },
   "outputs": [],
   "source": [
    "def makeIndvAuth(vector): # vector = PRF.First_Author\n",
    "    authors = []\n",
    "    for ind, i in enumerate(vector):\n",
    "        if str(i).lower() == 'nan':\n",
    "            authors.append('UNKNOWN')\n",
    "        else:\n",
    "            tmp = []\n",
    "            for author in i.split(','):\n",
    "                if '(' in author:\n",
    "                    tmp.append(author.split('(')[0].strip())\n",
    "                else:\n",
    "                    tmp.append(author.strip())\n",
    "            authors.append(tmp)\n",
    "    return authors"
   ]
  },
  {
   "cell_type": "code",
   "execution_count": 5,
   "metadata": {
    "collapsed": true
   },
   "outputs": [],
   "source": [
    "def breakAbbreviations(vector): # vector = firstIMRE\n",
    "    # vector is a list of lists.\n",
    "    # Each list contains a single name.\n",
    "    for ind, i in enumerate(vector):\n",
    "        tmp = []\n",
    "        for ind2, j in enumerate(i[0].split(' ')):\n",
    "            if ((len(j) == 2)|(len(j) == 3)) & (j.upper() == j) & (j != 'NG'):\n",
    "                consonants = [not letter in 'aeiouAEIOU' for letter in j]\n",
    "                if (consonants == [True, True]) | (consonants == [True, True, True]):\n",
    "                    tmp.append(' '.join(j))\n",
    "                else:\n",
    "                    tmp.append(j)\n",
    "            else:\n",
    "                tmp.append(j)\n",
    "        vector[ind] = [' '.join(tmp)]\n",
    "    return vector\n",
    "\n",
    "def breakAbbreviations1(vector): # vector = corr[1]\n",
    "    # vector is a list of names.\n",
    "    for ind, i in enumerate(vector): # each name\n",
    "        tmp = []\n",
    "        for ind2, j in enumerate(i.split(' ')): # each character\n",
    "            if ((len(j) == 2)|(len(j) == 3)) & (j.upper() == j) & (j != 'NG'):\n",
    "                consonants = [not letter in 'aeiouAEIOU' for letter in j]\n",
    "                if (consonants == [True, True]) | (consonants == [True, True, True]):\n",
    "                    tmp.append(' '.join(j))\n",
    "                else:\n",
    "                    tmp.append(j)\n",
    "            else:\n",
    "                tmp.append(j)\n",
    "        vector[ind] = ' '.join(tmp)\n",
    "    return vector"
   ]
  },
  {
   "cell_type": "code",
   "execution_count": 51,
   "metadata": {
    "collapsed": false
   },
   "outputs": [],
   "source": [
    "def getIndInRecord(vector):\n",
    "    indInRecord = [vector.index(i) for i in vector if i[0] in staff.Staff_Name.values]\n",
    "    return indInRecord"
   ]
  },
  {
   "cell_type": "code",
   "execution_count": 6,
   "metadata": {
    "collapsed": true
   },
   "outputs": [],
   "source": [
    "def extract_candidate_chunks(text, grammar=r'KT: {(<JJ>* <NN.*>+ <IN>)? <JJ>* <NN.*>+}'):\n",
    "\n",
    "    ## exclude candidates that are stop words or entirely punctuation\n",
    "    punct = set(string.punctuation)\n",
    "    stop_words = set(nltk.corpus.stopwords.words('english'))\n",
    "    \n",
    "    ## tokenize, POS-tag, and chunk using regular expressions\n",
    "\n",
    "    # Chunking is to produce phrases (not just words) that make sense\n",
    "    chunker = nltk.chunk.regexp.RegexpParser(grammar)\n",
    "    \n",
    "    # 1. Tokenize text into sentences.\n",
    "    # 2. Tokenize each sentence into words.\n",
    "    # 3. POS-tag the words.\n",
    "    tagged_sents = nltk.pos_tag_sents(nltk.word_tokenize(sent) for sent in nltk.sent_tokenize(text))\n",
    "    \n",
    "    # 1. Chunk each word-tagged sentence.\n",
    "    # 2. Make the result into a list.\n",
    "    all_chunks = list(itertools.chain.from_iterable(nltk.chunk.tree2conlltags(chunker.parse(tagged_sent))\n",
    "                                                    for tagged_sent in tagged_sents))\n",
    "\n",
    "    ## join constituent chunk words into a single chunked phrase\n",
    "    # 1. Using IOB-chunk-tags, group the chunks into \"Outside\" or \"not Outside\".\n",
    "    # 2. Each item in all_chunks is a 3-part tuple, of word, POS and chunk-tag.\n",
    "    #    Each item gets examined by a 3-input function.\n",
    "    #    The last input (last element of the tuple) is put through a boolean test.\n",
    "    #    itertools.groupby(list_of_tuples, lambda (x, y, z): z != 'Something')\n",
    "    # 2. if key: ie, if it's NOT an Outside tag (Either B-KT or I-KT), group these groups.\n",
    "    #    This is a running accumulation of chunks (out of the 160 all_chunks elements) that are either 'O' or not 'O'\n",
    "    #    e.g. the first six elements are O, not O, not O, O, O, O, O\n",
    "    #    Then form 3 groups: (F, 1 element), (T, 2 elements), (F, 4 elements)\n",
    "    #    Each group is a list of tuples with the third elements != 'O'.\n",
    "    # 3. Take the 1st element out of the tuples of the same group. They are the words. Join them with ' '.\n",
    "    #    This forms a phrase.\n",
    "    # 4. Convert the joint phrase to lower case.\n",
    "    candidates = [' '.join(word for word, pos, chunk in group).lower()\n",
    "                  for key, group in itertools.groupby(all_chunks, lambda (word,pos,chunk): chunk != 'O') if key]\n",
    "\n",
    "    ## Remove stop words and punctuations\n",
    "    return [cand for cand in candidates\n",
    "            if cand not in stop_words and not all(char in punct for char in cand)]"
   ]
  },
  {
   "cell_type": "code",
   "execution_count": 7,
   "metadata": {
    "collapsed": false
   },
   "outputs": [
    {
     "data": {
      "text/plain": [
       "'def tokenize_stem(stemmer, text = tritext):\\n    tokens = nltk.word_tokenize(text)\\n    stemmed = []\\n    for item in tokens:\\n        stemmed.append(stemmer.stem(item))\\n    return stemmed\\n'"
      ]
     },
     "execution_count": 7,
     "metadata": {},
     "output_type": "execute_result"
    }
   ],
   "source": [
    "def stem_tokens(tokens, stemmer):\n",
    "    stemmed = []\n",
    "    for item in tokens:\n",
    "        stemmed.append(stemmer.stem(item))\n",
    "    return stemmed\n",
    "        \n",
    "'''def tokenize_stem(stemmer, text = tritext):\n",
    "    tokens = nltk.word_tokenize(text)\n",
    "    stemmed = []\n",
    "    for item in tokens:\n",
    "        stemmed.append(stemmer.stem(item))\n",
    "    return stemmed\n",
    "'''"
   ]
  },
  {
   "cell_type": "code",
   "execution_count": 8,
   "metadata": {
    "collapsed": true
   },
   "outputs": [],
   "source": [
    "def getAuthorPubKeywords(index):\n",
    "    doc_keywords = pd.DataFrame(\n",
    "    {'first_author': firstIMRE[index],\n",
    "     'keywords': [tfidfFull.get_feature_names()[ind] for ind, freq in enumerate(mFull[index, :].tolist()[0]) if freq != 0],\n",
    "     'tfidf': [freq for freq in mFull[index, :].tolist()[0] if freq != 0]\n",
    "    })\n",
    "    return doc_keywords.sort_values(by = 'tfidf', ascending = False).reset_index()\n"
   ]
  },
  {
   "cell_type": "markdown",
   "metadata": {},
   "source": [
    "# Get, preliminarily clean and explore data"
   ]
  },
  {
   "cell_type": "markdown",
   "metadata": {},
   "source": [
    "The \"PRF\" is the system that stores all publication info."
   ]
  },
  {
   "cell_type": "code",
   "execution_count": 9,
   "metadata": {
    "collapsed": true
   },
   "outputs": [],
   "source": [
    "PRF = pd.read_csv('/Users/yingjiang/Dropbox/Learnings/Stats_data/Projects/IMRE_work/Manpower/PRF.csv')\n",
    "staff = pd.read_csv('/Users/yingjiang/Dropbox/Learnings/Stats_data/Projects/IMRE_work/Manpower/Staff.csv')"
   ]
  },
  {
   "cell_type": "markdown",
   "metadata": {},
   "source": [
    "Format the column names to programming-friendly strings."
   ]
  },
  {
   "cell_type": "code",
   "execution_count": 10,
   "metadata": {
    "collapsed": true
   },
   "outputs": [],
   "source": [
    "PRF.columns = cleanColNames(PRF.columns)"
   ]
  },
  {
   "cell_type": "code",
   "execution_count": 18,
   "metadata": {
    "collapsed": true
   },
   "outputs": [],
   "source": [
    "## Fill null entries with a string for easier processing.\n",
    "PRF.loc[:, ['First_Author', 'First_Author_Organisation', 'Corresponding_Authors', 'Corresponding_Authors_Organisations']] = PRF.loc[:, ['First_Author', 'First_Author_Organisation', 'Corresponding_Authors', 'Corresponding_Authors_Organisations']].fillna('UNKNOWN')\n",
    "# 2312, 3158"
   ]
  },
  {
   "cell_type": "code",
   "execution_count": 78,
   "metadata": {
    "collapsed": false
   },
   "outputs": [
    {
     "data": {
      "text/html": [
       "<div>\n",
       "<table border=\"1\" class=\"dataframe\">\n",
       "  <thead>\n",
       "    <tr style=\"text-align: right;\">\n",
       "      <th></th>\n",
       "      <th>Title_of_Paper</th>\n",
       "      <th>Journal_Title</th>\n",
       "      <th>Publication_Release_Number</th>\n",
       "      <th>Dept_or_Prog_</th>\n",
       "      <th>Significance_of_Paper</th>\n",
       "      <th>Publication_Date</th>\n",
       "      <th>First_Author</th>\n",
       "      <th>First_Author_Organisation</th>\n",
       "      <th>Other_Authors</th>\n",
       "      <th>Other_Authors_organisation</th>\n",
       "      <th>Corresponding_Authors</th>\n",
       "      <th>Corresponding_Authors_Organisations</th>\n",
       "      <th>Project_Finance_Code</th>\n",
       "      <th>Project_Title</th>\n",
       "      <th>Web_ID</th>\n",
       "    </tr>\n",
       "  </thead>\n",
       "  <tbody>\n",
       "    <tr>\n",
       "      <th>0</th>\n",
       "      <td>Recent Progress in Chemical Vapor Deposition G...</td>\n",
       "      <td>Progress in Crystal Growth and Characterizatio...</td>\n",
       "      <td>MPC/16-128</td>\n",
       "      <td>-MPC</td>\n",
       "      <td>Reviews the latest progress in CVD growth of T...</td>\n",
       "      <td>Jul-16</td>\n",
       "      <td>WONG Swee Liang</td>\n",
       "      <td>IMRE</td>\n",
       "      <td>LIU Hong Fei, CHI Dongzhi</td>\n",
       "      <td>IMRE, IMRE</td>\n",
       "      <td>CHI Dongzhi</td>\n",
       "      <td>IMRE</td>\n",
       "      <td>IMRE/15-2C0115</td>\n",
       "      <td>Large area growth of atomically thin 2D semico...</td>\n",
       "      <td>4696</td>\n",
       "    </tr>\n",
       "    <tr>\n",
       "      <th>1</th>\n",
       "      <td>A Polydopamine Coating Ultralight Graphene Mat...</td>\n",
       "      <td>Renewable Energy</td>\n",
       "      <td>AS/16-056</td>\n",
       "      <td>Advanced Energy Storage Lab</td>\n",
       "      <td>The soft polydopmine (PDA) layer with polar fu...</td>\n",
       "      <td>Aug-16</td>\n",
       "      <td>Zhou Lan</td>\n",
       "      <td>Fudan University</td>\n",
       "      <td>LIU Zhao Lin (IMRE), ZONG Yun (IMRE), Yu Aishui</td>\n",
       "      <td>IMRE, IMRE, Fudan University</td>\n",
       "      <td>LIU Zhao Lin (IMRE), ZONG Yun (IMRE), Yu Aishui</td>\n",
       "      <td>IMRE, IMRE, Fudan University</td>\n",
       "      <td>IMRE/14-1C0243</td>\n",
       "      <td>High-performance sulfur nanostructured cathode...</td>\n",
       "      <td>4695</td>\n",
       "    </tr>\n",
       "    <tr>\n",
       "      <th>2</th>\n",
       "      <td>MOLECULAR DESIGN OF BIOINSPIRED NANOSTRUCTURES...</td>\n",
       "      <td>Journal of Molecular and Engineering Materials</td>\n",
       "      <td>BB/16-185</td>\n",
       "      <td>-Biomedical &amp; Biomimetic</td>\n",
       "      <td>In this review, we present the recent developm...</td>\n",
       "      <td>Aug-16</td>\n",
       "      <td>stu-victorxu (IMRE)</td>\n",
       "      <td>IMRE</td>\n",
       "      <td>ZHENG Xinting, Beverly MOK Yin Leng, stu-salwa...</td>\n",
       "      <td>IMRE, IMRE, IMRE, IMRE, IMRE</td>\n",
       "      <td>TAN Yen Nee</td>\n",
       "      <td>IMRE</td>\n",
       "      <td>IMRE/14-8C0439</td>\n",
       "      <td>Development of highly efficient siRNA-conjugat...</td>\n",
       "      <td>4694</td>\n",
       "    </tr>\n",
       "    <tr>\n",
       "      <th>3</th>\n",
       "      <td>Biodegradable Thermogelling Polymers for Biome...</td>\n",
       "      <td>MRS Bulletin</td>\n",
       "      <td>CT/16-229</td>\n",
       "      <td>-Consumer Care Technology</td>\n",
       "      <td>Thermogelling polymers belong to a class of st...</td>\n",
       "      <td>Aug-16</td>\n",
       "      <td>LIOW Sing Shy (IMRE)</td>\n",
       "      <td>IMRE</td>\n",
       "      <td>Anis ABDUL KARIM (IMRE), LOH Xian Jun (IMRE)</td>\n",
       "      <td>IMRE, IMRE</td>\n",
       "      <td>LOH Xian Jun (IMRE)</td>\n",
       "      <td>IMRE</td>\n",
       "      <td>IMRE/13-2P0806</td>\n",
       "      <td>Polymer Bank for Personal Care Applications</td>\n",
       "      <td>4693</td>\n",
       "    </tr>\n",
       "    <tr>\n",
       "      <th>4</th>\n",
       "      <td>Dual-responsive Reversible Photo/Thermogelling...</td>\n",
       "      <td>Journal of Polymer Science, Part A: Polymer Ch...</td>\n",
       "      <td>CT/16-227</td>\n",
       "      <td>-Consumer Care Technology</td>\n",
       "      <td>This work describes the synthesis of a novel p...</td>\n",
       "      <td>Jun-16</td>\n",
       "      <td>DOU Qing Qing (IMRE)</td>\n",
       "      <td>IMRE</td>\n",
       "      <td>LIOW Sing Shy (IMRE), LOH Xian Jun (IMRE), Wen...</td>\n",
       "      <td>IMRE, IMRE, Xiamen University</td>\n",
       "      <td>LOH Xian Jun (IMRE)</td>\n",
       "      <td>IMRE</td>\n",
       "      <td>IMRE/13-2P0806</td>\n",
       "      <td>Polymer Bank for Personal Care Applications</td>\n",
       "      <td>4692</td>\n",
       "    </tr>\n",
       "  </tbody>\n",
       "</table>\n",
       "</div>"
      ],
      "text/plain": [
       "                                      Title_of_Paper  \\\n",
       "0  Recent Progress in Chemical Vapor Deposition G...   \n",
       "1  A Polydopamine Coating Ultralight Graphene Mat...   \n",
       "2  MOLECULAR DESIGN OF BIOINSPIRED NANOSTRUCTURES...   \n",
       "3  Biodegradable Thermogelling Polymers for Biome...   \n",
       "4  Dual-responsive Reversible Photo/Thermogelling...   \n",
       "\n",
       "                                       Journal_Title  \\\n",
       "0  Progress in Crystal Growth and Characterizatio...   \n",
       "1                                 Renewable Energy     \n",
       "2   Journal of Molecular and Engineering Materials     \n",
       "3                                     MRS Bulletin     \n",
       "4  Journal of Polymer Science, Part A: Polymer Ch...   \n",
       "\n",
       "  Publication_Release_Number                  Dept_or_Prog_  \\\n",
       "0               MPC/16-128                           -MPC     \n",
       "1                AS/16-056    Advanced Energy Storage Lab     \n",
       "2                BB/16-185       -Biomedical & Biomimetic     \n",
       "3                CT/16-229      -Consumer Care Technology     \n",
       "4                CT/16-227      -Consumer Care Technology     \n",
       "\n",
       "                               Significance_of_Paper Publication_Date  \\\n",
       "0  Reviews the latest progress in CVD growth of T...           Jul-16   \n",
       "1  The soft polydopmine (PDA) layer with polar fu...           Aug-16   \n",
       "2  In this review, we present the recent developm...           Aug-16   \n",
       "3  Thermogelling polymers belong to a class of st...           Aug-16   \n",
       "4  This work describes the synthesis of a novel p...           Jun-16   \n",
       "\n",
       "             First_Author First_Author_Organisation  \\\n",
       "0       WONG Swee Liang                      IMRE     \n",
       "1              Zhou Lan          Fudan University     \n",
       "2   stu-victorxu (IMRE)                      IMRE     \n",
       "3  LIOW Sing Shy (IMRE)                      IMRE     \n",
       "4  DOU Qing Qing (IMRE)                      IMRE     \n",
       "\n",
       "                                       Other_Authors  \\\n",
       "0                        LIU Hong Fei, CHI Dongzhi     \n",
       "1  LIU Zhao Lin (IMRE), ZONG Yun (IMRE), Yu Aishui     \n",
       "2  ZHENG Xinting, Beverly MOK Yin Leng, stu-salwa...   \n",
       "3     Anis ABDUL KARIM (IMRE), LOH Xian Jun (IMRE)     \n",
       "4  LIOW Sing Shy (IMRE), LOH Xian Jun (IMRE), Wen...   \n",
       "\n",
       "       Other_Authors_organisation  \\\n",
       "0                     IMRE, IMRE    \n",
       "1   IMRE, IMRE, Fudan University    \n",
       "2   IMRE, IMRE, IMRE, IMRE, IMRE    \n",
       "3                     IMRE, IMRE    \n",
       "4  IMRE, IMRE, Xiamen University    \n",
       "\n",
       "                               Corresponding_Authors  \\\n",
       "0                                      CHI Dongzhi     \n",
       "1  LIU Zhao Lin (IMRE), ZONG Yun (IMRE), Yu Aishui     \n",
       "2                                      TAN Yen Nee     \n",
       "3                              LOH Xian Jun (IMRE)     \n",
       "4                              LOH Xian Jun (IMRE)     \n",
       "\n",
       "  Corresponding_Authors_Organisations Project_Finance_Code  \\\n",
       "0                               IMRE      IMRE/15-2C0115     \n",
       "1       IMRE, IMRE, Fudan University      IMRE/14-1C0243     \n",
       "2                               IMRE      IMRE/14-8C0439     \n",
       "3                               IMRE      IMRE/13-2P0806     \n",
       "4                               IMRE      IMRE/13-2P0806     \n",
       "\n",
       "                                       Project_Title  Web_ID  \n",
       "0  Large area growth of atomically thin 2D semico...    4696  \n",
       "1  High-performance sulfur nanostructured cathode...    4695  \n",
       "2  Development of highly efficient siRNA-conjugat...    4694  \n",
       "3      Polymer Bank for Personal Care Applications      4693  \n",
       "4      Polymer Bank for Personal Care Applications      4692  "
      ]
     },
     "execution_count": 78,
     "metadata": {},
     "output_type": "execute_result"
    }
   ],
   "source": [
    "PRF.head()"
   ]
  },
  {
   "cell_type": "markdown",
   "metadata": {},
   "source": [
    "The \"staff\" dataframe contains IMRE staff's official names. The \"Staff_Name\" column will be used to normalize author names."
   ]
  },
  {
   "cell_type": "code",
   "execution_count": 12,
   "metadata": {
    "collapsed": true
   },
   "outputs": [],
   "source": [
    "staff.columns = cleanColNames(vector = staff.columns)"
   ]
  },
  {
   "cell_type": "markdown",
   "metadata": {},
   "source": [
    "Row 293 - 298 contain missing values. Just drop them."
   ]
  },
  {
   "cell_type": "code",
   "execution_count": 13,
   "metadata": {
    "collapsed": true
   },
   "outputs": [],
   "source": [
    "staff.drop(range(293,298), axis = 0, inplace = True)"
   ]
  },
  {
   "cell_type": "code",
   "execution_count": 14,
   "metadata": {
    "collapsed": false
   },
   "outputs": [
    {
     "data": {
      "text/html": [
       "<div>\n",
       "<table border=\"1\" class=\"dataframe\">\n",
       "  <thead>\n",
       "    <tr style=\"text-align: right;\">\n",
       "      <th></th>\n",
       "      <th>Staff_Name</th>\n",
       "      <th>Title</th>\n",
       "      <th>Dpt</th>\n",
       "      <th>Functions</th>\n",
       "      <th>Function_Involvement</th>\n",
       "      <th>Project_Involvement</th>\n",
       "      <th>Total_involvement</th>\n",
       "    </tr>\n",
       "  </thead>\n",
       "  <tbody>\n",
       "    <tr>\n",
       "      <th>0</th>\n",
       "      <td>Afriyanti SUMBOJA</td>\n",
       "      <td>Scientist I</td>\n",
       "      <td>-CER</td>\n",
       "      <td>#NAME?</td>\n",
       "      <td>0.0</td>\n",
       "      <td>1.0</td>\n",
       "      <td>1.0</td>\n",
       "    </tr>\n",
       "    <tr>\n",
       "      <th>1</th>\n",
       "      <td>Agata Maria BRZOZOWSKA</td>\n",
       "      <td>Scientist I</td>\n",
       "      <td>-MOL</td>\n",
       "      <td>#NAME?</td>\n",
       "      <td>0.0</td>\n",
       "      <td>0.5</td>\n",
       "      <td>0.5</td>\n",
       "    </tr>\n",
       "    <tr>\n",
       "      <th>2</th>\n",
       "      <td>Ajay Kumar KUSHWAHA</td>\n",
       "      <td>Scientist I</td>\n",
       "      <td>-CER</td>\n",
       "      <td>#NAME?</td>\n",
       "      <td>0.0</td>\n",
       "      <td>0.0</td>\n",
       "      <td>0.0</td>\n",
       "    </tr>\n",
       "    <tr>\n",
       "      <th>3</th>\n",
       "      <td>AN Tao</td>\n",
       "      <td>Scientist I</td>\n",
       "      <td>-CER</td>\n",
       "      <td>#NAME?</td>\n",
       "      <td>0.0</td>\n",
       "      <td>1.0</td>\n",
       "      <td>1.0</td>\n",
       "    </tr>\n",
       "    <tr>\n",
       "      <th>4</th>\n",
       "      <td>Anas Ibrahim SaedAldin AbuTaha</td>\n",
       "      <td>Scientist I</td>\n",
       "      <td>-CER</td>\n",
       "      <td>#NAME?</td>\n",
       "      <td>0.0</td>\n",
       "      <td>1.0</td>\n",
       "      <td>1.0</td>\n",
       "    </tr>\n",
       "  </tbody>\n",
       "</table>\n",
       "</div>"
      ],
      "text/plain": [
       "                       Staff_Name        Title   Dpt Functions  \\\n",
       "0               Afriyanti SUMBOJA  Scientist I  -CER    #NAME?   \n",
       "1          Agata Maria BRZOZOWSKA  Scientist I  -MOL    #NAME?   \n",
       "2             Ajay Kumar KUSHWAHA  Scientist I  -CER    #NAME?   \n",
       "3                          AN Tao  Scientist I  -CER    #NAME?   \n",
       "4  Anas Ibrahim SaedAldin AbuTaha  Scientist I  -CER    #NAME?   \n",
       "\n",
       "   Function_Involvement  Project_Involvement  Total_involvement  \n",
       "0                   0.0                  1.0                1.0  \n",
       "1                   0.0                  0.5                0.5  \n",
       "2                   0.0                  0.0                0.0  \n",
       "3                   0.0                  1.0                1.0  \n",
       "4                   0.0                  1.0                1.0  "
      ]
     },
     "execution_count": 14,
     "metadata": {},
     "output_type": "execute_result"
    }
   ],
   "source": [
    "staff.head()"
   ]
  },
  {
   "cell_type": "markdown",
   "metadata": {},
   "source": [
    "# Clean and normalize authors' names\n",
    "## Extract names"
   ]
  },
  {
   "cell_type": "code",
   "execution_count": 118,
   "metadata": {
    "collapsed": true
   },
   "outputs": [],
   "source": [
    "first = makeIndvAuth(PRF.First_Author)"
   ]
  },
  {
   "cell_type": "code",
   "execution_count": 117,
   "metadata": {
    "collapsed": true
   },
   "outputs": [],
   "source": [
    "corr = makeIndvAuth(vector = PRF.Corresponding_Authors)"
   ]
  },
  {
   "cell_type": "code",
   "execution_count": 80,
   "metadata": {
    "collapsed": false
   },
   "outputs": [
    {
     "data": {
      "text/plain": [
       "\"\\nfor i in nonFirst:\\n    for j in i:\\n        if 'Costa' in j:\\n            print nonFirst.index(i), i.index(j)\\n            j = 'Vijay Richard De Costa'\\n\\n            print 'String is now changed to', j\\n\""
      ]
     },
     "execution_count": 80,
     "metadata": {},
     "output_type": "execute_result"
    }
   ],
   "source": [
    "nonFirst = makeIndvAuth(PRF.Other_Authors)\n",
    "\n",
    "for otherAuth, corrAuth in zip(nonFirst, corr):\n",
    "#     print nonFirst.index(otherAuth)\n",
    "    \n",
    "    for author in otherAuth:\n",
    "        if author in corrAuth:\n",
    "#             print author\n",
    "            otherAuth.remove(author)\n",
    "            \n",
    "'''\n",
    "for i in nonFirst:\n",
    "    for j in i:\n",
    "        if 'Costa' in j:\n",
    "            print nonFirst.index(i), i.index(j)\n",
    "            j = 'Vijay Richard De Costa'\n",
    "\n",
    "            print 'String is now changed to', j\n",
    "'''"
   ]
  },
  {
   "cell_type": "markdown",
   "metadata": {},
   "source": [
    "At this point, we have three author lists:\n",
    "1. First authors: 'first', list of single-element lists\n",
    "2. Corresponding authors 'corr', list of multiple-element lists\n",
    "3. Other authors 'nonFirst', list of multiple-element lists\n",
    "\n"
   ]
  },
  {
   "cell_type": "markdown",
   "metadata": {},
   "source": [
    "## Extract and normalize relevant FIRST author names\n",
    "\n",
    "Extract the names that are IMRE staff. Ignore collaborators and students."
   ]
  },
  {
   "cell_type": "markdown",
   "metadata": {},
   "source": [
    "### Clean up multiple-first-author cases"
   ]
  },
  {
   "cell_type": "markdown",
   "metadata": {},
   "source": [
    "#### Clean up for rows 2034, 2051, 2164\n",
    "\n",
    "These rows still consist of more than one first author upon first splitting. There send the respective authors to his / her corresponding columns (either corr or nonFirst)."
   ]
  },
  {
   "cell_type": "code",
   "execution_count": 119,
   "metadata": {
    "collapsed": false
   },
   "outputs": [],
   "source": [
    "corr[2034] = [first[2034][-1]]\n",
    "corr[2051] = [first[2051][-1]]\n",
    "corr[2164] = [first[2164][-1]]\n",
    "\n",
    "first[2034].pop()\n",
    "first[2051].pop()\n",
    "first[2164].pop()\n",
    "\n",
    "nonFirst[2034] = first[2034][1:]\n",
    "nonFirst[2164] = first[2164][1:]\n",
    "nonFirst[2164].append(corr[2164][0].split(' and ')[0])\n",
    "\n",
    "first[2034] = [first[2034][0]]\n",
    "first[2051] = [first[2051][0]]\n",
    "first[2164] = [first[2164][0]]\n",
    "\n",
    "corr[2164] = [corr[2164][0].split(' and ')[1]]"
   ]
  },
  {
   "cell_type": "code",
   "execution_count": null,
   "metadata": {
    "collapsed": true
   },
   "outputs": [],
   "source": []
  },
  {
   "cell_type": "code",
   "execution_count": null,
   "metadata": {
    "collapsed": true
   },
   "outputs": [],
   "source": [
    "## Clean up the affiliation columns for these three special rows\n",
    "for i in [2034, 2051, 2164]:\n",
    "    print PRF.First_Author_Organisation.iloc[i]\n",
    "    print PRF.Corresponding_Authors_Organisations.iloc[i]\n",
    "\n",
    "# Since we want the affiliation columns, where first/corr authors is an IMRE staff, to reflect 'IMRE',\n",
    "# we need to modify row 2164 (both are IMRE staff)\n",
    "\n",
    "PRF.First_Author_Organisation.iloc[2164] = 'IMRE'\n",
    "PRF.Corresponding_Authors_Organisations.iloc[2164] = 'IMRE'"
   ]
  },
  {
   "cell_type": "markdown",
   "metadata": {},
   "source": [
    "#### Clean up rows where first and last names are split up"
   ]
  },
  {
   "cell_type": "code",
   "execution_count": 120,
   "metadata": {
    "collapsed": false
   },
   "outputs": [],
   "source": [
    "for ind, i in enumerate(first):\n",
    "    if len(i) > 1:\n",
    "        if i != 'UNKNOWN':\n",
    "            first[ind] = [' '.join(i)]"
   ]
  },
  {
   "cell_type": "markdown",
   "metadata": {},
   "source": [
    "#### Clean up special characters"
   ]
  },
  {
   "cell_type": "code",
   "execution_count": 121,
   "metadata": {
    "collapsed": true
   },
   "outputs": [],
   "source": [
    "# Removed all non-alphabets and non-white spaces\n",
    "for ind, i in enumerate(first):\n",
    "    first[ind] = [re.sub(\"[^a-zA-Z\\s]\", \"\", first[ind][0])]\n",
    "\n",
    "# Removed special characters for 2 names.\n",
    "for i in first:\n",
    "    if 'Milo' in i[0]:\n",
    "        i[0] = 'Milos Petrovic'\n",
    "    if 'Mechthild' in i[0]:\n",
    "        i[0] = 'Mechthild Lubke'"
   ]
  },
  {
   "cell_type": "markdown",
   "metadata": {},
   "source": [
    "#### Break up abbreviations"
   ]
  },
  {
   "cell_type": "code",
   "execution_count": 122,
   "metadata": {
    "collapsed": false
   },
   "outputs": [
    {
     "data": {
      "text/plain": [
       "\"\\nneitherIMRE = []\\nfor ind, i in enumerate(PRF.First_Author_Organisation):\\n    if 'IMRE' not in i:\\n        if 'IMRE' not in PRF.Corresponding_Authors_Organisations.iloc[ind]:\\n            neitherIMRE.append(ind)\\n\\nPRF_IMRE = PRF.drop(neitherIMRE, axis=0)\\nfirstIMRE = [i for ind, i in enumerate(first) if ind not in neitherIMRE]\\ncorrIMRE = [i for ind, i in enumerate(corr) if ind not in neitherIMRE]\\n\""
      ]
     },
     "execution_count": 122,
     "metadata": {},
     "output_type": "execute_result"
    }
   ],
   "source": [
    "first = breakAbbreviations(first)\n",
    "\n",
    "'''\n",
    "neitherIMRE = []\n",
    "for ind, i in enumerate(PRF.First_Author_Organisation):\n",
    "    if 'IMRE' not in i:\n",
    "        if 'IMRE' not in PRF.Corresponding_Authors_Organisations.iloc[ind]:\n",
    "            neitherIMRE.append(ind)\n",
    "\n",
    "PRF_IMRE = PRF.drop(neitherIMRE, axis=0)\n",
    "firstIMRE = [i for ind, i in enumerate(first) if ind not in neitherIMRE]\n",
    "corrIMRE = [i for ind, i in enumerate(corr) if ind not in neitherIMRE]\n",
    "'''"
   ]
  },
  {
   "cell_type": "markdown",
   "metadata": {},
   "source": [
    "### Compare with staff names dataset"
   ]
  },
  {
   "cell_type": "code",
   "execution_count": null,
   "metadata": {
    "collapsed": true
   },
   "outputs": [],
   "source": [
    "'''\n",
    "## First, compare directly\n",
    "indInRecord = [firstIMRE_break.index(i) for i in firstIMRE_break if i[0] in staff.Staff_Name.values]\n",
    "print len(indInRecord) #417\n",
    "\n",
    "## Second, compare lower cases\n",
    "staffNameLower = [val.lower() for ind, val in staff.Staff_Name.iteritems()]\n",
    "indLower = [ind for ind, i in enumerate(firstIMRE_break) if i[0].lower() in staffNameLower]\n",
    "print len(indLower)\n",
    "# Note:\n",
    "# 1. When this is run for the first time, it's 484. But it's 500 after the cell below is run. (order flipped)\n",
    "# 2. indLower includes the direct matches.\n",
    "\n",
    "## Third, compare cases where surname and given names are flipped\n",
    "indOrder = []\n",
    "for ind, i in enumerate(firstIMRE_break):\n",
    "    nameSplit = i[0].split(' ')\n",
    "    lastChar = nameSplit[-1]\n",
    "    nameSplit.pop()\n",
    "    firstChars = ' '.join(nameSplit)\n",
    "    if ' '.join((lastChar, firstChars)).lower() in staffNameLower:\n",
    "        indOrder.append(ind)\n",
    "        firstIMRE_break[ind] = [lastChar + ' ' + firstChars]\n",
    "\n",
    "print len(indOrder) # 17 more. But if run for the second time, 0, because all cases have been changed.\n",
    "# Total 500\n",
    "\n",
    "indUseful = indLower + indOrder\n",
    "indUseful.sort_values()\n",
    "'''"
   ]
  },
  {
   "cell_type": "code",
   "execution_count": 125,
   "metadata": {
    "collapsed": false,
    "scrolled": true
   },
   "outputs": [
    {
     "name": "stdout",
     "output_type": "stream",
     "text": [
      "519\n"
     ]
    }
   ],
   "source": [
    "indLower = [ind for ind, i in enumerate(first) if i[0].lower() in staffNameLower]\n",
    "print len(indLower) # First time the code is run: 495. Second time: 519."
   ]
  },
  {
   "cell_type": "code",
   "execution_count": 126,
   "metadata": {
    "collapsed": false,
    "scrolled": true
   },
   "outputs": [
    {
     "name": "stdout",
     "output_type": "stream",
     "text": [
      "0\n"
     ]
    }
   ],
   "source": [
    "## Third, compare cases where surname and given names are flipped\n",
    "indOrder = []\n",
    "for ind, i in enumerate(first):\n",
    "    nameSplit = i[0].split(' ')\n",
    "    lastChar = nameSplit[-1]\n",
    "    nameSplit.pop()\n",
    "    firstChars = ' '.join(nameSplit)\n",
    "    if ' '.join((lastChar, firstChars)).lower() in staffNameLower:\n",
    "        indOrder.append(ind)\n",
    "        first[ind] = [lastChar + ' ' + firstChars]\n",
    "\n",
    "print len(indOrder) # First time the code is run: 24. Second time: 0, because all cases have been changed.\n",
    "\n",
    "# Total 519"
   ]
  },
  {
   "cell_type": "code",
   "execution_count": 111,
   "metadata": {
    "collapsed": false,
    "scrolled": true
   },
   "outputs": [
    {
     "name": "stdout",
     "output_type": "stream",
     "text": [
      "['wong swee liang', 'liow sing shy', 'dou qing qing', 'yu yong', 'yu yong', 'zhang yu', 'goutam kumar dalapati', 'guo shifeng', 'he jiating', 'liu rong rong', 'wang shengqin', 'liu hongwei', 'david paramelle', 'yang ming', 'ye qun', 'tan mein jin', 'ren wei', 'kai dan', 'goutam kumar dalapati', 'jiang lu', 'goh xiao ming', 'liu hong fei', 'li zibiao', 'guo shifeng', 'afriyanti sumboja', 'liu hong fei', 'huang yuli', 'wong ten it', 'zhao meng', 'aung ko ko kyaw', 'liu hong fei', 'song xiaolu', 'li zibiao', 'zong yun', 'li zibiao', 'bai shiqiang', 'meysam sharifzadeh mirshekarloo', 'wong ten it', 'jiang lu', 'li zibiao', 'michelle dela cruz regulacio', 'huang kun', 'liu hong fei', 'tam teck lip dexter', 'steve wu qing yang', 'zhang lei', 'm s m saifullah', 'wang suxi', 'li bing', 'liew siao li', 'wang guan', 'liu hong fei', 'liu hong fei', 'liu hong fei', 'zhang zheng', 'kai dan', 'kai dan', 'chua chin sheng', 'anis abdul karim', 'goutam kumar dalapati', 'wong ten it', 'ye enyi', 'goh wei peng', 'wong swee liang', 'li zibiao', 'liu hong', 'johnson goh kuan eng', 'hiroyo kawai', 'li zibiao', 'wang qian', 'zhao meng', 'goutam kumar dalapati', 'goutam kumar dalapati', 'chee pei lin', 'huang xiaohu', 'liu yanjun', 'steve wu qing yang', 'liu xiaogang', 'yang chengyuan', 'liu hong', 'zhou hui', 'cho ching mui', 'he jiating', 'ye hongye', 'yang jing', 'song jing', 'connie liu kin man', 'loh xian jun', 'dou qing qing', 'cho ching mui', 'ye qun', 'ye qun', 'ye qun', 'aung ko ko kyaw', 'liu hong fei', 'yu yong', 'wang yusong', 'jiang changyun', 'tan mein jin', 'bai shiqiang', 'song jing', 'cho ching mui', 'wang fuke', 'ice tee si yin', 'li jian', 'pramoda kumari pallathadka', 'mitali kakran', 'ge xiaoming', 'tam teck lip dexter', 'cedric troadec', 'cheng weiren', 'an tao', 'michelle dela cruz regulacio', 'vignesh suresh', 'karen ke lin', 'karen ke lin', 'karen ke lin', 'afriyanti sumboja', 'kai dan', 'mohamed asbahi', 'wang xiaobai', 'dong zhaogang', 'mohamed asbahi', 'bai shiqiang', 'ice tee si yin', 'liu hong fei', 'wang shengqin', 'mohit sharma', 'zhang zheng', 'wang fuke', 'tang tao', 'goutam kumar dalapati', 'warintorn thitsartarn', 'vignesh suresh', 'goutam kumar dalapati', 'ge xiaoming', 'tang tao', 'zhou hui', 'anis abdul karim', 'mitali kakran', 'kai dan', 'song hong yan', 'koh leng duei', 'liu hong fei', 'cheng weiren', 'warintorn thitsartarn', 'mark allen moxey', 'michelle dela cruz regulacio', 'zhang lei', 'zhang lei', 'zhang yu', 'li bing', 'wang fuke', 'liu hong fei', 'goutam kumar dalapati', 'ge xiaoming', 'ivan tan chee kiang', 'liu hong', 'huang shengli', 'liu hong fei', 'bai shiqiang', 'michelle dela cruz regulacio', 'yang jin', 'dennis tan cheng cheh', 'li zibiao', 'santiranjan shannigrahi', 'bai shiqiang', 'dong zhaogang', 'li zibiao', 'dou qing qing', 'yu yong', 'sreenivasa reddy puniredd', 'kai dan', 'wang suxi', 'david paramelle', 'yu yong', 'ding ning', 'ye enyi', 'dou qing qing', 'ding ning', 'karen ke lin', 'evan laurence williams', 'khin moh moh aung', 'zhang yu', 'ye qun', 'ye qun', 'zhou hui', 'wang xiaobai', 'wang ben zhong', 'li bing', 'chen xinwei', 'chen xinwei', 'hiroyo kawai', 'cheng weiren', 'jiang ying', 'liu hongwei', 'teo ee jin', 'vignesh suresh', 'andrew ng ming hua', 'aung ko ko kyaw', 'wang guan', 'khin yin win', 'tan lee kheng', 'yang weifeng', 'goh xiao ming', 'khin yin win', 'andrew ngo chun yong', 'andrew ngo chun yong', 'song hong yan', 'yang jing', 'yang jing', 'wu wenya', 'yu yong', 'lim yee fun', 'liu hong fei', 'tang tao', 'tang tao', 'cheng weiren', 'pan xiaoyong', 'sreenivasa reddy puniredd', 'wu wenya', 'raymond gan ching ruey', 'wang fei', 'zong yun', 'ye enyi', 'bai shiqiang', 'huang shengli', 'song hong yan', 'mitali kakran', 'goh xiao ming', 'zhang zheng', 'yan hong', 'zhou hui', 'wang xiaobai', 'tan mein jin', 'ding lu', 'liu hong', 'liu hong fei', 'zhang zhongxing', 'liu hong fei', 'brian ong thiam min', 'liu zhao lin', 'lakshmi kanta bera', 'aung ko ko kyaw', 'ye hongye', 'dou qing qing', 'loh xian jun', 'kai dan', 'ooi zi en', 'wang guan', 'david paramelle', 'ge xiaoming', 'li zibiao', 'ding ning', 'guo shifeng', 'cheng weiren', 'mohit sharma', 'agata maria brzozowska', 'ding ning', 'khin moh moh aung', 'mojtaba rahimabady', 'michel bosman', 'li zibiao', 'li zibiao', 'shawn tan junhao', 'shawn tan junhao', 'liu hongwei', 'michelle dela cruz regulacio', 'lin ming', 'laura sutarlie', 'liu hong fei', 'liu hong fei', 'mohamed asbahi', 'mohamed asbahi', 'wang shengqin', 'carlos de jesus manzano garcia', 'dou qing qing', 'loh xian jun', 'donna zhou xiaodong', 'song hong yan', 'chee pei lin', 'kai dan', 'liu yanjun', 'leong yew wei', 'tripathy sudhiranjan', 'liu rong rong', 'dong zhaogang', 'liu hong fei', 'liu hong fei', 'nancy wong lai mun', 'sreenivasa reddy puniredd', 'carlos de jesus manzano garcia', 'lakshmi kanta bera', 'su xingfang', 'song jing', 'pan xiaoyong', 'tan mein jin', 'loh xian jun', 'loh xian jun', 'tan yen nee', 'yu yong', 'vignesh suresh', 'wang pei', 'zhang lei', 'mojtaba rahimabady', 'bai shiqiang', 'anton valentinovich sadovoy', 'zong yun', 'ye enyi', 'yap fung ling', 'wang guan', 'ong kok haw', 'lai szu cheng', 'zhang zhongxing', 'zhang yu', 'aung ko ko kyaw', 'loh xian jun', 'loh xian jun', 'lim su hui', 'ye enyi', 'yang weifeng', 'zhang zheng', 'khin yin win', 'goutam kumar dalapati', 'mohamed asbahi', 'michelle dela cruz regulacio', 'aung ko ko kyaw', 'lin ming', 'song jing', 'song jing', 'cho ching mui', 'ren yi', 'phang in yee', 'wong ten it', 'aung ko ko kyaw', 'li xue', 'aung ko ko kyaw', 'hendrix tanoto', 'sreenivasa reddy puniredd', 'zhang nan', 'loh xian jun', 'ye qun', 'ong kok haw', 'xu yang', 'loke yee chong', 'zhang zheng', 'cheng weiren', 'michelle dela cruz regulacio', 'michel bosman', 'eric tang xiaosong', 'liu hong fei', 'gu haiwen', 'gu haiwen', 'tan wui siew', 'tan wui siew', 'song jing', 'maureen janet tan beng hoon', 'goutam kumar dalapati', 'liu yanjun', 'david paramelle', 'liu hong fei', 'yang ming', 'bai shiqiang', 'evan laurence williams', 'li xue', 'liu hongwei', 'li zibiao', 'karen chong siew ling', 'dennis tan cheng cheh', 'maureen janet tan beng hoon', 'song hong yan', 'song hong yan', 'tripathy sudhiranjan', 'wang ben zhong', 'loh xian jun', 'loh xian jun', 'li zibiao', 'wang ben zhong', 'goutam kumar dalapati', 'loh xian jun', 'loh xian jun', 'meysam sharifzadeh mirshekarloo', 'bai shiqiang', 'liu hong', 'wong ten it', 'wang pei', 'lim siew lay', 'jiang changyun', 'meysam sharifzadeh mirshekarloo', 'vignesh suresh', 'liu yanjun', 'vignesh suresh', 'seh zhi wei', 'pramoda kumari pallathadka', 'teo ee jin', 'yang chengyuan', 'liu hongwei', 'wong ten it', 'zong yun', 'liu hong fei', 'wang guan', 'liu shuhua', 'santiranjan shannigrahi', 'le hong quang', 'ivan tan chee kiang', 'tripathy sudhiranjan', 'michelle dela cruz regulacio', 'ye qun', 'michelle dela cruz regulacio', 'liu hong fei', 'wang guan', 'ooi zi en', 'chiam sing yang', 'pan ji sheng', 'xiao yang', 'mojtaba rahimabady', 'meysam sharifzadeh mirshekarloo', 'liu hongwei', 'liu hong fei', 'lin ming', 'liu yanjun', 'hendrix tanoto', 'lian jie', 'wang xizu', 'zhang zheng', 'liu hong', 'seh zhi wei', 'lin ming', 'khin yin win', 'wang fuke', 'wang fuke', 'liu hong fei', 'liu hong fei', 'jiang changyun', 'chen shuting', 'hiroyo kawai', 'wang fuke', 'liu yanjun', 'anton valentinovich sadovoy', 'liu hong', 'yap fung ling', 'paul francis free', 'liu yanjun', 'ooi zi en', 'goutam kumar dalapati', 'lin ting ting', 'li xu', 'song hong yan', 'wang guan', 'cedric troadec', 'chiam sing yang', 'liu hong fei', 'hendrix tanoto', 'manippady krishna kumar', 'liu hong fei', 'lin ming', 'liu yanjun', 'liu yanjun', 'ivan tan chee kiang', 'dennis tan cheng cheh', 'joel yang kwang wei', 'lai szu cheng', 'bai shiqiang', 'le hong quang', 'khin moh moh aung', 'mojtaba rahimabady', 'surani bin dolmanan', 'gregory goh kia liang', 'yao kui', 'wong ten it', 'liu hong fei', 'wang xizu', 'maureen janet tan beng hoon', 'joel yang kwang wei', 'vivian lin kaixin', 'zhang zheng', 'goutam kumar dalapati', 'liu hong fei', 'liu yanjun', 'tan lee kheng', 'ye enyi', 'deng jie', 'wang xizu', 'ren yi', 'ong kok haw', 'wang xizu', 'wang fuke', 'wang fuke', 'zhang zhongxing', 'surani bin dolmanan', 'wang xiaobai', 'liu zhao lin', 'lai szu cheng', 'li jian', 'ye enyi', 'loh xian jun', 'kong junhua', 'xiao yang', 'meysam sharifzadeh mirshekarloo', 'hiroyo kawai', 'deng jie', 'lim su hui', 'vivian lin kaixin', 'tan lee kheng', 'ong kian soo', 'm s m saifullah', 'yang ming', 'ren wei', 'zhang nan', 'yao kui', 'khin moh moh aung', 'tay siok wei', 'chellappan vijila', 'chellappan vijila', 'le hong quang', 'le hong quang', 'le hong quang', 'tay siok wei', 'chellappan vijila']\n"
     ]
    }
   ],
   "source": [
    "# Print a list of the authors. Looks clean.\n",
    "firstIMRE = [first[i][0].lower() for i in indLower]\n",
    "print firstIMRE"
   ]
  },
  {
   "cell_type": "code",
   "execution_count": 99,
   "metadata": {
    "collapsed": false,
    "scrolled": true
   },
   "outputs": [],
   "source": [
    "PRF_IMRE_first = PRF.iloc[indLower, :]\n",
    "PRF_IMRE_first.reset_index(inplace = True)"
   ]
  },
  {
   "cell_type": "markdown",
   "metadata": {},
   "source": [
    "Now we have a publication dataset that came from IMRE first authors."
   ]
  },
  {
   "cell_type": "code",
   "execution_count": 100,
   "metadata": {
    "collapsed": false,
    "scrolled": true
   },
   "outputs": [
    {
     "data": {
      "text/html": [
       "<div>\n",
       "<table border=\"1\" class=\"dataframe\">\n",
       "  <thead>\n",
       "    <tr style=\"text-align: right;\">\n",
       "      <th></th>\n",
       "      <th>index</th>\n",
       "      <th>Title_of_Paper</th>\n",
       "      <th>Journal_Title</th>\n",
       "      <th>Publication_Release_Number</th>\n",
       "      <th>Dept_or_Prog_</th>\n",
       "      <th>Significance_of_Paper</th>\n",
       "      <th>Publication_Date</th>\n",
       "      <th>First_Author</th>\n",
       "      <th>First_Author_Organisation</th>\n",
       "      <th>Other_Authors</th>\n",
       "      <th>Other_Authors_organisation</th>\n",
       "      <th>Corresponding_Authors</th>\n",
       "      <th>Corresponding_Authors_Organisations</th>\n",
       "      <th>Project_Finance_Code</th>\n",
       "      <th>Project_Title</th>\n",
       "      <th>Web_ID</th>\n",
       "    </tr>\n",
       "  </thead>\n",
       "  <tbody>\n",
       "    <tr>\n",
       "      <th>0</th>\n",
       "      <td>0</td>\n",
       "      <td>Recent Progress in Chemical Vapor Deposition G...</td>\n",
       "      <td>Progress in Crystal Growth and Characterizatio...</td>\n",
       "      <td>MPC/16-128</td>\n",
       "      <td>-MPC</td>\n",
       "      <td>Reviews the latest progress in CVD growth of T...</td>\n",
       "      <td>Jul-16</td>\n",
       "      <td>WONG Swee Liang</td>\n",
       "      <td>IMRE</td>\n",
       "      <td>LIU Hong Fei, CHI Dongzhi</td>\n",
       "      <td>IMRE, IMRE</td>\n",
       "      <td>CHI Dongzhi</td>\n",
       "      <td>IMRE</td>\n",
       "      <td>IMRE/15-2C0115</td>\n",
       "      <td>Large area growth of atomically thin 2D semico...</td>\n",
       "      <td>4696</td>\n",
       "    </tr>\n",
       "    <tr>\n",
       "      <th>1</th>\n",
       "      <td>3</td>\n",
       "      <td>Biodegradable Thermogelling Polymers for Biome...</td>\n",
       "      <td>MRS Bulletin</td>\n",
       "      <td>CT/16-229</td>\n",
       "      <td>-Consumer Care Technology</td>\n",
       "      <td>Thermogelling polymers belong to a class of st...</td>\n",
       "      <td>Aug-16</td>\n",
       "      <td>LIOW Sing Shy (IMRE)</td>\n",
       "      <td>IMRE</td>\n",
       "      <td>Anis ABDUL KARIM (IMRE), LOH Xian Jun (IMRE)</td>\n",
       "      <td>IMRE, IMRE</td>\n",
       "      <td>LOH Xian Jun (IMRE)</td>\n",
       "      <td>IMRE</td>\n",
       "      <td>IMRE/13-2P0806</td>\n",
       "      <td>Polymer Bank for Personal Care Applications</td>\n",
       "      <td>4693</td>\n",
       "    </tr>\n",
       "    <tr>\n",
       "      <th>2</th>\n",
       "      <td>4</td>\n",
       "      <td>Dual-responsive Reversible Photo/Thermogelling...</td>\n",
       "      <td>Journal of Polymer Science, Part A: Polymer Ch...</td>\n",
       "      <td>CT/16-227</td>\n",
       "      <td>-Consumer Care Technology</td>\n",
       "      <td>This work describes the synthesis of a novel p...</td>\n",
       "      <td>Jun-16</td>\n",
       "      <td>DOU Qing Qing (IMRE)</td>\n",
       "      <td>IMRE</td>\n",
       "      <td>LIOW Sing Shy (IMRE), LOH Xian Jun (IMRE), Wen...</td>\n",
       "      <td>IMRE, IMRE, Xiamen University</td>\n",
       "      <td>LOH Xian Jun (IMRE)</td>\n",
       "      <td>IMRE</td>\n",
       "      <td>IMRE/13-2P0806</td>\n",
       "      <td>Polymer Bank for Personal Care Applications</td>\n",
       "      <td>4692</td>\n",
       "    </tr>\n",
       "    <tr>\n",
       "      <th>3</th>\n",
       "      <td>8</td>\n",
       "      <td>Rational Design of Biomolecular Templates for ...</td>\n",
       "      <td>Advanced Healthcare Materials</td>\n",
       "      <td>BB/16-161</td>\n",
       "      <td>-Biomedical &amp; Biomimetic</td>\n",
       "      <td>This progress report reviews the state-of-the-...</td>\n",
       "      <td>Jul-16</td>\n",
       "      <td>YU Yong</td>\n",
       "      <td>IMRE</td>\n",
       "      <td>Beverly MOK Yin Leng, LOH Xian Jun, TAN Yen Nee</td>\n",
       "      <td>IMRE, IMRE, IMRE</td>\n",
       "      <td>TAN Yen Nee</td>\n",
       "      <td>IMRE</td>\n",
       "      <td>IMRE/14-8C0439</td>\n",
       "      <td>Development of highly efficient siRNA-conjugat...</td>\n",
       "      <td>4688</td>\n",
       "    </tr>\n",
       "    <tr>\n",
       "      <th>4</th>\n",
       "      <td>9</td>\n",
       "      <td>Bovine Serum Albulmin Protein-Templated Silver...</td>\n",
       "      <td>Advanced Healthcare Materials</td>\n",
       "      <td>BB/16-160</td>\n",
       "      <td>-Biomedical &amp; Biomimetic</td>\n",
       "      <td>Bovine serum albumin-templated silver nanoclus...</td>\n",
       "      <td>Jul-16</td>\n",
       "      <td>YU Yong</td>\n",
       "      <td>IMRE</td>\n",
       "      <td>TAN Yen Nee, CHELLAPPAN Vijila, Geng Junlong, ...</td>\n",
       "      <td>IMRE, IMRE, UIUC, Imperial College London</td>\n",
       "      <td>TAN Yen Nee</td>\n",
       "      <td>IMRE</td>\n",
       "      <td>IMRE/14-8C0439</td>\n",
       "      <td>Development of highly efficient siRNA-conjugat...</td>\n",
       "      <td>4687</td>\n",
       "    </tr>\n",
       "  </tbody>\n",
       "</table>\n",
       "</div>"
      ],
      "text/plain": [
       "   index                                     Title_of_Paper  \\\n",
       "0      0  Recent Progress in Chemical Vapor Deposition G...   \n",
       "1      3  Biodegradable Thermogelling Polymers for Biome...   \n",
       "2      4  Dual-responsive Reversible Photo/Thermogelling...   \n",
       "3      8  Rational Design of Biomolecular Templates for ...   \n",
       "4      9  Bovine Serum Albulmin Protein-Templated Silver...   \n",
       "\n",
       "                                       Journal_Title  \\\n",
       "0  Progress in Crystal Growth and Characterizatio...   \n",
       "1                                     MRS Bulletin     \n",
       "2  Journal of Polymer Science, Part A: Polymer Ch...   \n",
       "3                    Advanced Healthcare Materials     \n",
       "4                    Advanced Healthcare Materials     \n",
       "\n",
       "  Publication_Release_Number                Dept_or_Prog_  \\\n",
       "0               MPC/16-128                         -MPC     \n",
       "1                CT/16-229    -Consumer Care Technology     \n",
       "2                CT/16-227    -Consumer Care Technology     \n",
       "3                BB/16-161     -Biomedical & Biomimetic     \n",
       "4                BB/16-160     -Biomedical & Biomimetic     \n",
       "\n",
       "                               Significance_of_Paper Publication_Date  \\\n",
       "0  Reviews the latest progress in CVD growth of T...           Jul-16   \n",
       "1  Thermogelling polymers belong to a class of st...           Aug-16   \n",
       "2  This work describes the synthesis of a novel p...           Jun-16   \n",
       "3  This progress report reviews the state-of-the-...           Jul-16   \n",
       "4  Bovine serum albumin-templated silver nanoclus...           Jul-16   \n",
       "\n",
       "             First_Author First_Author_Organisation  \\\n",
       "0       WONG Swee Liang                      IMRE     \n",
       "1  LIOW Sing Shy (IMRE)                      IMRE     \n",
       "2  DOU Qing Qing (IMRE)                      IMRE     \n",
       "3               YU Yong                      IMRE     \n",
       "4               YU Yong                      IMRE     \n",
       "\n",
       "                                       Other_Authors  \\\n",
       "0                        LIU Hong Fei, CHI Dongzhi     \n",
       "1     Anis ABDUL KARIM (IMRE), LOH Xian Jun (IMRE)     \n",
       "2  LIOW Sing Shy (IMRE), LOH Xian Jun (IMRE), Wen...   \n",
       "3  Beverly MOK Yin Leng, LOH Xian Jun, TAN Yen Nee     \n",
       "4  TAN Yen Nee, CHELLAPPAN Vijila, Geng Junlong, ...   \n",
       "\n",
       "                   Other_Authors_organisation  Corresponding_Authors  \\\n",
       "0                                 IMRE, IMRE           CHI Dongzhi     \n",
       "1                                 IMRE, IMRE   LOH Xian Jun (IMRE)     \n",
       "2              IMRE, IMRE, Xiamen University   LOH Xian Jun (IMRE)     \n",
       "3                           IMRE, IMRE, IMRE           TAN Yen Nee     \n",
       "4  IMRE, IMRE, UIUC, Imperial College London           TAN Yen Nee     \n",
       "\n",
       "  Corresponding_Authors_Organisations Project_Finance_Code  \\\n",
       "0                               IMRE      IMRE/15-2C0115     \n",
       "1                               IMRE      IMRE/13-2P0806     \n",
       "2                               IMRE      IMRE/13-2P0806     \n",
       "3                               IMRE      IMRE/14-8C0439     \n",
       "4                               IMRE      IMRE/14-8C0439     \n",
       "\n",
       "                                       Project_Title  Web_ID  \n",
       "0  Large area growth of atomically thin 2D semico...    4696  \n",
       "1      Polymer Bank for Personal Care Applications      4693  \n",
       "2      Polymer Bank for Personal Care Applications      4692  \n",
       "3  Development of highly efficient siRNA-conjugat...    4688  \n",
       "4  Development of highly efficient siRNA-conjugat...    4687  "
      ]
     },
     "execution_count": 100,
     "metadata": {},
     "output_type": "execute_result"
    }
   ],
   "source": [
    "PRF_IMRE_first.head()"
   ]
  },
  {
   "cell_type": "markdown",
   "metadata": {},
   "source": [
    "Note: One can potentially capture more first authors by comparing abbreviations - this needs a better formatted (delimited) PRF!\n",
    "\n",
    "## Extract and normalize relevant CORR author names"
   ]
  },
  {
   "cell_type": "code",
   "execution_count": 129,
   "metadata": {
    "collapsed": false,
    "scrolled": true
   },
   "outputs": [
    {
     "data": {
      "text/plain": [
       "957"
      ]
     },
     "execution_count": 129,
     "metadata": {},
     "output_type": "execute_result"
    }
   ],
   "source": [
    "## Compare direct matches in lower cases\n",
    "indLowerCorr = []\n",
    "for ind, authorList in enumerate(corr):\n",
    "    for author in authorList:\n",
    "        if author.lower() in staffNameLower:\n",
    "            indLowerCorr.append(ind)\n",
    "            \n",
    "len(indLowerCorr) # First time the code is run: 931. Second time: 957."
   ]
  },
  {
   "cell_type": "code",
   "execution_count": 130,
   "metadata": {
    "collapsed": false
   },
   "outputs": [
    {
     "name": "stdout",
     "output_type": "stream",
     "text": [
      "0\n"
     ]
    }
   ],
   "source": [
    "## Third, compare cases where surname and given names are flipped\n",
    "indOrderCorr = []\n",
    "for ind, authorList in enumerate(corr):\n",
    "    for ind2, author in enumerate(authorList):\n",
    "        nameSplit = author.split(' ')\n",
    "        lastChar = nameSplit[-1]\n",
    "        nameSplit.pop()\n",
    "        firstChars = ' '.join(nameSplit)\n",
    "        if ' '.join((lastChar, firstChars)).lower() in staffNameLower:\n",
    "            indOrderCorr.append(ind)\n",
    "            corr[ind][ind2] = lastChar + ' ' + firstChars\n",
    "\n",
    "print len(indOrderCorr) # First time the code is run: 26. Second time: 0."
   ]
  },
  {
   "cell_type": "code",
   "execution_count": 67,
   "metadata": {
    "collapsed": false
   },
   "outputs": [
    {
     "name": "stdout",
     "output_type": "stream",
     "text": [
      "360\n",
      "500\n"
     ]
    }
   ],
   "source": [
    "counter = 0\n",
    "for i in indLower:\n",
    "    if i in indLowerCorr:\n",
    "        counter += 1\n",
    "print counter\n",
    "print len(indLower)"
   ]
  },
  {
   "cell_type": "markdown",
   "metadata": {},
   "source": [
    "Out of 500 first-author papers, 360 have IMRE CORRESPONDING authors too.\n",
    "\n",
    "The others have no IMRE first authors? Could be due to formatting issues. But for now, just ignore this.\n",
    "\n",
    "Therefore we have:\n",
    "- 140 papers that have only first authors from IMRE\n",
    "- 360 papers "
   ]
  },
  {
   "cell_type": "code",
   "execution_count": null,
   "metadata": {
    "collapsed": true
   },
   "outputs": [],
   "source": []
  },
  {
   "cell_type": "markdown",
   "metadata": {},
   "source": [
    "# Extract keywords"
   ]
  },
  {
   "cell_type": "markdown",
   "metadata": {},
   "source": [
    "This approach uses the NLTK and scikit-learn libraries for the tfidf method.\n",
    "\n",
    "- A corpus is created from all titles and abstract texts within the PRF_IMRE_first dataframe itself. The corpus is prefiltered to remove non-ascii characters."
   ]
  },
  {
   "cell_type": "code",
   "execution_count": 31,
   "metadata": {
    "collapsed": false
   },
   "outputs": [
    {
     "data": {
      "text/plain": [
       "['Recent Progress in Chemical Vapor Deposition Growth of Transition Metal Dichalcogenides  Reviews the latest progress in CVD growth of Transition Metal Dichalcogenides.  ',\n",
       " 'Biodegradable Thermogelling Polymers for Biomedical Applications  Thermogelling polymers belong to a class of stimuli-responsive hydrogels that undergo a macroscopic sol-to-gel transition in response to temperature. Much of the ongoing research in this fi eld is focused on hydrogels for biomedical applications as an injectable sustained drug-release matrix or scaffolds for tissue regeneration. Despite robust developments in biodegradable thermogelling polymers in recent decades, the fi eld still faces challenges in the optimization of materials properties. Thorough investigation must be performed to understand the effectiveness of drug delivery using hydrogel-forming polymer carriers. A highlighted case study on OncoGel, an experimental drug delivery depot formulation, sheds some light on the shortcomings of biodegradable thermogelling polymers as drug delivery systems. In this article, we highlight developments in biodegradable thermoresponsive polymers for biomedical applications over the past three years, with a focus on materials/ technical challenges and the approaches used to resolve these problems.  ',\n",
       " 'Dual-responsive Reversible Photo/Thermogelling Polymers Exhibiting High Modulus Change  This work describes the synthesis of a novel photo-thermogelling polymer which exhibits a high change in modulus upon UV irradiation. The sol-to-gel transition is reversible and can be achieved by exposure to sunlight or light at higher wavelengths.  ',\n",
       " 'Rational Design of Biomolecular Templates for Synthesizing Multifunctional Noble Metal Nanoclusters towards Personalized Theranostic Applications  This progress report reviews the state-of-the-art applications of biotemplated metal nanoclusters (NCs) in imaging, sensing, delivery and therapeutics, highlights the prerequisites of biotemplates in each modality of theranostics, and proposes a systematic framework to rationally design customizable biotemplates that incorporate multiple functionalities into a single NC for the development of next-generation, personalized nanomedicine.  ',\n",
       " 'Bovine Serum Albulmin Protein-Templated Silver Nanocluster (BSA-Ag13): An Effective Singlet Oxygen Generator for Photodynamic Cancer Therapy  Bovine serum albumin-templated silver nanocluster containing 13 silver atoms per cluster (BSA-Ag13) has been synthesized by using NaBH4 dissolved in NaOH as a controlling reducing agent. The as-synthesized BSA-Ag13 NC exhibits very high quantum efficiency (1.26) in singlet oxygen generation and has been demonstrated as an effective photodynamic therapy agent to kill cancer cell.  ',\n",
       " 'All earth abundant materials for low cost solar-driven hydrogen production  Earth abundantmaterialsbasedphotoelectrochemicalcells(PECs)aredesignedusingaluminiumalloyed iron silicide(FeSi(Al))asauxiliaryelectrode,tungstenoxide(WO3) andiron-oxide(Fe2O3) asworking electrodes forsolardrivenhydrogen(SH)production  ',\n",
       " 'Measuring protein isoelectric points by AFM force spectroscopy using trace amounts of sample  The method developed can Measure protein isoelectric points using trace amounts of sample  ',\n",
       " 'Controlled Growth of Metal-Organic Framework on Gold Na-noparticles  The growth of a zeolitic imidazolate framework (ZIF-8) on Au nanoparticles (NPs) is controlled through tuning of the Au NP surface structure using competitive ligands, which results in concentric coreshell, eccentric coreshell or Janus nano-hybrids. With these three types of controlled structures, we demonstrated the influence of the ZIF-8 shell on the catalytic performance of Au NPs.  ',\n",
       " 'Transparent hydrophobic antimicrobial coatings by in-situ synthesis of Ag nanoparticles in a surface-grafted amphiphilic comb-copolymer  A transparent, ultrathin, and hydrophobic surface coating consisting of an amphiphilic comb-copolymer monolayer incorporating in-situ synthesized silver nanoparticles was developed. The coating exhibits superior antibacterial properties.  ',\n",
       " 'Dielectrophoresis Directed Nanocolloidal and Supramolecular Assembly  Dielectrophoresis was intially invented for the manipulation of microparticles. The recent advances in its applications in the nanocolloidal and macromolecular manipulations were summarized in this paper.  ',\n",
       " 'Ultrahigh photoconductivity of bandgap-graded CdSSe nanowires probed by terahertz spectroscopy  The demonstration of the ultrahigh photoconductivity makes bandgap-graded CdSxSe1-x nanowires a promising candidate as building blocks for nanoscale electronic and photonic devices.  ',\n",
       " 'Photothermally responsive gold nanoparticles conjugated polymer-grafted porous hollow silica nanocapsules  We have demonstrated a new technique of remotely laser-triggered release of encapsulated compounds from gold nanoparticles conjugated polymer-grafted porous hollow silica nanoparticles  ',\n",
       " 'Interfacial Interaction between HfO2 and MoS2: From Thin Films to Monolayer  Study the interaction between HfO2 and MoS2 and determine their band offsets.  ',\n",
       " 'Cubic Polyhedral Oligomeric Silsesquioxane Based Functional Materials: Synthesis, Assembly, and Applications  In this Focus Review, we summarized the recent developments on the chemistry and applications of POSS-based molecules and polymers.  ',\n",
       " 'Bio-degradable Electronics: Cornerstone for sustainable electronics and transient applications  Provides a review of the upcoming topic of biodegradable electronics, with focus on the materials used and fabrication methods  ',\n",
       " 'Dodecylated lignin-g-PLA for effective toughening of PLA  New lignin based toughening agent for PLA with 40 times increase in elongation.  ',\n",
       " 'Engineering poly(lactide)-lignin nanofibers with antioxidant activity for biomedical application  PLLA/PLA-lignin nanofibers, with excellent antioxidant activities and biocompatibility, hold great potential to be used as biomaterials for protecting cells against oxidative stress conditions.  ',\n",
       " 'Defect analysis and performance evaluation of p-type epitaxial GaAs layer on Ge substrate for GaAs/Ge based advanced device  Defective surface native oxides of arsenic and gallium oxides are observed for as-grown epi-GaAs layer. The arsenic oxide significantly reduced after thermal treatment as seen from XPS observations. The structural defects at surface enhanced after thermal treatment which is clearly probed by micro-Raman spectroscopy. Atomic layer deposited (ALD) Al2O3 significantly improved the interface properties after thermal treatment compared with bare epi-GaAs layer.  ',\n",
       " 'Novel MII (M = Mn, Fe, Co, Ni) Coordination Assemblies Based on 2-(((1-(Pyridin-n-ylmethyl)-1H-1,2,3-triazol-4-yl)methyl)thio)pyridine Ligands  Five new coordination polymers and mononuclear complexes have been synthesized using two pyridyl and thioether hybridised 1,2,3-triazole ligands. This work demonstrated the different moleular structures with same ligand probably due to different metal center geometries, oxidation states and size of metal centers.  ',\n",
       " 'Comparative Study of Plasmonic Colors from All-Metal Structures of posts and pits  Thin-film, isolated metal nanostructures with localized plasmon resonances in the visible spectrum are promising for commercial adoption of ultrahigh-resolution color printing. Metallization processes used in industries, however, tend to produce thick and continuous metal coatings. Here, we demonstrate color elements through surface textures, bringing plasmonic colors closer to commercial processes.  ',\n",
       " 'High-resolution X-ray diffraction and micro-Raman scattering studies of Ge(:Ga) thin films grown on GaAs (001) substrates by MOCVD  We have employed high-resolution X-ray diffraction (HRXRD) and micro-Raman scattering to study the structural and lattice vibrational dynamic properties of heavy Gadoped Ge thin films (i.e., Ge:Ga) epitaxially grown by metalorganic chemical vapor deposition on GaAs (001) substrates.  ',\n",
       " 'Recent Advances in Stereocomplexation of Enantiomeric PLA-Based Copolymers and Applications  This paper presents recent advancements in the synthesis of PLA-based block/graft copolymers having complex architectures, with emphasis on the enhanced material performances induced by PLA stereocomplex formation.  ',\n",
       " 'Method and Analysis for Determining Yielding of Titanium Alloy with Nonlinear Rayleigh Surface Waves  Methods for determining yielding of titanium (Ti) alloy material with piezoelectric transducers and second harmonic Rayleigh ultrasonic wave are developed.  ',\n",
       " 'Progress in Development of Flexible Metal-Air Batteries  The review paper discuss the latest development on flexible metal air batteries which are of interest as an energy storage for low cost electronic devices.  ',\n",
       " 'Droplets induced dot, dot-in-hole, and hole structures in GaGe thin films grown by MOCVD on GaAs substrates  We report observations and origins of Ga-rich GaGe droplets and the localized etching of Ge-rich GaGe thin films grown on GaAs (100) substrates by metalorganic chemical vapor deposition.  ',\n",
       " 'Gap States at Low-Angle Grain Boundaries in Monolayer Tungsten Diselenide  In this research, scanning tunneling microscopy and spectroscopy is used to investigate the atomic and electronic structure of low-angle grain boundaries (GB) of monolayer tungsten diselenide (WSe2), which is possibly the first clear elucidation of the atomic structure and the corresponding electronic properties of GB defects in 2D transition metal dichalcogenide materials.  ',\n",
       " 'Easy fabrication of high quality nickel mold for deep polymer microfluidic channels  We develop a new method of fabricating high quality and highly durable nickel molds for hot embossing polymer chips. Our investigations found that a hole mask can minimize the diffraction effect, reduce the adhesion of the AZ-125nxT to the photomask in photolithography, and facilitate clean development of the photoresist patterns.  ',\n",
       " 'Thermally Stable and Sterilizable Polymer Transistors for Reusable Medical Devices  We realize a thermally stable polymer thin film transistor (TFT) that is able to endure the standard autoclave sterilization for reusable medical devices.Our TFT design along with experimental results reveal the opportunity on organic/polymer flexible TFTs in sterilizable/reusable medical device application.  ',\n",
       " 'Effect of morphological and structural properties on SIMS depth profiles of InGaN/GaN multiple quantum wells grown on sapphire by MOCVD  The decrement in the well-width caused remarkable changes in depth proles of In/Ga probed by secondary ion mass spectroscopy (SIMS) from the MQW structures, which is related to the varied eects of cratering roughness and accumulative interface roughness. The SIMS depth proles also revealed increased In incorporations and QW-period in the QWs near the top surface for the MQW structure with larger well-width. They are most likely associated with surface defects, accumulative interface roughness, and strain evolutions along the growth direction.  ',\n",
       " 'Re(I) Carbonyl Complexes containing Pyridyl-Imine and Amine Ligands: Synthesis, Characterization and their Catalytic Olefin Epoxidation Activities  Re(I) pyridyl-imine or amine complexes were synthesized and characterized. Their catalytic activity towards cis-cyclooctene epoxidation was reported. The oxidation of Re(I) complexes by tert-butyl hydroperoxide was investigated  ',\n",
       " 'Polyhydroxyalkanoates: Opening Doors for a Sustainable Future  We review the most recent progress of PHA modification through physical and chemical approaches and their applications  ',\n",
       " 'The 5th Molecular Materials Meeting (M3) @ Singapore  Introduces the 5th M3 @ Singapore, including the major talks and work published in this commemorative issue.  ',\n",
       " 'Safe and efficient membrane permeabilizing polymers based on PLLA for antibacterial applications  We reported the safe and efficient membrane permeabilizing polymers based on PLLA and their antibacterial applications  ',\n",
       " 'Hybrid 1,2,3-Triazole Supported Cu(II) Complexes: Tuning Assembly and Weak Interaction-Driven Crystal Growth  This work presents the formation of new copper complexes with triazole ligands. The structural-growth relationship indicates that the anisotropic growth was ascribed to hydrogen bond-driven assembly with preferred directions.  ',\n",
       " 'Stress Effects on Stabilizing Antiferroelectric Phase in Multilayer Ceramics  The findings in antiferroelectric ceramic multilayer exhibit a new strategy to tune structure and functional properties of multilayer ceramics through stress engineering for achieving device applications  ',\n",
       " 'Empirical Formulae in Correlating Droplet Shape and Contact Angle  Spherical dome can correlate the contact angles to the droplet shape; however, it has the intrinsic error caused by gravity induced shape deformation. This paper demonstrates a simple method of obtaining an empirical formula, to correct the gravity-induced error in the spherical dome model for contact angle calculation.  ',\n",
       " 'Synthesis of a New Poly([R]-3-hydroxybutyrate) RAFT Agent  Poly[(R)-3-hydroxybutyrate] (PHB) has attracted more and more attention in biomedical applications in recent years, due to its excellent properties of sustainability, biodegradability and biocompatibility. In this work, purified natural PHB was modified by 1-hexanol through transesterification reaction to form monohydroxylated PHB. The kinetic process of transesterification was carefully investigated. The mono-hydroxylated PHB was reacted with the thiocarbonylthio compound to generate a biodegradable macro mono-hydroxylated PHB chain transfer agent (CTA), which could react with other monomers to produce block copolymers. The monomer, 2-dimethylaminoethyl methacrylate (DMAEMA) was chosen to demonstrate the copolymerization process and the block copolymer PHB-b-PDMAEMA was obtained.  ',\n",
       " 'Functionalization of 2D Transition Metal Dichalcogenides for Biomedical Applications  Reviews state of art of functionalisation of transition metal dichalcogenides for use in biomedical fields.  ',\n",
       " 'Multinary I-III-VI2 and I2-II-IV-VI4 Semiconductor Nanostructures for Photocatalytic Applications  This review paper provides a concise summary of recent research on the colloidal synthesis of ternary I-III-VI2 and quaternary I2-II-IV-VI4 semiconductor nanostructures and their use in photocatalytic applications, with focus on hydrogen production and organic dye degradation.  ',\n",
       " 'Silicon Multi-Meta-Holograms for the Broadband Visible Light  We report a transmission-type meta-hologram achieving images in three colors, free from high-order-diffraction and twin-image issues, with 8-level modulation of geometric phase by controlling photon spin via precisely patterned Si nanostructures with varying orientations. Our work enables the potential for compact color-display chips using mature semiconductor processes.  ',\n",
       " 'Synthesis of iron sulfide and iron oxide nanocrystal thin films for green energy applications  In terms of processing cost, feasibility in scale-up for mass production, material engineering for efficiency, etc., physical vapor depositions (PVDs), e.g., magnetron-sputtering deposition, have great advantages. Here, we present our recent studies on synthesis of iron sulfide and oxide layered and nanostructured films by combining PVD and thermal vapor sulfurization/oxidation techniques.  ',\n",
       " 'Tuning Energy Levels and Film Morphology in Benzodithiophene-Thienopyrrolodione Copolymers Via Nitrogen Substitutions  Novel synthesis of 4,8-disubstituted benzobisthiazole. Energy and morphology tuning via nitrogen substitution  ',\n",
       " 'Branchlike nano-electrodes for enhanced terahertz emission in photomixers  The performance of THz photomixers is improved by sub-wavelength nano-electrodes with unique design in the active area.  ',\n",
       " 'Large area sub-100 nm direct nanoimprinting of palladium nanostructures  Direct imprinting of metals is predominantly achieved by using polydimethylsiloxane (PDMS) molds to pattern metal nanoparticles and subsequently melting them to form continuous structures. Although such a combination can successfully imprint metals, the yield and reproducibility are usually low when sub-100 nm features over large areas are desired. In this work, we demonstrate a simple method involving the addition of a cross-linker ethylene glycol dimethacrylate (EDMA) to a palladium metal precursor, and its in situ free radical polymerization during imprinting, which not only dramatically increases the yield to ~100% but also enables high reproducibility.  ',\n",
       " 'Electrospinning: a facile technique for fabricating functional nanofibers for environmental applications  This review paper gives an overview on the latest research progress in the fabrication and utilization of functional polymer/ceramic/carbon nanofibers generated by electrospinning for air and water purification, as well as their applications as sensors for pollutant monitoring and control.  ',\n",
       " 'Mussel-inspired one-pot synthesis of transition-metal and nitrogen co-doped carbon (M/N-C) as efficient oxygen catalyst for Zn-air batteries  we report a robust approach for easy synthesis of M/N-C hybrids in high yield, which includes a mussel-inspired polymerization reaction at room temperature and a subsequent carbonization process. Co-PDA-C was found the most promising catalyst among the obtained hybrids with excellent towards both ORR and OER. This was further proven in Zn-air batteries.  ',\n",
       " 'Studies into the Yb-doping Effects on Photoelectrochemical Properties of WO3 Photocatalysts  Yb-doped WO3 photocatalysts are sub-stoichiometric WO3-x due to substitution of W6+ with Yb3+ cation, display shorter electron-hole recombination time and higher levels of donor densities, leading to higher and more stable photocurrent densities.  ',\n",
       " 'Biocompatible Carbon Dots Clusters with Tunable Sizes for Bioimaging Application  Biocompatible carbon dots clusters with tunable sizes have been prepared for bioimaging application.  ',\n",
       " 'Rotation of in-plane structural anisotropy at the interface of an a-plane InN/GaN heterostructure grown by MOCVD on r-plane sapphire  We have epitaxially grown InN thin films on c- and r-plane sapphire substrates by metalorganic chemical vapor deposition (MOCVD) using GaN buffer.These observations, together with the direction of the unintentional miscut (~0.09) of the r-plane sapphire substrate, provide evidence for the effect of island coalescence on lattice tilt in epitaxial growth with large lattice mismatches.  ',\n",
       " 'Black-wax assisted lift-off and transfer of CVD grown graphene from copper foil substrates to various foreign substrates  The authors have lifted-off and transferred graphene nanosheets, which were grown by chemical vapor deposition on copper foil substrates, to flat, nanostructured, and microscale-patterned substrates.The authors also demonstrated that the transferred graphene nanosheets can apparently tune the spectral polarization properties of surface grooved Si.  ',\n",
       " 'Crystallographic tilt and in-plane anisotropies of an a-plane InGaN/GaN layered structure grown by MOCVD on r-sapphire using ZnO buffer  Specific analyses revealed that partial dislocations and anisotropic in-plane strains, rather than surface-related effects, wafer curvature or stacking faults, are the dominant factors for the structural anisotropy. The orientation of the partial dislocations is most likely affected by the miscut of the substrate, e.g. via tilting of the misfit dislocation gliding planes created during island coalescences.  ',\n",
       " 'Temperature-dependent Microstructural Evolution of Ti2AlN Thin Films Deposited by Reactive Magnetron Sputtering  This paper investigated the temperature-dependent composition, crystallinity, morphology and hardness of the Ti2AlN MAX phase thin films deposited by reactive magnetron sputtering. The mechanism behind the evolution of the microstructure with growth temperature is discussed in terms of surface energies, lattice mismatch and enhanced adatom diffusion at high growth temperatures.  ',\n",
       " 'Towards lignin-based functional materials in a sustainable world  A tutorial review to summarize the synthesis and applications of lignin-based functional polymers  ',\n",
       " 'Elastic Poly(e-caprolactone)-polydimethylsiloxane Copolymer Fibers with Shape Memory Effect for Bone Tissue Engineering  The novel elastic and porous shape memory fibers would be a good cadidate for bone tissue engineering and for other biomedical applications  ',\n",
       " 'Effect of crystallinity on photocatalytic performance of Co3O4 water-splitting cocatalyst  This is the first systematic and comprehensive study of the effect of cocatalyst crystallinity on water-splitting performance.  ',\n",
       " 'Emerging Supramolecular Therapeutic Carriers Based on Host-Guest Interactions  This paper present the state-of-art in supramolecular therapeutic carriers based on host-guest interactions  ',\n",
       " 'Color tunable low cost transparent heat reflector using copper and titanium oxide for energy saving application  Multilayer coating structure comprising a copper (Cu) layer sandwiched between titanium dioxide (TiO2) were demonstrated as a transparent heat reflecting (THR) coating on glass for energy-saving window application. The main highlight is the utilization of Cu, a low-cost material, in-lieu of silver which is widely used in current commercial heat reflecting coating on glass.  ',\n",
       " 'Development of a highly transparent superamphiphobic plastic sheet by nanoparticle and chemical coating  A highly transparent superamphiphobic plastic sheet was developed. Synthesized silica nanoparticles were sprayed on PMMA, followed by fluorosilane drop-coating. The amphiphobicity of the plastic sheet can be tuned by the surface coverage of the silica nanoparticles distributed on the PMMA surface, and it agrees with our contact angle calculations.  ',\n",
       " 'An experimental and theoretical investigation of the anisotropic branching in gold nanocrosses  In this work, we studied the how to use copper species to control the growth of novel cosss-shaped gold nanostructures. These gold nanostructures exhibit strong NIR absorption and remarkable plasmonic properties, making them promising materials for optical and biomedical applications.  ',\n",
       " 'Optimal shell thickness of metal@insulator nanoparticles for net enhancement of photogenerated polarons in P3HT films  Oxide-encapsulated Ag NPs are embedded in a P3HT polymer layer. There is an optimal oxide thickness which maximizes field enhancement effects while suppressing recombination.  ',\n",
       " 'Graphene Nanomesh Formation by Fluorine Intercalation  Paper revealing possiblity of bottom-up formation of graphene nanomesh.  ',\n",
       " 'Facile Layer-by-Layer Self-assembly towards Enantiomeric PLA Stereocomplex Coated Magnetite Nanocarrier for Highly Tunable Drug Deliveries  A PLA SC platform is designed to fabricate various stimuli-responsive drug delivery carriers  ',\n",
       " 'On-Chip Discrimination of Orbital Angular Momentum of Light with Plasmonic Nanoslits  We propose a nanoplasmonic technology to spatially sort various optical orbital angular momentum (OAM) modes of light on the metallic surface, which is fundamentally resulted from constructive interference of a helical-phase modulated surface wave excited by a vortex beam. This technique might lead to broad benefits across the fields of optical communications, plasmonic physics and singular optics.  ',\n",
       " 'Nanoscale Characterization of Oxidized Ultrathin Co-films by Ballistic Electron Emission Microscopy  We demonstrate that BEEM has both the spatial and energy resolution to distinguish between Co and oxidized-Co at the few nanometer regime. This opens the way for characterizing oxide content in Co-based nano-devices in a non-destructive way in contrast to other techniques such as TEM.  ',\n",
       " 'Electronic characterization of a single dangling bond on n- and p-type Si(001)-(21):H  We characterized the electronic properties of a single dangling bond on a Si(001):H surface in detail using both experimental and theoretical approaches for possible application in construction of single-atom devices.  ',\n",
       " 'PLA Stereocomplex Coated Magnetite Nanoparticles as Highly Tunable Drug Deliveries  rejected by the journal  ',\n",
       " 'Optically reconfigurable metasurfaces and photonic devices based on phase change materials  We have developed a new and flexible platform for creating optical devices. We can modify, build, erase and rebuild metadevices in the field allowing innovative approaches to building optical systems  ',\n",
       " 'Aluminium alloyed iron-silicide/silicon solar cells: A simple approach for low cost environmental-friendly photovoltaic technology  This work demonstrates the fabrication of silicide/silicon based solar cell towards the development of low cost and environmental friendly photovoltaic technology. A heterostructure solar cells using metallic alpha phase (a-phase) aluminum alloyed iron silicide (FeSi(Al)) on n-type silicon is fabricated with an efficiency of 5.1% through interface engineering.  ',\n",
       " 'Defect analysis of sputter grown cupric oxide for optical and electronics application  The DLTS studied showed that the defect density significantly reduced for the film grown at a high working pressure. It has also been shown that doping density increases for the film grown at a high working pressure. Transmission electron microscopy analysis revealed the improvement of the crystal quality of the CuO thin film prepared at the high working pressure.  ',\n",
       " 'An injectable double network hydrogel for cell encapsulation  It investigates the possibility of developing a hydrogel that could deliver cells to targeted areas without the need to gel in situ. Upon fully developed, it would reduce the reliance on thermoresponsive gel for injectable therapeutic purposes.  ',\n",
       " 'Nanomaterials for Energy-Efficient Applications  1) A brief summary of the current research activities on energy related nanomaterials 2) A brief introduction on why and how nanomaterials can have a potential in energy efficient applications.  ',\n",
       " 'Chiral Plasmonics: Fabrication and Applications  In this review article, we will focus on advanced fabrication techniques and some promising applications of chiral plasmonics. Our perspective on the upcoming challenges and opportunities in this emerging field is also provided.  ',\n",
       " 'Branchlike nano-electrodes for enhanced terahertz emission in photomixers  The performance of THz photomixers is improved by sub-wavelength nano-electrodes with unique design in the active area.  ',\n",
       " 'Photon upconversion nanomaterials  Editorial  ',\n",
       " 'Fast Electrical Modulation in Plasmonic Enhanced Textured Light Emitting Diode  Enhanced recombination rate, and thus electrical modulation, is achieved on a novel plasmonic platform that exploits the spontaneous formation of a V-pit-texture on the surface of an InGaN blue light-emitting diode (LED). As a result of the geometry, sharpness, and high density of V-pits, the decay rate can be increased 15-fold even when the quantum well (QW) is separated more than 120 nm from the Ag coated V-pits.  ',\n",
       " 'Broadband Spin-Controlled Focusing via Logarithmic-spiral Nanoslits of Varying Width  This work presents analytical, numerical and experimental demonstrations of light diffracted through a logarithmic spiral (LS) nanoslit, which forms a type of switchable and focustunable structure. Benefitting from the varying width of the LS-nanoslit, this work opens up new opportunities for tuning and spatially separating broadband light at the micrometer scale  ',\n",
       " 'A Thermally Stable and Reversible Microporous Hydrogen-Bonded Organic Framework: Aggregation Induced Emission and Metal Ion-sensing Properties  A microporous hydrogen-bonded organic framework (HOF) derived from a polyhedral oligomeric silsesquioxane intermediate and an aggregation-induced emission luminogen tetraphenylethene derivative was reported. This HOF can form nanoparticles in organic solvents and its fluorescence could be selectively quenched by copper ions.  ',\n",
       " 'Dithienothiophene-based Cross-linked Copolymers Containing Triphenylamine for Electrochromic Applications  A series of dithienothiophene-based electrochromic polymers were synthesized. Incorporation of triphenylamine into the polymer chains has resulted in a significant increase in the redox stability, rendering it a potential method to create high performance electrochromic polymers.  ',\n",
       " 'POLYMER COMPOSITES FOR INTELLIGENT FOOD PACKAGING  In this review, the current progress of science and technology development of polymer composites for intelligent food packaging will be highlighted. Future directions and perspectives for exploring polymer composites for intelligent food packaging to reveal freshness and quality of food packaged will also be put forward.  ',\n",
       " 'A thixotropic polyglycerol sebacate-based supramolecular hydrogel showing UCST behavior  This hydrogel system is injectable yet strong enough to provide support  features, making it a very suitable candidate as a vehicle for injectable sustained-release drug delivery, cell delivery, tissue engineering scaffold as well as for cosmetics and skincare applications.  ',\n",
       " 'Structural basis for the structure-activity behavior of oxaliplatin and its enantiomeric analogues - A Molecular Dynamics Study of platinum-DNA intrastrand cross-link adducts  Structural basis for the structure-activity behavior of oxaliplatin and its enantiomeric analogues  ',\n",
       " 'Writing Nanopatterns with Electrochemical Oxidation on Redox Responsive Organometallic Multilayers by AFM  Nanoelectrochemical patterning of redox responsive organometallic poly(ferrocenylsilane) (PFS) multilayers is demonstrated by electrochemical dip pen lithography (EDPN).  ',\n",
       " 'Cationic micelles based on polyhedral oligomeric silsesquioxanes for enhanced gene transfection  Novel copolymers, enables somutaneous drug-gene encapsulation, display excellent gene transfection efficiency compared to polyethylenimine (PEI) or PDMAEMA homopolymers.  ',\n",
       " 'Utilising inorganic nanocarriers for gene delivery  Review the field with different materials, We further propose alternative approaches and suggest future pathways towards the practical use of multifunctional nanocarriers.  ',\n",
       " 'Multi-functional Fluorescent Carbon Dots with Antibacterial and Gene Delivery Properties  Novel Natrial derived carbon dots for Gene transfection with high efficiency.  ',\n",
       " \"Ultrahighly Electron-Deficient Pyrrolo-acenaphtho-pyridazinedione Based Donor-Acceptor Conjugated Polymers for Electrochromic Applications  Novel electron acceptors 2-alkyl-6,9-di(thiophen-2-yl)-1H-pyridazino[4',5':2,3]indeno[6,7,1-def]isoquinoline-1,3(2H)-dione and 2-alkyl-6,9-di(furan-2-yl)-1H-pyridazino[4',5':2,3]indeno[6,7,1-def]isoquinoline-1,3(2H)-dione derived from pyrrolo-acenaphtho-pyridazine-dione (PAPD) with a very low-lying lowest unoccupied molecular orbital (LUMO) level have been synthesized. Their donor-acceptor type conjugated polymers showed good EC properties.  \",\n",
       " 'Application of NMR Spectroscopy for the Characterization of Dietary Polyphenols  Dietary polyphenols represent a large class of naturally occurring phenolic compounds which have been well investigated as antioxidants, radical scavengers and other health-promoting agents. This book chapter summarizes NMR spectroscopy application in food science and technology, such as quality control and metabolomics studies.  ',\n",
       " 'Bulk Heterojunction Solar Cells: Opportunities and Challenges  This book chapter concentrates on an overview of the academic research on the topic of bulk heterojunction solar cells, which include the new material development, morphology control and large scale synthesis. The economic aspects of BHJ technology are highlighted as well.  ',\n",
       " 'Liquid Crystalline Semiconducting Polymers for Organic Field-Effect Transistor Materials  A comprehensive overview of the mesogenic properties as well as the OFET device performance of liquid crystalline conjugated polymers is summarized in this book chapter.  ',\n",
       " 'Nanogrooves-guided Slot-die Coating for Highly Ordered Polymer Films and High-mobility Transistors  A nanogroove-guided slot-die coating technique has been developed to manipulate the alignment of polymer chains within a short processing time. A combination of directional movement of slot-die and uniaxial nanogrooves on the substrate for the unidirectional flow of solution suppresses the multiple degrees of conformational freedom, resulting in long-range oriented polymer films and a high field effect mobility of ~5 cm2 V-1 s-1.  ',\n",
       " 'CVD growth of MoS2-based two-dimensional materials  We have reviewed the CVD growth methods for MoS2-based 2D materials.  ',\n",
       " 'A Rapid and Quantitative Fluorimetric Method for Protein-Targeting Small Molecule Drug Screening  A protocol for small molecular drug screening based on in-situ synthesis of ultrasmall fluorescent gold nanoclusters (Au NCs) using drug-loaded protein as template is presented. This method is simple to determine the binding affinity of drugs to a target protein by a visible fluorescent signal emitted from the protein-templated Au NCs.  ',\n",
       " 'Engineering Structural Diversity in Gold Nanocrystals by Ligand-Mediated Interface Control  This work systematically studied the ligand-mediated interface control in seeded growth of gold nanocrystals, leading to diversified nanostructures with an enhanced SERS activity, which is supported by 3D TEM and numerical modelling. This greatly enriched the plasmonic nanostructure toolbox for diverse applications including nanoparticle-based optical nucleic acid biosensors.  ',\n",
       " 'Improvement of CH3NH3PbI3 Formation for Efficient and Better Reproducible Mesoscopic Perovskite Solar Cells  High performance perovskite solar cells are obtained through optimization of the formation of CH3NH3PbI3 nanocrystals on mesoporous TiO2 film. The PbI2 film dried by solvent extraction shows enhanced CH3NH3PbI3 conversion in comparison to the thermally dried PbI2 film. The as-deposited PbI2 wet film, without any further drying, exhibits complete conversion to CH3NH3PbI3 in MAI solution, and resulted in PSCs efficiency of 15.60 % with a much better reproducibility.  ',\n",
       " 'Aqueous Metal Oxide Inks for Modifying Electrode Work Function in Polymer Solar Cells  A method to prepare aqueous metal oxide inks for tuning the work function (WF) of electrodes is demonstrated. Thin films prepared from the metal oxide ink based on vanadium oxide (V2O5) nanoparticles are found to increase the WF of an indium-tin-oxide (ITO) electrode. ITO substrates modified with V2O5 films are applied as a hole selective layer (HSL) in polymer solar cells (PSCs) using a poly(3-hexylthiophene) and [6,6]-phenyl-C61 butyric acid methyl ester blend as a photoactive layer. The PSCs prepared with V2O5-modified ITO show better device performance, achieving a power conversion efficiency of 3.6%, demonstrating 15% enhancement compared to conventional ITO/poly(3,4-ethylenedioxythiophene):poly(styrenesulfonate) (PEDOT-PSS) based devices.  ',\n",
       " 'Assembly of photoluminescent [CunIn] (n = 4, 6 and 8) clusters by clickable hybrid [N,S] ligands  Extending the bridge to the sulfur donor moiety brings this coordinating group into an active role in stabilizing large clusters. The isolation of these complexes raises the possibility for material growth and modification by introduction and integration of additional supporting interactions.  ',\n",
       " 'Perfluoropolyether/poly(ethylene glycol) triblock copolymers with controllable self-assembly behavior for highly efficient anti-bacterial materials  A series of PFPE/PEG triblock copolymers PEG/PFPE/PEG (P1P3) and PFPE/PEG/PFPE (P4P5) were prepared via thiolene click reaction in high yields. The anti-bacterial properties of the spin-coated films (P1P3) were tested against E. coli and S. aureus and remarkable anti-bacterial properties were observed.  ',\n",
       " 'Red-to-black electrochromism of 4,9-Dihydro-s-indaceno[1,2-b:5,6-b]dithiophene-Embedded Conjugated Polymers  4,9-dihydro-s-indacano[1,2-b:5,6-b]dithiophene-based conjugated polymers were synthesized. Electrochromic devices showed a rare and reversible colour change between dark red at neutral state and black at oxidized state with optical switching contrast ratios of up to 50% at ?max and 90% at 1500 nm in the visible and NIR region, respectively.  ',\n",
       " 'pi-po Interactions Mediated Self-Assembly of Gold Nanoparticles into Single Crystalline Superlattices in Solution  It reports a new technique to facily assembly of Au nanoparticles into single crystalline like superlattices with tunable optical plasmon change.  ',\n",
       " 'Amorphous ruthenium nanoparticles for enhanced electrochemical water splitting  This paper demonstrates an optimized fabrication of amorphous Ru nanoparticles through annealing at various temperatures ranging from 150 to 700 C, which are used as water oxidation catalyst for effective electrochemical water splitting under a low overpotential of less than 300 mV.  ',\n",
       " 'Fabrication of uniform-sized poly-?-caprolactone microspheres and their applications in human embryonic stem cell culture  This paper reports the fabrication of uniform-sized poly-?-caprolactone (PCL) microspheres by using a microfluidic device, and their validation as microcarriers for human embryonic stem cells culture. When coated with extracellular matrix (ECM) proteins, these PCL microspheres provide a matrix that is capable of supporting the expansion of human embryonic stem cells.  ',\n",
       " 'Characteristics of Biodegradable Poly(Butylene Succinate) Nanocomposites with Graphene Nanosheets  PBS nanocomposites with graphene nanosheets were prepared by melt compounding. We report on their structure and their thermal, electrical, and mechanical properties. The thermal stability of the nanocomposite increased by 358C compared with that of neat PBS. The crystallization and melting behavior of the PBS matrix in the presence of dispersed graphene nanosheets were studied by differential scanning calorimetry and polarised optical microscope. We also observed an interesting phenomenon in the PBS/graphene nanocomposites from our FTIR investigation. b-form of PBS crystals are formed in the composite samples with 5 wt% graphene loading, which otherwise forms in pure PBS only under stress. We observed 12% modulus enhancement for 2 wt% PBS/graphene nanocomposites. The electrical conductivity increased to 105-fold for 5 wt% PBS/graphene nanocomposites.  ',\n",
       " 'Fabrication of Nanoparticles of Silymarin, Hesperetin and Glibenclamide by Evaporative Precipitation of Nanosuspension for Fast Dissolution  A novel method called evaporative precipitation of nanosuspension was used to prepare nanoparticles of poorly water soluble drugs, namely silymarin, hesperetin and glibenclamide, with the aim of improving their rate of dissolution.  ',\n",
       " 'nanostructured perovskite LaCo1-xMnxO3 as bifunctional catalysts for rechargeable metal-air batteries  An efficient and durable bifuntioncal catalysts is developed. The optimized composition in LaCo1-xMnxO3 is LaCo0.8Mn0.2O3.  ',\n",
       " \"Benzo[1,2-c;4,5-c']Bis[1,2,5]Thiadiazole in Organic Optoelectronics: A Mini-Review  The paper reviews optoelectronic research on benzo[1,2-c;4,5-c']bis[1,2,5]thiadiazole, an important building block for low bandgap and high performance organic semiconductor material and its future directions.  \",\n",
       " 'Single crystal Au triangles as reconfigurable contacts for atomically smooth surfaces: Ultra High Vacuum transfer printing  A new approach is presented here based on the in situ transfer of single Au crystals grown on a MoS2 surface in ultra-high vacuum (UHV) onto another surface where such metallic nano-crystal growth is usually not compatible.  ',\n",
       " 'Surfactant-free microemulsion based preparation of redox-responsive nanogels  A new approach to nanogles is established for efficient encapsulation and delivery of water-soulbe species.  ',\n",
       " 'Co3O4 Nanoparticles grown on N-doped Vulcan Carbon as Scalable Bifunctional Electrocatalyst for Rechargeable Zinc-Air Batteries  The Co3O4/NVC hybrid represents an efficient, durable, cheap and scalable bifunctional electrocatalyst, shedding light on the commercial development of rechargeable zincair batteries. The use of commercial Vulcan carbon black as the base material allowed for the large scale synthesis of such composite catalysts without any notable compromise on their electrocatalytic activities towards the ORR and OER.  ',\n",
       " 'Anisotropically Branched Metal Nanostructures  In this tutorial review, we provide a summary of recent research that centers on metal nanostructures having anisotropically branched morphologies. The formation of branched architectures can be achieved in solution through a variety of synthetic strategies, four of which are highlighted in this review. The usefulness of these anisotropically branched metal nanostructures in the areas of plasmonics, catalysis and biomedicine is also presented.  ',\n",
       " 'Gold nanoparticle density-multiplication by tuning block copolymer self-assembly processes toward increased charge storage  Enhanced charge storage in flash memories using AuNPs as charge storage centers enabled through block copolymer self -assembly process  ',\n",
       " 'Organic Photovoltaic Initial Stage Degradation Analysis Using Impedance Spectroscopy  Shelf lifetime of organic solar cells based on P3HT:PCBM has been investigated using high magnitude and phase resolution impedance spectrometer. From the traditional currentvoltage degradation curve, several stages of changes causing the device performance degradation are discussed. Degradation process of the devices has been monitored using impedance spectrometer under light, and dynamic parameters changes have been derived by model fitting, which are unable to provide information regarding the different stages of device changes though. However, layer analysis tested using impedance spectrometer in dark, provided exact information of devices layers and interfaces changes during degradation process. Higher capacitance at PEDOT-ITO interface and higher resistance at PEDOT-P3HT interface, and PEDOT bulk layers performance fluctuations contributed to the beginning stages of device degradation. The degradation of P3HT:PCBM layer indicates the starting of the final device irreversible degradation.  ',\n",
       " 'Degradation Analysis of Alq3-Based OLED from Noise Fluctuations with Different Driving Modes  The degradation mechanism of Alq3-based OLED is investigated using low-frequency noise measurements. Devices are driven at constant current mode and constant voltage mode. Our results show that device under constant current mode has a longer lifetime and the device under constant voltage mode generates defects and interface charges much faster. The differences show that the interfacial building up of traps and defects occurs at different pace  ',\n",
       " 'Organic Photovoltaic Device Performance Analysis Using Impedance Spectroscopy  Shelf lifetime of organic solar cells based on P3HT:PCBM has been investigated using high magnitude and phase resolution impedance spectrometer. From the traditional currentvoltage degradation curve, several stages of changes causing the device performance degradation are discussed. Degradation process of the devices has been monitored using impedance spectrometer under light, and dynamic parameters changes have been derived by model fitting, which are unable to provide information regarding the different stages of device changes though. However, layer analysis tested using impedance spectrometer in dark, provided exact information of devices layers and interfaces changes during degradation process. Higher capacitance at PEDOT-ITO interface and higher resistance at PEDOT-P3HT interface, and PEDOT bulk layers performance fluctuations contributed to the beginning stages of device degradation. The degradation of P3HT:PCBM layer indicates the starting of the final device irreversible degradation.  ',\n",
       " 'Manganese oxide catalyst grown on carbon paper as air cathode for high performance rechargeable zinc-air batteries  The directly grown MnOx catalyst is grown via a simple immersion process. It reduces the contact resistance and enhances the discharge/charge profile of the zincair batteries. Zincair batteries with the directly grown catalyst show a discharge voltage of 1.2 V at a current density of 15 mA?cm-2 and deliver a power density as high as 108 mW?cm-2. Good cycling stability for up to 500 cycles is achievable during continuous dischargecharge tests.  ',\n",
       " 'Development of lignin supramolecular hydrogels with mechanically responsive and self-healing properties  Hyperbranched lignin-based copolymers were synthesized and these copolymers are able to self-assemble into mechano-responsive supramolecular hydrogels with self-healing capabilities.  ',\n",
       " 'Large Area Directed Self-Assembly of Sub-10 nm Particles with Single Particle Positioning Resolution  This paper reports results on directed self-assembly of sub-10 nm particles using topographical templates made of HSQ. We developed a new technique based on spreading nanofluids on solid surfaces to create suitable conditions to control the self-assemble of colloids with single particles positioning resolution over large area.  ',\n",
       " 'Highly Thermally Stable Cyclotriphosphazene Based Perfluoropolyether Lubricant Oil  Novel cyclotriphosphazene based lubricant oil was synthesized. The lubricant exhibits comparable bonding ratio, friction coefficient, moderate mobility and better laser resistance than commercial perfluoropolyether based lubricant.  ',\n",
       " 'Second-Harmonic Generation from Sub-5-nm Gaps by Directed Self-Assembly of Nanoparticles onto Template-Stripped Gold Substrates  We combine top-down lithography and bottom-up assembly to fabricate sub-5-nm double gaps. This double gap is able to enhance second-harmonic generation emission by 4200-fold to achieve an effective second-order susceptibility of 6.1 pm/V, as comparable with typical nonlinear crystals, and it paves a way towards miniaturized on-chip frequency conversion.  ',\n",
       " 'Room temperature Coulomb blockade effects in Au nanocluster/pentacene single electron transistors  This papers reports experimental results on single electron transistor at room temperature using sub-10 nm nanogaps incorporating single 1nm Au nanoclusters.  ',\n",
       " 'A triazolyl-pyridine supported Cu(I) dimer: tunable luminescence and composite fiber fabrication  Hybrid luminescent molecular and polymer fibers have been fabricated. Further applications of this novel and emissive composite material are undergoing.  ',\n",
       " 'Fabrication of Bimetallic Cu/Au Nanotubes and Their Sensitive, Selective, Reproducible and Reusable Electrochemical Sensing of Glucose  The shape-controlled bimetallic Cu/Au nanotubes prepared through the controlled disproportionation of Cu+ oleylamine complex and the subsequent reaction with Au3+ exhibit high electrocatalytic activity for non-enzymatic glucose sensing.  ',\n",
       " 'Anomalous SiO2 layer formed on crystalline MoS2 films grown on Si by thermal vapor sulfurization of molybdenum at elevated temperatures  Crystalline MoS2 were grown on Si by thermal sulfurization at elevated temperatures. They are formed of bell-like domains with bell walls consisted of VDW layers. SiO2 layer has been observed on top of the MoS2 thin films. The SiO2 was grown from underneath layers but not deposited from growth environment.  ',\n",
       " 'Polyamide 11/clay nanocomposite using polyhedral oligomeric silsesquioxane surfactants  polyamide 11 (PA11)/layered silicate (clay) nanocomposite using polyhedral oligomeric silsesquioxane (POSS) surfactants.  ',\n",
       " 'Wear resistance properties of Nylon-SiC hybrids composites  The mechanical, thermal and wear resistance properties of neat PA11 materials have been tailored in consideration to the flexible composites riser application  ',\n",
       " 'Origin of Al deficient Ti2AlN and Pathways of Vacancy-assisted Diffusion  This paper investigates the formation of Ti, Al and N vacancies in Ti2AlN MAX phase material and the possible vacancy-assisted diffusion pathways through DFT calculations. This work helps quantitatively explain the structural tolerance of Ti2AlN to Al vacancy during growth and after heavy ion irradiation, as well as the preferential Al surface segregation during high temperature annealing of Ti2AlN.  ',\n",
       " 'Uniform Polyaniline Nanotubes Formation via Frozen Polymerization and Application for Oxygen Reduction Reactions  A frozen polymerization method was developed to prepare well-defi ned PANI nanotube through controlling of the diffusion of anilines and APS at solid state  ',\n",
       " 'New Aspect of Cyclopentadithiophene Based Polymers: Narrow Band Gap Polymer upon Protonation  New aspect of CPDT based conjugated polymers was investigated which would lead to develop high sensitive acid sensor.  ',\n",
       " 'Sputter grown sub-micrometer thick Cu2ZnSnS4 thin film for photovoltaic device application  single quaternary target sputtering shows a promising approach to deposit high quality sub-micrometer thick CZTS films. Itisobserved thatsputtering from single quaternary target and subsequent Sulfur annealing significantly improvesthe crystalline quality with controlled formation of secondary phase  ',\n",
       " 'Highly Active and durable Ca-doped Ce-SBA-15 catalyst for biodiesel production  In this work, highly active and durable calcium-cerium oxide incorporaed mesoporous materials have been successfully used as an active catalytic material for transesterification material. This catalytic material has been reused for more than 15 cycles with very low content of leacing composition.  ',\n",
       " 'Flexible, Transparent and Robust SERS Tapes through a Two-Step Block Copolymer Self-Assembly Process  Flexible, transparent, robust SERS tape was demonstrated for real world applications.  ',\n",
       " 'Low temperature grown highly texture aluminum alloyed iron silicide on silicon substrate for opto-electronic applications  Growthofalphaphasealuminumalloyedironsilicide(a-phase FeSi(Al))ternaryalloyonsilicon(Si) substrateatatemperatureof600 C hasbeenreported.The a-phase FeSi(Al)thin films aregrownonSi substratebyusingconventionalsputterdepositionandrapidthermalannealing(RTA)treatment.The transition temperatureof a-phase FeSi2 reduces to600 C throughincorporatingaluminumintothe silicide films.  ',\n",
       " 'Oxygen reduction in alkaline media: from mechanisms to recent advances of catalysts  This paper introduces the thermodynamics, reaction kinetics, reaction mechanisms, and reaction pathways of ORR in aqueous alkaline media. Recent advances of the catalysts for ORR were extensively reviewed, including precious metals, nonmetaldoped carbon, carbon-transition metal hybrids, transition metal oxides with spinel and perovskite structures, and so forth  ',\n",
       " 'The Origin of Near-Infrared Absorption for Azulene-Containing Conjugated Polymers upon Protonation or Oxidation  The doping mechanism for NIR absorptive polymers by protonation or oxidation was firstly studied.  ',\n",
       " 'Aggregation Induced Emission Based Fluorescence pH-sensors: Probing Polymer Interactions in Poly(N-isopropyl acrylamide-co-tetra(phenyl)ethene )/Poly(methacrylic acid) Interpenetrating Polymer Network  This paper reported a new type of IPNs through the intermolecular hydrogen bonding interaction between PMAA and PNIPAM containing AIE active TPE. The TPE moieties displayed highly sensitive response to the phase transition of IPNs, which could be used as a fluorescence probe to track the IPNs structural changes.  ',\n",
       " 'Design of micellized a-cyclodextrin based supramolecular hydrogel system  This study fabricated for the first time two-step mechanism of supramolecular hydrogel system to engineer injectable gel depot for controlled/sustained release of actives.  ',\n",
       " 'Layered Polymeric Capsules Inhibiting Activity of RNases for Intracellular Delivery of Messenger RNA  Biodegradable capsules composed of dextran sulfate and poly-L-arginine in the layer-by-layer (LbL) fashion are employed for the protection and delivery of mRNA. Our results demonstrate that addition of RNase inhibitors to mRNA while co-precipitation with CaCO3 and subsequent LbL encapsulation are both crucial to preserve the integrity of mRNA.  ',\n",
       " 'Engineering highly stretchable lignin-based electrospun nanofibers for potential biomedical applications  Development of a new lignin-based value-added product  ',\n",
       " 'Nanoimprinted thrombin aptasensor with picomolar sensitivity based on plasmon excited quantum dots  A robust sandwich bioassay of primary aptamer / thrombin / secondary aptamer with QD-655 was established on the gold nanohole array chip, to detect thrombin at limit of detection of 1 ng/ml (27 pM), with low non-specific binding at the presence of 1000 times more concentrated bovine serum albumin (BSA).  ',\n",
       " 'Structures, Modeling, Mechanical Properties and Applications of Silk Fibroin Materials  For centuries, Bombyx mori silkworm silk fibroin has been used as high-end textile fibers. Beyond textile, silk fibroin has also been used as surgical suture material for decades, and is being further developed for various emerging biomedical applications. The facile and versatile processability of silk fibroin in native and regenerated forms makes it appealing in a range of applications which require a mechanically superior, biocompatible, biodegradable, and functionalizable material. In this review, we describe the current understandings of the constituents, structures, and mechanical properties of silk fibroin. Following that, we summarize the strategies to bring its mechanical performance closer to that of spider dragline silk. Next, we discuss how functionalization endows silk fibroin with desired functionalities and also the effects of functionalization on its mechanical properties. Finally, from the mechanical point of view, we discuss various matrices/morphologies of silk fibroin, and their respective applications in term of functionalities, mechanical properties and performance.  ',\n",
       " 'Dispersive growth and laser-induced rippling of large-area singlelayer MoS2 nanosheets by CVD on c-plane sapphire substrate  A new method for CVD growth of 2D MoS2 has been reported.  ',\n",
       " 'pH- and redox-responsive self-assembly of amphiphilic hyperbranched poly(amido amine)s for controlled doxorubicin delivery  New pH-and redox-responsive drug delivery system is obtained.  ',\n",
       " 'Simultaneous Enhancement of Strength and Toughness of Epoxy using POSS-Rubber Core-Shell Nanoparticles  The novel concept using bio-inspiration for mechanical improvement of composite materials has been proposed. This work will describe our research on the strategy to overcome this contradiction in the simultaneous improvement of nanocomposite strength and toughness. The proposed concept has been proved and practical in many polymer composite systems. The phenomenon indicates that our new invention can solve the challenge mentioned above and it can be an excellent alternative in the future advanced material industry.  ',\n",
       " 'Fabrication of Self-Cleaning, Re-Useable Titania Templates for Nanometer and Micrometer Scale Protein Patterning  Here we demonstrate that TiO2 structures can be used as recyclable platforms for protein adsorption. Nanostructures of TiO2 were fabricated over square centimetre areas using two separate techniques, interferometric lithography (IL) and nanoimprint lithography (NIL).  ',\n",
       " 'Alloyed ZnS-CuInS2 semiconductor nanorods and their nanoscale heterostructures for visible-light-driven photocatalytic hydrogen generation  A promising photocatalytic system in the form of heterostructured nanocrystals (HNCs) is presented wherein alloyed ZnSCuInS2 (ZCIS) semiconductor nanorods are decorated with Pt and Pd4S nanoparticles. The presence of Pt and Pd4S cocatalysts leads to considerable enhancement of the photocatalytic activity of ZCIS for visible-light-driven hydrogen production.  ',\n",
       " 'Dual-Stage Nano-Positioning Scheme for 10 Tbit/in2 Hard Disk Drives with a Shear-Mode Piezoelectric Single Crystal Micro-Actuator  A dual-stage nano-positioning scheme promising for realizing servo control in 10 Tbit/in2 hard disk drives is becoming realistic using a shear-mode piezoelectric micro-actuator designe and produced at IMRE  ',\n",
       " 'Eggplant-Derived Microporous Carbon Sheets: Towards Mass Production of Efficient Bifunctional Oxygen Electrocatalyst at Low Cost for Rechargeable Zn-Air Batteries  This paper present an low cost yet efficient bifounctional oxygen catalyst that obtained from entirely green and renewable eggplant for high performance Zn air batteries  ',\n",
       " 'Solvent Exchange to Exfoliate Graphene Oxides into Epoxy with Improved Mechanical and Thermal Properties  New technique was develop to disperse GO into epoxy resin with remarkablly enhanced thermals and mechanical properties. Also, the resin influence in the fillers dispersion was discussed.  ',\n",
       " 'Cobalt sulfide nanoparticles decorated on TiO2 nanotubes via thermal vapor sulfurization of conformal TiO2-coated Co(CO3)0.5(OH)?0.11H2O core-shell nanowires for energy storage applications  This work demostrates a method for fabricating cobalt sulfide nanoparticles decorated TiO2 nanotubes for energy applications.  ',\n",
       " 'Atomic layer deposited Al2O3 on high quality p-type epitaxial-GaAs/Ge for advanced IIIV/Ge based device application  High quality zinc doped p-type epitaxial GaAs with surface roughness of ~0.87 nm was grown on Ge substrates at 675 C. Thin Al0.3Ga0.7As buffer layer and un-doped GaAs of 300 nm thick were introduced to suppress the Ge defects and auto-doping into epi-GaAs layer.  ',\n",
       " 'Efficient and durable oxygen reduction and evolution of a hydrothermally synthesized La(Co0.55Mn0.45)0.99O3-d nanorod/graphene hybrid in alkaline media  A highly efficient and durable bifunctional catalyst for oxygen reduction and evolution  ',\n",
       " 'Structure, Dielectric and Piezoelectric Properties of (1-x)K0.48Na0.48Li0.04NbO3-xBa0.85Ca0.15Zr0.1Ti0.9O3 Ceramics  Lead free piezoelectric ceramics (1-x)KNLN-xBCZT (0 = x = 0.015) are prepared using ultrasonic irradiation assisted solid state reaction process. The coexistence of orthorhombic and tetragonal phases is identified. These results indicate that 0.99KNLN-0.01BCZT ceramic is a promising lead-free piezoelectric material.  ',\n",
       " 'Ultrahigh-Capacity Non-Periodic Photon Sieves Operating in Visible Light  We report a hybrid analytical model and experimental demonstration of the photon sieves with ultrahigh-capacity of subwavelength holes arranged in two different structural orders of randomness and aperiodicity. The random photon sieve produces a twin-image-free optical hologram with high diffraction efficiency while the aperiodic one manifests sub-diffraction-limit focusing in air.  ',\n",
       " 'Unlocking Inter- to Non-Penetrating Frameworks Using Steric Influences on Spacers for CO2 Adsorption  The porous coordination networks have been synthesized from 1,4-benzenedicarboxylate with Cl, Br, I and NO2 substituents whose different spatial differences are sufficient to influence the coordination mode of adjacent carboxyl to unlock inter-penetrating framework to give isostructural structures. Their size and polarity differences account for the diverging CO2 adsorption performances.  ',\n",
       " 'Comment on Determination of alloy composition and strain in multiple AlGaN buffer layers in GaN/Si system [Appl. Phys. Lett. 105, 232113 (2014)]  The authors address the neglected issue in the original publication precisely. It is a nice amendment and is useful for the readers in the community.  ',\n",
       " 'Five Cu(I) and Zn(II) clusters and coordination polymers of 2-pyridyl-1,2,3-triazoles: synthesis, structures and luminescence properties  This work reports a series of Cu(I) and Zn(II) polymeric molecular materials supported by 2-pyridyl-1,2,3-triazole ligands from click reactions. It provides the opportunity to systematically compare the structural types, coordination modes and substituent effects of complexes with those of the analogues reported previously, thereby establishing structural relationships.  ',\n",
       " 'Colloidal nanocrystals of orthorhombic Cu2ZnGeS4: phase-controlled synthesis, formation mechanism and photocatalytic behavior  Cu2ZnGeS4 nanocrystals with the metastable orthorhombic crystal structure were colloidally prepared as a single phase for the first time and were found to be photocatalytically active in dye degradation.  ',\n",
       " 'CO2 capture by dry alkanolamines and an efficient microwave regeneration  Removal of acidic gases is performed during purification of raw natural gas, most commonly using amine gas treatment. This paper studied the use of perfluorinated silica-stabilized dry alkanolamines (DAf) for CO2 capture. Further, microwave-assisted regeneration of the spent sorbent was studied to decrease the energy requirements by about ten times.  ',\n",
       " 'Crystallization of sputter deposited amorphous (FeSi2)1-xAlx thin film  Effects of Al on the kinetics of formation for beta-FeSi2 and its subsequent phase transformation to alpha-FeSi2 is studied using DSC, XRD, Raman Spectroscopy, and XTEM (EELS & EDX).  ',\n",
       " \"Water Soluble Polyhydroxyalkanoates: A Future Material for Therapeutic Applications  This is a complete tutorial review on polyhydroxyalkanoates. IMRE's strength in this area is succinctly captured in this paper and outlook of this field is proposed.  \",\n",
       " 'Comparison of Grain Structure, Electrical and Magnetic Properties of BaTiO3 and Ni0.5Zn0.5Fe2O4 Ceramics Sintered Using Microwave and Conventional Techniques  BT and NZF ceramics were prepared by sintering through conventional and microwave techniques with the set sintering temperature of 850 to 1000C and time from 0.5 to 2h. Larger grain size and higher density observed for the samples sintered at same temperature and shorter holding time using microwave. Magnetic properties of the NZF samples sintered using MW at a temperature of 950C show a higher Ms value of 88 emu/g.  ',\n",
       " 'Luminescent [Cu4I4] Aggregates and [Cu3I3]-Cyclic Coordination Polymers Supported by Quinolyl-Triazoles  A series of quinolyl-1,2,3-triazoles support luminescent [Cu4I4] aggregates and six-membered [Cu3I3]-cyclic coordination polymers. It suggests that the hybrid ligand could support a range of other functional polynuclear and polymeric assemblies.  ',\n",
       " 'Electrically-Excited Surface Plasmon Polaritons with Directionality Control  We present an electrical excitation of surface plasmon polaritons (SPPs) with directionality control, where directionality could be tuned by moving a STM tip relative to the edge of Au 1D cavity. This result provides a key step towards compact on-chip devices to excite and direct the propagation of light.  ',\n",
       " 'Poly(ethylene glycol) conjugated Poly(lactide) based Polyelectrolytes: Synthesis and Formation of Stable Self-Assemblies Induced by Stereocomplexation  Conjugating PEG onto the PDMAEMA segments successfully facilitated the PLA-PDMAEMA copolymers and its corresponding D/L mixtures to be dissolved directly in aqueous solution without using any organic solvents. The enhanced stability of the pH-responsive mixed micelles is attributed to the stereocomplex formation between PLLA and PDLA in the micellar core.  ',\n",
       " 'Core - shell upconversion nanoparticle - semiconductor heterostructures for photodynamic therapy  Core-shell nanoparticles (CSNPs) with diverse chemical compositions have been attracting greater attention in recent years. However, it has been a challenge to develop CSNPs with different crystal structures due to the lattice mismatch of the nanocrystals. Here we report a rational design of core-shell heterostructure consisting of NaYF4:Yb,Tm upconversion nanoparticle (UCN) as the core and ZnO semiconductor as the shell for potential application in photodynamic therapy (PDT)  ',\n",
       " 'A Simple and Fast Fluorimetric Method for Thiamine (Vitamin B1) Detection by Au3+-Mediated Formation of Thiochrome  Developing an effective method for thiamine detection is of great interest in clinical analysis, food processing, and pharmaceutical industries. A hitherto unreported, simple and efficient method for thiamine detection is demonstrated in this study by using Au3+ to convert the initially non-fluorescent thiamine into intensely blue-emitting thiochrome spontaneously in alkaline condition. The formation of thiochrome was characterized and confirmed by the photoluminescence and mass spectra. The linear response region for thiamine detection was observed to be 1.0 10-9 1.0 10-3 M with a correlation coefficient of 0.994. The limit of detection was calculated to be 2.0 10-6 M. The unique homogenous-phaseAu3+-assisted fluorescence detection method as developed in this study is not only highly specific to thiamine, but also simpler and faster than the conventional spectrofluorimetric methods without the need of extra separation process of thiochrome, the addition of highly toxic ions and exogenous enzymes to accelerate the formation of thiochrome.  ',\n",
       " 'Deposition of Zwitteronic Polymer Brushes in a Dense Gas Medium  First attempt to fabricate a zwitterionic polymer brush in CO2-expanded liquid (CO2-EL) process by using surface initiated polymerization (SIP) and their properties are compared with the conventional solution process. The polymer films grown by the CO2-EL process shows uniform thickness and pin-hole free topography. Most importantly, the latter films showed no trace of copper (used as the catalyst) thus obviating the need for post-deposition processing and avoiding adverse effects of the metal leaching during service. Finally both the PSBMA films from both the methods were exposed to hMSCs cells and higher inhibition rate was observed for the CO2-EL processed PSBMA compared to conventional PSBMA films. The results confirm that zwitterionic grafting in CO2-EL is an effective and eco-friendly alternative to conventional solution process.  ',\n",
       " 'Potential of VEGF-encapsulated electrospun nanofibers for in vitro cardiomyogenic differentiation of human mesenchymal stem cells  Investigation of PCL/gelation/VEGF nanofibers and their potential for cardiac tissue engineering  ',\n",
       " 'Bioinspired Synthesis of Hierarchical Porous Graphitic CarbonSpheres with Outstanding High-Rate Performance in Lithium-Ion Batteries  The paper provides a new methodology for the tailored design of carbon materials with enhanced power densities for energy storage applications.  ',\n",
       " 'Targeting cell membrane lipid rafts by stoichiometric functionalization of gold nanoparticles with a sphingolipid-binding domain peptide  This work presents the first non-protein membrane-based lipid raft targeting agent. Peptide coated gold nanoparticles were stoichiometrically functionalized with a sphingolipid-binding domain peptide (SBD). The SBD nanoparticles were used to track lipid rafts on live cells by photothermal microscopy. The nanoparticle agent is promising for bioimaging of cell events and development of lipid rafts targeted therapy.  ',\n",
       " 'Decoupling the CO-Reduction Protocol to Generate Luminescent Au22(SR)18 Nanocluster  Development of efficient synthetic strategies for highly luminescent gold nanoclusters (Au NCs) requires a good understanding of their synthesis process and environmental factors involved which could affect their tailorability. We reported a new type of luminescent Au NCs featuring with the aggregation-induced emission (AIE) characteristic, having strong red emission at ~665 nm with a high quantum yield of ~8%. Our study suggests that the pH-induced aggregation of Au(I)-thiolate complexes on the in situ formed thiolated Au NCs could be an effective way to generate luminescent Au NCs with the AIE characteristic. This principle can also be used to synthesize other AIE-type metal NCs with strong luminescence.  ',\n",
       " 'Tellurium@Ordered Macroporous Carbon Composite and Free-standing Tellurium Film as Cathode Materials for Rechargeable Litihium-Tellurium Batteries  We report for the first time a carbon-free and binder-free chalcogen cathode for high-rate rechargeable Li-Te batteries in this article. The carbon-free nature, which mitigates the parasitic reactions at cathode, is enabled by the high electric conductivity of tellurium, while the binder-free feature that favors electron transfer is realized by the use of tellurium nanowires which tend to form tellurium mat with good mechanical strength via a vacuum filtration process.  ',\n",
       " 'Supramolecular Soft Biomaterials for Biomedical Applications  This book chapter discribes the current stage of the supramolecular soft biomaterials research for biomedical applications  ',\n",
       " 'Effective NIR Photodynamic Therapy Assisted by Upconversion Nanoparticles Conjugated with Photosensitizer  This work verified the possibility of using photosensitizerconjugated upconversion nanoparticles nanocomplex for near-infrared photodynamic therapy.  ',\n",
       " 'High-performance lithium/sulfur batteries using sulfur-carbon yolk-shell nanostructures as cathode materials  We report for the first time a novelmethod to synthesize sulfurcarbon yolkshell particles with sulfur fully confined inside the conductive carbon shells, and the filling content of sulfur can be well-controlled and fine-tuned.  ',\n",
       " 'Multi walled Carbon Nanotubes Modified ZnO Photoanode  The usage of zinc oxide (ZnO)-based nanostructrues in photoelectrochemical (PEC) water splitting has been well investigated yet still in keen exploration for further performance enhancement. Multi-walled carbon nanotubes (MWCNTs)-modified ZnO nanorods were prepared via hydrothermal route followed by simple solution deposition. MWCNTs were self-anchored onto the ZnO nanorods and acted as a hole attracting phase. The PEC performance of MWCNTs-modified ZnO nanorods, including photocurrent density and photo current conversion efficiency (PCE), was found to be significantly improved, compared with unmodified ones. The maximum value of PCE (0.646 %), which was 1.3 times higher than that of pristine ZnO nanorods, was achieved with a MWCNTs/ethanol suspension concentration of 0.002 wt%. The performance enhancement is attributed to increasing of light absorption from rougher surface and effective charge carrier transport from the excellent conductivity of the incorporated MWCNTs.  ',\n",
       " 'Optical characterization of the hole polaron in a series of Diketopyrrolopyrrole polymers used for Organic Photovoltaics  identified hole polaron absorption spectrum via chemcial and elctrochemical doping, explored role of donor and acceptor blocks in molecular structure  ',\n",
       " 'Studying FoxA1-DNA interaction and Ligand Inhibition using Gold Nanoparticles, EMSA, and Fluorescence Anisotropy  Both conventional EMSA and FA, and the AuNPs assay suggest that FoxA1 binds to DNA in a core sequence-dependent manner and the flanking sequence also play a role to influence the affinity. The EMSA and AuNPs are found more sensitive than FA in differentiation of sequence dependent affinity.  ',\n",
       " 'Silica-based nanocapsules: synthesis, structure control and biomedical applications  This review provides a comprehensive overview of the synthetic strategies, structural control and biomedical applications of SNCs. Special emphasis is placed on size control at the nanoscale and material composition manipulation of each strategy and the newly emerging synthetic strategies. The applications of SNCs in bioimaging/diagnosis and drug delivery/therapy and the structure engineering that is critically important for the bio-performance of SNCs are also addressed in this review.  ',\n",
       " 'Pyrrolophthalazine Dione (PPD)-based Donor-Acceptor Polymers as High Performance Electrochromic Materials  A novel pyrrolophthalazine dione (PPD) acceptor was sophisticatedly designed and synthesized. Polymers exhibit exceptional electrochromic properties with contrasts of up to 34 and 71 % in the visible and NIR regions, coloration efficiencies of 471 and 651 cm2/C respectively.  ',\n",
       " 'Synthesis of ultra-highly electron-deficient pyrrolo[3,4-d]pyridazine-5,7-dione by inverse electron demand Diels-Alder reaction and its application as electrochromic materials  A new electron acceptor 6-alkyl-pyrrolo[3,4-d]pyridazine-5,7-dione (PPD) has been synthesized via a challenging inverse electron demand Diels-Alder reaction between thiophene and furan decorated tetrazine substrates and electron deficient 1-alkyl-1H-pyrrole-2,5-dione unit. The newly developed PPD monomer is incorporated into a series of donor-acceptor type polymers as high performance electrochromic materials.  ',\n",
       " 'Electrospun AIE active POSS-based porous polymer films for detection of explosives  Electrospun aggregation-induced emission (AIE)-active polyhedral oligomeric silsesquioxane (POSS)-based copolymer films exhibit an approximately 9-fold increase in response to explosive vapors compared to dense films although porous copolymer films have a thickness as high as 560 +_ 60 nm.  ',\n",
       " 'Fluorinated polyhedral oligomeric silsesquioxane oil  A series of fluorinated polyhedral oligomeric silsesquioxane (POSS) derivatives were prepared via hydrosilylation reaction and they were characterized by 1H, 13C, 29Si and 19F nuclear magnetic resonance (NMR) spectroscopy and elemental analysis.  ',\n",
       " 'A Facile One-step Approach to Epitaxial Grow Periodic Arrays of InGaAs/GaAs Nanobars by MOCVD: From Site Control to Size Control  An original approach to control site and size of ordered arrays of semiconductor nanostructures in an efficient way was reported. Dual-sized arrays of InGaAs/GaAs nanobars have been demonstrated by one-step MOCVD. This method can be also used for other materials.  ',\n",
       " 'Co3O4 Nanoparticles Decorated Carbon Nanofiber Mat as Binder-Free Air-Cathode for High Performance Rechargeable Zinc-Air Batteries  we developed an excellent bifunctional electrocatalyst for high performance metal-air batteries. By employing convenient electrospinning technique and simple heat treatments, conductive carbon nanofiber (CNF) homogeneously decorated with small Co3O4 Nanoparticles(NPs) was readily produced. The hybrid fiber catalyze ORR with an ideal 4-electron transfer process and outperforms Pt/C for OER. we also demonstrated that the hybrid nanofiber mat severed as an integrated electrode can further improve the battery performance significantly  ',\n",
       " 'Deriving CO2 Permselective Carbon Membrane from a Multi-layered Matrix of Polyion Complexes  A multilayered assembly consisting of polyion complexes was developed over porous ceramic as a unique precursor for a carbon membrane (CM). This specific layer was attained through in situ polymerization of N-methylpyrrole (mPy) over a prime coating layer of poly(4-styrenesulfonic acid) (PSSA) with an embedded oxidant on the ceramic surface.  ',\n",
       " 'Exploring Aramid-Al2O3 Nanoneedle Scaffold as Pore Former for Optimal Mechanical and Permeable Properties of Ceramic Matrix  It is showed that the vital role of Sasol needles in the present pore-forming regime lies in significant enhancement on mechanical strength accompanying an improved permeability contrary to the best result achieved without them.  ',\n",
       " 'Si (100)-21-H dimer rows contrast inversion in low-temperature scanning tunneling microscope images  The paper describes the origin of an aparent shift in the images of Si(100)H substate commonly observed with STM technique. Detailed experimental and theoretical studies were done for the first time.  ',\n",
       " 'Stimuli-responsive polymers for anticancer drugs delivery  The current status of stimuli-responsive polymers for anticancer drugs delivery is reviewed.  ',\n",
       " 'SAW Sensor for Influenza A Virus Detection Enabled with Efficient Surface Functionization  Detection limit of Influenza A H1N1 antigen at an analyte concentration of 1 ng mL-1 was demonstrated with our piezoelectric SAW sensors. The results indicate the potential for SAW sensors to detect the libraries of pathogens and to further act as a cost-effective platform for rapid clinical diagnosis.  ',\n",
       " 'Size effects on metal-insulator phase transition in individual vanadium dioxide nanowires  The controlling of phase transition temperature in VO2 nanowires via altering their sizes offers a new-concept thermoelectronic devices.  ',\n",
       " 'Nanoscale smoothing of plasmonic films and structures using gas cluster ion beam irradiation  We present a smoothing and thinning process for plasmonic films using gas cluster ion beam irradiation (GCIB).Ultrathin Ag films produced by GCIB have lower absorbance compared to as-deposited films. Better adhesion and colour reflectance was shown after GCIB treatment.  ',\n",
       " 'Hierarchically built gold nanoparticle supercluster arrays as charge storage centres for enhancing the performance of flash memory devices  A hierarchical self-assembly process that introduces systematic multiplication of nanoparticle densities with minimal increase in foot-print for enhanced charge storage in flash memories.  ',\n",
       " \"Highly Sensitive Reduced Graphene Oxide Microelectrode Array Sensor  We report a flexible reduced graphene oxide microelectrode array sensor, that has the advantages of a microelectrode with graphene as it's active layer. This is opens up a platform for graphene based sensors for future detection applications  \",\n",
       " 'High Open-Circuit Voltage Small-Molecule p-DTS(FBTTh2)2:ICBA Bulk Heterojunction Solar Cells - Morphology, Excited-State Dynamics, and Photovoltaic Performance  A high open-circuit voltage of 1V is achieved in the bulk heterojunction solar cell using the solution-processed small molecule donor p-DTS(FBTTh2)2 and indene-C60 bis-adduct acceptor. However, the power conversion efficiency is lower than previously reported p-DTS(FBTTh2)2 :PC70BM system. The coulombically bound interfacial charge transfer states, which recombine on the sub-nanosecond timescale by geminate recombination, are responsible for low efficiency.  ',\n",
       " 'One-Step Synthesis of Hollow Carbon Nanospheres in Non-Coordinating Solvent  Novel preparation of hollow carbon nanospheres has been presented.  ',\n",
       " 'Evaluation of Polymeric Nanoparticle Formulations by Effective Imaging and Quantitation of Cellular Uptake for Controlled Release Delivery of Doxorubicin  Currently, there is great demand to develop a strategy to evaluate nanoparticle formulations for innovative delivery systems. In this work, a screening platform is developed using luminescent quantum dots as drug model and imaging label to evaluate nanoparticle formulations incorporating either hydrophilic or hydrophobic drugs and imaging agents.  ',\n",
       " 'Atomic Layer Deposition of MoS2 film  ALD employed for MoS2 mono- and multilayer films.  ',\n",
       " 'Lanthanide-doped upconversion materials: emerging applications for photovoltaics and photocatalysis  Our article summarized recent technologies in upconversion materials integrated photovoltaic and photocatalytic devices since very few articles summarized its application in photocatalysis.  ',\n",
       " 'Three-dimensional plasmonic stereoscopic prints in full colour  We demonstrate a method for achieving full-colour images that exhibit polarisation dependence within a single data layer. Two separate images can be printed onto the same area and deciphered through orthogonal polarisers. This allows 3D stereoscopic images to be viewed under an optical microscope, conveying information to the viewer.  ',\n",
       " 'Star-shaped POSS-PCL-PU as biomaterials for tissue engineering application  Polyhedral oligomeric silsesquioxane (POSS) is a unique molecule that is composed of an inorganic silica core with eight organic functional arms, which can be used as a nucleus for covalent bonding to create star-shaped block copolymers with improved mechanical and biological properties. In this work, highly porous star-shaped POSS-polycaprolactone-polyurethane (POSS-PCL-PU) films were synthesized as scaffold biomaterials for tissue engineering. These films have an interesting morphology consisting of rough spherulites with filamentous structures spreading out from their centers; the unique nanotopography was shown to be suitable for cell growth. In vitro degradation was monitored for 52 weeks in terms of the weight loss and morphology changes of the films. The degradation profile exhibited a slow initial weight loss of 95% and rapid cell proliferation. The high porosity, unique surface nanotopography and excellent biocompatibility of the star-shaped POSS-PCL-PU film make it a great candidate as a tissue engineering scaffold biomaterial.  ',\n",
       " 'Semiconductor Quantum Dots for Photonic Modulators  This book describes the growth,fabrication and characterization of quantum dots electroabsorption modulators.  ',\n",
       " 'Nano-structures for high intensity fiber laser applications  This paper shows the possibility of using nano-structures for high intensity fiber laser applications  ',\n",
       " 'Imprinted Gold 2D Nanoarray for Highly Sensitive and Convenient PSA Detection via Plasmon Excited Quantum Dots  We for the first time demonstrate a biosensing chip with signal detected by a microscope, through establishing a novel quantum dot (QD) bioassay on a glass chip fabricated with gold nanostructure array, where plasmons excite the QD emission to provide a bright signal for quantifying prostate specific antigen (PSA) biomarker.  ',\n",
       " 'Promoting 2D growth in colloidal transition metal sulfide semiconductor nanostructures via halide ions  This work shows that halides can play a pivotal role in engineering the two-dimensional growth of colloidal transition metal sulfides.  ',\n",
       " 'Protein-Based Fluorescent Metal Nanoclusters for Small Molecular Drug Screening  A facile drug screening method based on synthesis of fluorescent gold nanoclusters inside albumin proteins loaded with small molecular drugs and comparing the relative fluorescence intensities of the resultant gold nanoclusters has been developed and successfully applied for the quantitative measurement of drugprotein binding constants.  ',\n",
       " 'Sol-gel deposited Cu2O and CuO thin films for photocatalytic water splitting  Demonstration of the feasibility of the low-cost sol-gel method to deposit CuO and Cu2O thin films for water splitting applications.  ',\n",
       " 'Atomic layer deposition of crystalline Bi2O3 thin films and their conversion into Bi2S3 by thermal vapor sulfurization  ALD growth of Bi2O3 thin films and their sulfurization into Bi2S3 have been demonstrated. Both are n-type semiconductors with the valence band maxima located at about 2.1 and 1.0 eV below their Fermi levels, respectively. These observations, together with the large absorption coefficient of Bi2S3 in the wavelength range of visible light, suggest the great potentials of Bi2S3 thin films and/or Bi2S3/Bi2O3 heterojunctions in various optoelectronic devices, e.g., for solar energy conversions.  ',\n",
       " 'Azulene Based Conjugated Polymers with Tuneable Near IR Absorption Up to 2.5 ?m  A series of near-IR-active conjugated polymers that cover the near-IR spectrum ranging from 1.0 to 2.5 m were reported  ',\n",
       " 'Protonation induced shifting of electron-accepting center in intramolecular charge transfer chromophores and theoretical study  A new series of chameleonic molecules containing azulene and benzothiadiazole (BT) were designed and synthesized.  ',\n",
       " 'Redox-Responsive Nanoparticles with Aggregation-Induced Emission (AIE) Characteristic for Fluorescence Imaging  Bioimaging agent is developed to provide imaging with high contrast and diganosis of redox status  ',\n",
       " 'Photoluminescence from Chitosan for Bio-imaging  Chitosan is used as bioimaging agent  ',\n",
       " 'Imprinting of Metal Receptors into Multilayer Polyelectrolyte Films: Fabrication and Applications in Marine Antifouling  A peptide mimicking polymer, bearing histidine side groups, was used to construct thin layer-by-layer architectures with high affinity to bind Cu2+ ions for marine antifouling applications. Enhanced binding ability was achieved through a metal imprinting process involving covalent immobilization of receptors within the film structure in presence of metal ions.  ',\n",
       " 'Efficient Color-Tunable Multiexcitonic Dual Wavelength Emission from Type II Semiconductor Tetrapods  We demonstrate that colloidal semiconductor nanotetrapods with a Type II band alignment between core and arms can exhibit pump dependent, wavelength tunable emission.  ',\n",
       " 'Biomimetic Photoelectrochemical Device from a Molecular Heterometallic Sodium-Manganese Water Splitting Catalyst  A photoelectrochemical device for water splitting has been fabricated from a new water stable molecular [Na2Mn4] complex that acts as an in situ precursor towards NaMn2Ox nanoparticles under catalytic conditions when immobilized within a conductive PEDOT:PSS/Nafion composite film for optimal electron transport.  ',\n",
       " 'Synthesis of Regiorandom homopolymer of 3-alkydithieno[3,2-b:2,3-d]thiophene for High Performance Thin-Film Transistors  Regiorandom homopolymers of 3-alkyldithieno[3,2-b: 2,3-d]thiophene were synthesized, characterized and used in OTFTs, showing an annealing-free hole mobility up to 0.048 cm2 V-1 s-1.  ',\n",
       " 'The 4th Molecular Materials Meeting (M3) @ Singapore  This paper gives an overview of some significant papers presented at the 4th M3 which are later published in this special issue. It also promotes the eco-R&D environment of Singapore and the M3 conference.  ',\n",
       " 'Supramolecular soft biomaterials for biomedical applications  Paper discribes the current stage of the supramolecular soft biomaterials research for biomedical applications.  ',\n",
       " 'Magnetic Pd/Fe3O4 Composite: Synthesis, Structure and Catalytic Activity  A composite Pd/Fe3O4 catalyst has shown hydrophilic and magnetic recyclability properties. The Pd nanoparticles in 1 were relatively small (24 nm). The catalyst featured efficient activity towards the catalytic reduction reaction of 4-NP to 4-AP. This synthetic methodology could be explored for other composite materials fabrication.  ',\n",
       " 'Engineering organic macrocycles & cages: versatile bonding approaches  Organic macrocycles & cages have the advantages of chemical robustness, processability in organic solvents and suitability for pilot-scale applications. They are constructed primarily from covalent bonds, with irreversible and reversible bond types.  ',\n",
       " 'Spacer Effect of Cooperative Binding of Estrogen Receptor alpha and Specificity Protein 1 to Composite DNA: A Surface Plasmon Resonance Study  In this study, we for the first time studied the cooperative interaction of recombinant proteins Sp1 and ERa with composite DNA of +571 ERE/Sp1 site in promoter A from the human PR gene, using a high sensitivity SPR (Biacore T200) instrument. To answer the question as for the spacer effect on the cooperative effect, we modified the composite DNA sequences by varying the distance between _ERE and Sp1/D from 4 bp to 18 bp using a computational simulation method. Through quantification of bound ERa in the presence or absence of Sp1 (with the assistant of anti-ERa), we have concluded that the Sp1 binding enhances the overall ERa binding to the composite DNA.  ',\n",
       " 'Emulsion Techniques for Encapsulation in Biomedicine, Food and Personal Care  The article reviews the emulsion-based encapsulation techniques (including those developed in IMRE) with potential of application in drug delivery, functional foodstuff and personal care products.  ',\n",
       " 'Non-destructive Three-Dimensional Optical Imaging of a Fiber Bragg Grating  In our manuscript, we demonstrate the use of a non-destructive quantitative phase imaging method, in-conjunction with tomographic reconstruction techniques for the reconstruction of the three-dimensional refractive index distribution of a Fiber Bragg Grating.Quantitative phase microscopy used here has the advantage over its counterparts in the ability to provide simultaneous, but separate, quantitative information about both the absorption by the specimen and the phase. This technique has since been demonstrated in conjunction with standard tomographic techniques for reconstructing the 3D RI distribution of axially symmetrical optical fibers, and fibers exhibiting a variation in RI along the length including long period gratings. Using these techniques, in addition to being able to extract the fundamental period of the grating, we were able to reconstruct the refractive index profile of the fiber core and index variations associated with the grating. Given its non-destructive nature as well as strength in characterisation of specimens with weak phase variations, this technique is also advantageous for application to the imaging of biological samples.  ',\n",
       " 'Desorption of Al and Phase Transformation of Ti2AlN MAX Thin Film upon Annealing in Ultra-High-Vacuum  The paper describes the desorption of Al and phase transformation of single-crystalline Ti2AlN MAX thin film into polycrystalline d-TiN1-x and ?-TiN0.75-y phases upon annealing in ultra-high-vacuum. A kinetic model involving diffusion and desorption processes is proposed to describe the Al behaviour and voids formation above 700 C.  ',\n",
       " 'Self-Assembled Supramolecular Nanoparticles Mediated by HostGuest Interactions for Photodynamic Therapy  This paper describes a facile and reproducible protocol for the preparation of a supramolecular photodynamic therapeutic agent mediated by hostguest encapsulation in the absence of inorganic matrix.  ',\n",
       " 'Poly(acrylate) with tetraphenylethene pendant with aggregation-induced emission (AIE) characteristics: Highly stable AIE-active polymer nanoparticles for effective detection of nitro compounds  Acrylate monomers with aggregation-induced emission (AIE) attributes were prepared. Fluorescence of the polymers in THFH2O mixtures and in the film state can be dramatically quenched by a wide variety of nitro compounds, rendering such AIE polymers are potential fluorescence sensors for nitroaromatic explosives.  ',\n",
       " 'Highly Thermally Resistant Polyhedral Oligomeric Silsesquioxanes Lubricating Oil Prepared via a Thiol-Ene Click Reaction  This paper reports synthesis and characterization of two series of octameric silsesquioxanes. The thermal aging experiments of these POSS oils were examined, and results showed that these POSS oils exhibited excellent long-term thermal stability in air, rendering them promising candidates as lubricants for extremely harsh environments.  ',\n",
       " 'Understanding carrier lifetime in inverted polymer solar cells with a thick electron selective layer  This study provides more clarity on the carrier lifetime measurements in organic solar cells using various interfacial layers.  ',\n",
       " 'Polarization Independent Broadband Terahertz Antireflection by Deep-Subwavelength Thin Metallic Mesh  Broadband antireflection coatings for passive terahertz components are extremely important in the application of THz technology.  ',\n",
       " 'Twisted focusing of optical vortext beam with a flat metalens  Topologically breaking the in-plane symmetry, this nanoengineered LSZP continuously modulates both amplitude and phase in the diffraction field to shape twisted focusing of optical vortex beam, which is microscopically confined and spatially spiraling with a variant crescent-shaped transverse intensity profile. Owing to its rich structural degree of freedom upon aperiodic and continuously variant feature, the LSZP provides a compact solution to generate and control optical vortices carrying scalable OAM with highly concentrated photons with a high transmission efficiency of ~22%. This can offer new opportunities for 3D light shaping, optical manipulation, flat optics and photonics miniaturization and integration.  ',\n",
       " 'Towards large area and continuous MoS2 atomic layers via vapor-phase growth: Thermal vapor sulfurization  Vapor phase growth of MoS2 atomic layers has been systematically studied. A clue towards large area and continous MoS2 2D materials is revealed and reported.  ',\n",
       " 'Cationic Brush-Like Terpolymer with pH Responsive Thickening Behavior in Surfactant System  A new kind of cationic brush-like terpolymer was synthesized by copper(I)-mediated atom transfer radical polymerization (ATRP) of methyl ether poly(ethylene glycol) methacrylate (mPEGMA), poly(propylene glycol) methacrylate (PPGMA) and dimethylaminoethyl methacrylate (DMAEMA) in the presence of ethyl ??-bromoisobutyrate as ATRP initiator. The poly(PEG/PPG/DMAEMA) terpolymer was featured with a cationic backbone containing PDMAEMA segments and amphiphilic side chains composed of hydrophilic PEG and hydrophobic PPG short branches. This kind of cationic brush-like copolymer would be a new type of rheologymodifier for advanced hair/skin care systems.  ',\n",
       " 'Epitaxial synthesis, band offset, and photoelectrochemical properties of cubic Ga2S3 thin films on GaAs (111) substrates  Uniform and crack-free cubic Ga2S3 thin films have been epitaxially grown on GaAs(111) substrates. The band offset of teh Ga2S3/GaAs heterostructure has been measured. The heterostructure has also been tested in PEC cells for Hydrogen generations.  ',\n",
       " ': Ab intio calculation of Relative Permittivity of La-doped HfO2  Addition of La to increase the relative permittivity of HfO2 and phase transition temperature for high k dielectrics for gate oxides of transistors.  ',\n",
       " 'Mesoporous Spherical Li4Ti5O12 as High-Performance Anodes for Lithium-Ion Batteries  Porous micro-spherical Li4Ti5O12 aggregates (LTO-PSA) were successfully prepared via porous spherical TiO2 (TiO2-PS) as titanium source and lithium acetate as lithium source followed by calcinations. The synthesized LTO-PSA possess outstanding morphology with nano-sized, porous and spherical distribution for achieving good electrochemical performances including high reversible capacity, good cycling stability and impressive rate capacity. The specific capacity of the LTO-PSA at 30 C is as high as 141 mAh g-1, while that of the normal Li4Ti5O12 powders prepared by sol-gel method (LTO-SG) can only achieve 100 mAh g-1.  ',\n",
       " 'Fabrication of microarrays for self-assembly and manipulation of particle distribution  We demonstrate the use of a micropatterned surface composed of a concentric circular array of SiO2 and Si layers to distribute particles from edge to centre and reduce the coffee stain effect from a colloidal or suspended solution droplet after natural evaporation by self assembly over the array.  ',\n",
       " 'Heterojunction Solar Cells  In this special issue, we selected 6 peer-reviewed research articles which present the recent developments in various types of heterojunction solar cells, including organic bulk-heterojunction solar cells, dye/quantum dot sensitized solar cells, hybrid organic-inorganic solar cells, and inorganic heterojunction solar cells. A broad range of topics, from material synthesis and thin film deposition technique to device architecture, are discussed in this special issue.  ',\n",
       " 'Current Treatment Options and Drug Delivery Systems as Potential Therapeutic Agents for Ovarian Cancer: A Review  A paper that reviews the current treatment options and drug delivery systems as a potential treatment options for ovarian cancer patients.  ',\n",
       " 'Near-Infrared Upconverting nanoparticles for bio-applications  It reviews Upconversion nanoparticles (UCNs) in biomedical applications.  ',\n",
       " 'Introduction  This manuscript introduces the concept of insitu gelling polymers  ',\n",
       " 'Biodegradable polymers for electrospinning: Towards Biomedical Applications  Recent progress in applying electrospinning to biomedical field is highlighted. The basic theory and parameters of nanofibers fabrication are discussed. Commonly electrospun biodegradable nanofibers are introduced. The advancement of nanofibers in various biomedical applications is assessed  ',\n",
       " 'Evaluating charge carrier mobility balance in organic bulk heterojunctions using lateral device structures  In this work, we describe the lateral device as effectively having three distinct zones: two photogenerative space-charge regions next to each electrode and a middle zone that has high recombination rate. We analyze how photocurrent depends on electron and hole mobilities and recombination strength and, based on this analysis, demonstrate a steady-state method for extracting both carrier mobilities and the recombination coefficient from potentiometry and photocurrent data.  ',\n",
       " 'Fluorescent carbon dots (C-dots) nanoclusters  The first preparation of fluorescnet C-dots cluster has been reported.  ',\n",
       " 'Rapid method to estimate the concentration of citrate capped silver nanoparticles from UV-visible light spectra  This article publishes a comprehensive list of extinction coefficients for spherical silver nanoparticles. Data is obtained using a new methodology, and compared with theory and literature values. This article thus provides for the first time an easy to use methodology to calculate concentrations of silver nanoparticles using UV-vis spectra.  ',\n",
       " 'Dual-phase Spinel MnCo2O4 and Spinel MnCo2O4-nanocarbon Hybrids for Electrocatalytic Oxygen Reduction and Evolution  High-performance, nonprecious metal-based hybrid catalysts are developed from postsynthesis integration of dualphase spinel MnCo2O4 (dp-MnCo2O4) nanocrystals with nanocarbon materials.  ',\n",
       " 'Polyhedral Oligomeric Silsesquioxane (POSS) Based Thermo-Responsive Amphiphilic Hybrid Copolymers for Thermally Denatured Protein Protection Applications  A novel hybrid system was developed to protect thermally denatured proteins.  ',\n",
       " 'Key factors in design of Li-S batteries  In this paper, we discuss some key parameters in design of lithium sulfur batteries with high energy density, in particular carbon/sulfur ratio, sulfur loading density, electrolyte volume and electrode deformability, which directly impact the battery performance in terms of capacity, cycleability, and processibilities, etc.  ',\n",
       " 'Barnacle larvae exploring surfaces with variable hydrophilicity: Influence of morphology and adhesion of footprint proteins by AFM  The paper developed a method to measure the adhesion property of barnacle cyprid adhesive proteins (a major marine fouling organism)with surfaces using colloidal AFM. This study can help us to gain better understanding of barnacle induced marine fouling and design more effective antifouling coatings.  ',\n",
       " 'A facile approach to biodegradable polydisulfide MRI contrast agent  New polymer MRI imaging agent with low side effects is developed.  ',\n",
       " 'Carbon fiber surfaces and composite interphases  account of various wet, dry and multi-scale carbon fiber surface modification techniques, i.e., sizing, plasma, chemical treatments and carbon nano-tubes/nano-particles coating, for increasing the wettability and interfacial adhesion with polymeric matrices.  ',\n",
       " 'Biomimicking Micropatterned Surfaces and Their Effect on Marine Biofouling  Paper describes and sumarizes research being an objective of IMAS project.  ',\n",
       " 'Influence of carbon pore size on the discharge capacity of LiO2 batteries  We found that the initial discharge capacity was hardly affected by the surface area or pore volume. Instead, it was directly orrelated with the pore sizes.  ',\n",
       " 'Fast Screening of Ligand-Protein Interactions based on Ligand-Induced Protein Stabilization of Gold Nanoparticles  Gold nanoparticles (AuNPs) and their aggregation property are used to develop a rapid and less equipment intensive assay for screening the interactions between LMW ligands and transcription factors (TFs) and human serum albumin.  ',\n",
       " 'Nanocomposite multilayer capacitors comprising BaTiO3@TiO2 and poly(vinylidene fluoride-hexafluoropropylene) for dielectric-based energy storage  High energy density was achieved with the nanocomposite multilayer dielectric capacitors.  ',\n",
       " 'Encapsulated Annealing: Enhancing the Plasmon Quality Factor in LithographicallyDefined Nanostructures  We investigated the influence of grain boundaries on the damping of plasmonic nanostructures and developed a means to increase their Q-factors  ',\n",
       " 'Towards The Development of Polycaprolactone Based Amphiphilic Block Copolymers: Molecular Design, Self-assembly and Biomedical Applications  A variety of strategies for the synthesis of novel PCL based amphiphilic block copolymers have been developed. These PCL-based amphiphilic block copolymers have found a variety of bio-related applications; typical examples include: self-assembled nanoparticles for drug delivery and hydrogels for tissue engineering.  ',\n",
       " 'Chemical Modification of PHAs  An array of new polymers have been produced to modulate the range of accessible properties of PHAs that cannot be obtained by biotechnological processes. The tailored properties of the newly developed PHAs materials in thermal and mechanical proeprties, hydrophilicity, and degradation rate have met some special requiremens for specific biomedical applications.  ',\n",
       " 'Plasmonic Color Palettes for Photorealistic Printing with Aluminum Nanostructures  We introduce the first plasmonic palette utilizing color generation strategies for photorealistic printing with aluminum nanostructures. Our work expands the visible color space through spatially mixing and adjusting the nanoscale spacing of discrete nanostructures. With aluminum as the plasmonic material, we achieved enhanced durability and dramatically-reduced materials costs with our nanostructures compared to commonly-used plasmonic materials such as gold and silver, as well as size regimes scalable to higher-throughput approaches such as photolithography and nanoimprint lithography. These advances could pave the way toward a new generation of low-cost, high-resolution, plasmonic color printing with direct applications in security tagging, cryptography, and information storage.  ',\n",
       " 'Engineering Plasmonic Colors in Metal Nanostructures  Plasmonic nanostructures hold immense potential for structure-based color engineering at the sub-wavelength length scale. In this paper, we will review representative works that demonstrate promising strategies to exploit the rich mechanisms of surface plasmons for color engineering across the visible spectrum. By varying the structural design and material composition of plasmonic nanostructures through chemical synthesis or lithography, these approaches can achieve highly controllable and tunable colors for a wide variety of applications. We will also critically discuss the applications of these state-of-the-art technologies in color filtering, color printing and color-based chemical and biological sensing.  ',\n",
       " 'High-sensitive and Multispectral Responsive Phototransistor Using Tungsten-Doped VO2 Nanowires  These results demonstrate the promising potential of tungsten-doped VO2 nanowires in nano-scaled optoelectronic applications.  ',\n",
       " 'Colloidal synthesis and photocatalytic properties of orthorhombic AgGaS2 nanocrystals  AgGaS2 (AGS) nanocrystals that exist in the orthorhombic phase were successfully prepared for the first time through a one-pot colloidal synthetic strategy using suitable coordinating solvents. These orthorhombic AGS nanocrystals were found to display great potential in visible-light-driven photocatalysis.  ',\n",
       " 'Hydrothermal Synthesis of Octadecahedral Hematite (a-Fe2O3) Nanoparticles: an Epitaxial Growth from Goethite (a-FeOOH)  Driven by the demand for shape-controlled synthesis of a-Fe2O3 nanostructures and the understanding of their growth mechanism and shape-dependent properties, we report the synthesis of octadecahedral a-Fe2O3 nanocrystals with a hexagonal bipyramid shape by introducing F- anions in the solution.  ',\n",
       " 'Studying Protein-DNA Complexes Using Gold Nanoparticles by Exploiting Particle Aggregation, Refractive Index Change, and Fluorescence Quenching and Enhancement Principles  Comprehensive assessment of the versatility of AuNPs as sensing probes for studying proteinDNA complexes.  ',\n",
       " 'Effects of strain relaxation on optical properties of InGaN/GaN blue LED structure grown on 150 mm diameter Si (111) substrate  We report on the effect of strain relaxations induced by lift-off in an InGaN/GaN multiple quantum wells (MQWs) blue light-emitting diode (LED) structure grown by metal-organic chemical vapor deposition (MOCVD) on a 150-mm diameter Si (111) substrate.  ',\n",
       " 'Electron-beam-induced carbon deposition on high-indium-content AlInN thin films grown on Si by sputtering at elevated temperature  Different EBID growth mechanisms have been observed on AlInN and Si in SEM. The EBID on AlInN is dominated by the reduced surface migration and SE/BSE. The effect of SE/BSE on the EBID on Si substrate is negligible. Surface roughness and the columnar structures reduce the surface migrations. Smaller structures can be created by EBID with reduced surface migrations.  ',\n",
       " 'Template-Induced Structure Transition In Sub-10-nm Self-Assembling Nanoparticles  The paper reports on the structure transition of sub-10 nm Au nanoparticles self-assembled into templated based on channels of varying widths.  ',\n",
       " 'DETERMINATION OF POSITION JITTER AND DOT-SIZE FLUCTUATION OF PATTERNED ARRAYS FABRICATED BY THE DIRECTED SELF-ASSEMBLY OF GOLD NANOPARTICLES  The paper reports on the jitter noise and size fluctuation of Au nanoparticles self-assembled in periodic arrays dedicated for magnetic bit patterned media application.  ',\n",
       " 'Molecule Motion at Polymer Brush Interfaces from Single-Molecule Experimental Perspectives  This review summarizes recent studies of molecular diffusion at polymer interfaces, highlights new understandings of the interfacial properties of polymer brushes, and discusses future research opportunities in this field. It provides important guidances for researchers interested in this field.  ',\n",
       " 'Coronene: A Single Molecule Atom Counter  STM manipulated Au adatoms contacted to selected phenyl rings of a Coronene molecule result in energy shifts of Aun-Coronene complexes ground state. This energy shift is linear and can be used to count the number of atoms input, demonstrating that Coronene can function as a single molecule atom counter  ',\n",
       " 'Biodegradable Thermogelling Polymers: Working Towards Clinical Applications  This paper describes biodegradable thermogelling polymers and how researchers are working towards clinical applications  ',\n",
       " 'Supramolecular polymeric peptide amphiphile vesicles for the encapsulation of basic fibroblast growth factor  Paper reports the use of supramolecular polymeric peptide amphiphile vesicles for the encapsulation of basic fibroblast growth factor  ',\n",
       " 'Development of localized surface plasmon resonance based point-of-care system  This paper describes our point-of-care system development based on localized surface plasmon resonance (LSPR). Several novel technologies are initiated and successfully implemented in the realization of a point-of-care system, which we believe has ample applications on medical diagnostics.  ',\n",
       " 'End-on Covalent Antibody Immobilization on Dual Polarization Interferometry Sensor Chip for Enhanced Immuno-sensing  In this study, dual polarization interferometry (DPI), which is the only available equipment that can concurrently obtain the mass, thickness, density, and refractive index in real time, was applied to investigate two end-on antibody immobilization methods, as exemplified by prostate-specific antigen (PSA) antibody. This is the first paper that these two kinds of end-on immobilization methods are investigated for thicknesses of different capturing layers in the bioassay.  ',\n",
       " 'Supramolecular cyclodextrin pseudorotaxane hydrogels: A candidate for sustained release?  Paper describes the kinetics of protein release from hydrogels  ',\n",
       " 'Polyhydroxyalkanoates  Chemical Modifications Towards Biomedical Applications  Paper describes the latest developments in chemical modifications of PHAs  ',\n",
       " 'Fractal Holey-Metal Microlenses with Significantly Suppressed Side Lobes and High-Order Diffractions in Focusing  We report a fractal holey-metal microlens based on finite-areas of two-dimensional arrays of circular nanoholes.  ',\n",
       " 'Compression and Injection Molding Techniques  This chapter highlights the significance of compression molding in the fabrication of natural fiber composites with unique characteristics that are not available through other processing methods.  ',\n",
       " \"InxAl1-xN/AlN/GaN high electron mobility transistor structures on 200 mm diameter Si(111) substrates with Au-free device processing  This is World's first demonstration of InAlN/GaN-based HEMTs on 200 mm diameter Si substrates. The transistor materials and device processes are extremely useful to commercialize low cost RF-Power Electronic Devices.  \",\n",
       " 'Stretching and imaging of single DNA chains on a hydrophobic polymer surface made of amphiphilic alternating comb-copolymer  This paper presents the functionalization of amine derivatized glass slides with a poly(maleic anhydride)-based comb-copolymer to facilitate stretching, aligning, and imaging of individual dsDNA chains.  ',\n",
       " 'Fabrication of Suspended Metal-Dielectric-Metal Plasmonic Nanostructures  We present a technique to pattern nanostructures with high resolution (~10 nm) onto both sides of a 30-nm-thick membrane. With membrane as a precise spacer, metal/dielectric/metal antennas were fabricated with ultra-smooth interfaces and uniform gaps across large arrays, and the study of dipole antennas with gaps aligned vertically is also novel.  ',\n",
       " 'Synthesis and phase evolutions in layered structure of Ga2S3 semiconductor thin films on epiready GaAs (111) substrates  Growth of Ga2S3 for optoelectronic applications.  ',\n",
       " 'Crystallographic tilt in GaN-on-Si (111) heterostructures grown by metal-organic chemical vapor deposition  MOCVD growth of GaN-on-Si  ',\n",
       " 'Highly conductive and transparent aluminum-doped zinc oxide thin films deposited on polyethylene terephthalate substrates by pulsed laser deposition  This paper shows the growth and characterization of Al-doped zinc oxide on plastic in terms of thickness.  ',\n",
       " 'Dendrimer Based Nanostructured Ultrathin Films formed by Covalent Molecular Assembly in Supercritical Carbon dioxide  This book chapter reports the nanostructured layer by layer films of dendrimers on the 2D and 3D silicon dioxide structures using covalent molecular assembly in supercritical carbon dioxide and also their applications in non volatile memory device and tribology  ',\n",
       " 'High voltage STM imaging of single Copper Phthalocyanine  This book chapter reports experiments done to investigate the scanning tunneling microscope (STM) imaging at near field emission voltages of single Copper Phthalocyanine (CuPc) molecules deposited on Au(111)  ',\n",
       " 'Effect of Ge diffusion on AlxGa1-xN/GaN HEMT on a thin SOI  In this letter, the effect of Ge diffusion at the gate area of AlxGa1-xN/GaN high electron mobility transistors (HEMTs) on a thin silicon-on-insulator (SOI) substrate has been investigated. The pinch-off voltage shifted towards enhancement mode type operation behavior due to the Ge diffusion on the surface of the thin GaN cap layer. An anomalous hump observed in high frequency C-V plot is due to the electron confinement at the Ge-GaN/AlGaN interface. The threshold voltage reduces by 0.8 to 1.0 V after Ge diffusion. The drive current and the transconductance further reduced as compared to the control sample due to the parallel channel formation at the top Ge-GaN/AlGaN interfaces.  ',\n",
       " 'Hybrid Polymersomes: Facile Tuning of Vesicular Surface for Enhancing Cellular Interaction  A simple modification of polymersomes with charged lipids enhances the cellular interaction which is otherwise stealth. This simple method will allow to release lipid antigens.  ',\n",
       " 'Redox responsive nanotubes from organometallic polymers by template assisted layer by layer fabrication  Redox responsive nanotubes were fabricated by the template assisted layer-by-layer (LbL) assembly method and employed as platforms for molecular payload release.  ',\n",
       " 'Photoluminescence from Amino-Containing Polymer in the Presence of CO2: Carbamato Anion Formed as a Fluorophore  The fluorescence of amino-containing polymers in the presence of CO2 is discovered.  ',\n",
       " 'Co-delivery of drug and DNA from cationic dual-responsive micelles derived from poly(DMAEMA-co-PPGMA)  This paper describes the co-delivery of drug and DNA from cationic dual-responsive micelles derived from poly(DMAEMA-co-PPGMA)  ',\n",
       " 'Supramolecular Host-Guest Polymeric Materials: Towards Biomedical Applications  This is a prestigious invited review on the area of supramolecular hydrogels for biomedical applications  ',\n",
       " 'A Study of DNA Design Dependency of Segmented DNA-Induced Gold Nanoparticle Aggregation towards Versatile Bioassay Development  Tuning the DNA design parameters to form Transient base-pairing based on aggregation between symmetrical and asymmetrical sets of complementary segmented DNA-AuNPs conjugates towards efficient detection of DNA binding proteins.  ',\n",
       " 'Tailoring the Protein Conformation to Synthesize Different-Sized Gold Nanoclusters  Gold nanoclusters with five discrete sizes (Au4, Au8, Au10, Au13, and Au25) are synthesized in a protein template with predefined conformation via a CO-mediated synthesis.  ',\n",
       " 'Hierarchically Built Hetero-superstructure Arrays with Structurally Controlled Material Composition  This paper demonstrates the formation of hierarchical structures using an entirely self assembly based methods.  ',\n",
       " 'Facile Self-Assembly of Intermetallic [Ni2Gd2] Cubane Aggregate for Magnetic Refrigeration  A convenient one-pot method under atmospheric conditions was developed to promote the self-assembly of [Ni2Gd2] molecular metal aggregate. This, even low nuclear molecular magnet, shows high magneti-caloric effect.  ',\n",
       " 'Piezoelectric Polymer Multilayer on Flexible Substrate for Energy Harvesting  Analytical and numerical models are developed to understand the effect of material parameters on the energy harvesting performance of the multilayer piezoelectric polymer structure. The results indicate that it is feasible to produce piezoelectric polymer multilayer structure on flexible substrate for harvesting mechanical energy applicable for many low power electronics.  ',\n",
       " 'Dielectric behaviors and high energy storage density of nanocomposite with core-shell BaTiO3@TiO2 in poly(vinylidene fluoride-hexafluoropropylene)  Nanocomposites comprising P(VDF-HFP) matrix and core-shell structured nanoparticle fillers were prepared, in which a crystalline, ultrathin TiO2 shell layer encapsulates BaTiO3 nanoparticles. The observed significant improvement in polarization is attributed to the interactive interfaces, resulting dielectric energy density among the highest for polymer-ceramic composites.  ',\n",
       " 'Dinuclear Cu(II) 1,2,3-Triazole-Bridged Complex with Ferromagnetic Coupling  Using rare azole-bridged ferromagnetically coupled dinuclear Cu(II) complexes as examples, the paper demonstrates the potential of using heterocyclic triazoles to support magnetically active dinuclear Cu(II) complexes. The finding marks a step closer to the establishment of magnetostructural relationship and understanding of magnetic exchangemechanism through 1,2,3-triazoles.  ',\n",
       " 'Layer-by-Layer Assembled Multilayer Shells for Encapsulation and Release of Fragrance  For the first time an LbL-assembled shell is employed to encapsulate fragrance-containing oil-in-water emulsion. The model fragrance consists of 10 ingredients, covering a range of typically employed aroma molecules. The released fragrance remains almost constant over 3 days of incubation at 40 C, the multilayer shell does not hinder release.  ',\n",
       " 'The 3rd Molecular Materials Meeting (M3) @ Singapore  This paper gives an overview of some significant papers presented at the 3rd M3 which are later published in this special issue. It also promotes the eco-R&D environment of Singapore and the M3 conference.  ',\n",
       " 'Thermogelling Copolymers for Medical Applications  This is a review on thermogelling copolymers for medical applications  ',\n",
       " 'Direct growth of aligned graphitic nanoribbons from a DNA template by chemical vapour deposition  This paper demostrates for the first time that we can use DNA to grow narrow graphitic ribbons and make working transistors.  ',\n",
       " 'PEGYLATED CONJUGATED OLIGOMERS FOR TARGETED TWO-PHOTON FLUORESCENCE IMAGING OF CANCER CELLS  This study thus highlights the molecular engineering strategy of PEGylation to construct robust TPA materials for two-photon fuorescence imaging applications.  ',\n",
       " 'Trip the plastic fantastic  In the past few years, ever-increasing efficiencies have been achieved in lab-scale organic photovoltaic cells. Can these \"plastic solar cells\" eventually reach commercial scale and provide a solution for low cost solar power? We take a look at the challenges in realizing the potential of organic photovoltaics and introduce some of our work in this field.  ',\n",
       " 'A Battery-less Photo-detector Enabled with Simultaneous Ferroelectric Sensing and Energy Harnessing Mechanism  A self-sustainable mechanism for simultaneously sensing and harnessing photon energy was proposed and implemented to create an unique battery-less and wire-less ultraviolet sensor made of ferroelectric thin films.  ',\n",
       " 'A Thermoresponsive Hydrogel Formed from a Star-Star Supramolecular Architecture  A novel star-star supramolecular architecture was self-assembled from a star-shaped adamantyl-terminated 8-arm poly(ethylene glycol) and a star-shaped poly(N-isopropylacrylamide) with a beta-cyclodextrin core through inclusion complexation. The star-star supramolecular structure further self-aggregated into a 3D network in response to temperature change, forming a thermoresponsive reversible smart hydrogel. The work was featured as Smart Stars by Angew. Chem. Int. Ed.  ',\n",
       " 'PEOlated micelle/silica as dual-layer protection of quantum dots for stable and targeted bioimaging  QDs have been successfully encapsulated into PEO-based polymeric micelle/silica dual layers via interfacial templating condensation.The core-shell nanoparticles generated possess a polymeric micelle framework with a single QD encapsulated in the hydrophobic micellar core, an ultrathin yet robust silica shell confined to the micellar core/corona interface and free PEO chains dangling on the surface. Double shielding of polymeric micelle/silica shell remarkably improves the fluorescence resistance of QDs to strong acids and highly salted buffers. In vitro testing using MDA-MB- 231 breast cancer cells demonstrates that these organic/inorganic dual layer-protected QDs conjugated with folate show noncytotoxicity and bright fluorescence cellular imaging with high target specificity.  ',\n",
       " 'Improved Light Harvesting and Improved Efficiency by Insertion of an Optical Spacer (ZnO) in Solution-processed Small-molecule Solar Cells  We demonstrate that the power conversion efficiency can be significantly improved in solution-processed small-molecule solar cells by tuning the thickness of the active layer and inserting an optical spacer (ZnO) between the active layer and the Al electrode. The enhancement in light absorption in the cell was measured with UV-vis absorption spectroscopy, by measurements of the photo-induced carriers generation rate, and verified by a calculation of optical electric field distribution. The ZnO layer used to improve the light-harvesting increases the charge collection efficiency, serves as a blocking layer for holes, and reduces the recombination rate. The combined optical and electrical improvements raise the power conversion efficiency of solution-processed small-molecule solar cells to 8.94%; i.e. comparable to that of polymer counterparts.  ',\n",
       " 'Dual responsive micelles based on poly[(R)-3-hydroxybutyrate] and poly(2-(di-methylamino)ethyl methacrylate) for effective doxorubicin delivery  This paper relates to the release of an anticancer drug froma amphiphilic biodegradable cationic polymer.  ',\n",
       " 'Incorporation of Poly[(R)-3-hydroxybutyrate] into Cationic Copolymers Based on Poly(2-(dimethylamino)ethyl methacrylate) to Improve Gene Delivery  This paper relates to the enhanced gene transfection properties of a cationic polymer when copolymerized with PHB.  ',\n",
       " 'Flexible Palladium-based H2 Sensor with Fast Response and Low Leakage Detection by Nanoimprint Lithography  Flexible palladium-based H2 sensors have a great potential in advanced sensing applications, as they offer advantages such as light weight, space conservation, and mechanical durability. Despite these advantages, the paucity of such sensors is due to the fact that they are difficult to fabricate while maintaining excellent sensing performance. Here, we demonstrate, using direct nanoimprint lithography of palladium, the fabrication of a flexible, durable, and fast responsive H2 sensor that is capable of detecting H2 gas concentration as low as 50 ppm.  ',\n",
       " 'Polymeric Hydrogels and Nanoparticles: A Merging and Emerging Field  This is a review of the newest research in the field of polymeric hydrogels and nanoparticles  ',\n",
       " 'Low substrate temperature fabrication of high-performance metal oxidethin-film by magnetron sputtering with target self-heating  Al-doped ZnO (AZO) films with high transmittance and low resistivity were achieved on low temperature substrates by radio frequency magnetron sputtering using a high temperature target. By investigating the effect of target temperature (TG) on electrical and optical properties, the origin of electrical conduction is verified as the effect of the high TG, which enhances crystal quality that provides higher mobility of electrons as well as more effective activation for the Al dopants.  ',\n",
       " 'Charge Distribution in the Epitaxial Ti2AlN Thin Films Grown on MgO (111)  Single crystalline Ti2AlN thin films have been grown on MgO(111)substrates at 750 C using DC magnetron sputtering from a Ti2Al alloy target in a mixed N2/Ar plasma.  ',\n",
       " 'Engineering Polymeric Microparticles as Theranostic Carriers for Selective Delivery and Cancer Therapy  Multifunctional polymeric nano- and microparticles are engineered as theranostic carriers and their selective size-dependent cellular uptake is demonstrated.  ',\n",
       " 'Impact of Al passivation and co-sputter on the structural property of -FeSi2 for Al-doped -FeSi2/n-Si(100) based solar cells application  A significant improvement in the maximum open-circuit voltage (Voc) from 120 to 320 mV is 15 achieved upon the introduction of Al doping through cosputtering of Al and amorphous FeSi2 layer.  ',\n",
       " 'Directed Self-Assembly of Densely Packed Gold Nanoparticles  The paper shows for first time successful results in guiding the self assembly of sub-10nm gold nanoparticles by using prefabricated templates by e-beam lithography.  ',\n",
       " 'Facile noninjection synthesis and photocatalytic properties of wurtzite-phase CuGaS2 nanocrystals with elongated morphologies  Wurtzite-phase CuGaS2 nanocrystals with elongated morphologies were successfully prepared via a simple noninjection-based synthetic route and were found to exhibit promising photocatalytic behaviour.  ',\n",
       " 'Understand the growth mechanism of a-Fe2O3 nanoparticles through a controlled shape transformation  The growth mechanism of a-Fe2O3 nanoparticles in solution has been elucidated from a comprehensive analysis on the shape and morphology of obtained particles. It is found that the hydrothermal synthesis of a-Fe2O3 nanoparticles from ferric chloride precursor follows two stages.  ',\n",
       " 'Disassembly of Redox Responsive Poly(ferrocenylsilane) Multilayers: The Effect of Blocking Layers, Supporting Electrolyte and Polyion Molar Mass  Disassembly of redox responsive PFS-/PFS+ films, as well as multilayers consisting of PFS-/PFS+ combined with redox inert bilayers were studied.  ',\n",
       " 'Electrochemically controlled release of molecular guests from redox responsive polymeric multilayers and devices  A novel platform technology for a tunable molecular payload release, employing complex release profiles, from electrode surfaces is reported. Organometallic poly(ferrocenylsilanes) (PFSs), featuring redox responsive ferrocene units in their main chain, are used as a carrier medium to prepare thin films by the layer-by-layer (LbL) method for redox triggered delivery.  ',\n",
       " 'Synthesis and Self-Assembly of Halogen-Bond Donor---Spacer---Hydrogen-Bond Donor Molecules: Polymeric Liquid Crystals Induced by Combination of Intermolecular Halogen- and Hydrogen-Bonding Interaction  The novel halogen- and hydrogen-bonded assembly reported in this paper is thought to provide an excellent model upon which to build supramolecular polymeric liquid crystals through a precise manipulation of the two types of non-covalent interactions.  ',\n",
       " 'The coloration and degradation mechanisms of electrochromic nickel oxide  Showed a high performance solution deposited electrochromic nickel oxide. Explained the coloration and degradation mechanism of electrochromic nickel oxide  ',\n",
       " 'Layer-By-Layer Assembly of Ag Nanowires into 3D Woodpile-like Structures to Achieve High Density \"Hot Spots\" for Surface-Enhanced Raman Scattering  This paper addresses the inhomogeneous distribution of SERS intensity in a SERS substrate by fabricating Ag nanowires into 3D woodpile-like platforms via layer-by-layer Langmuir-Blodgett assembly. We focus on promoting strong electromagnetic coupling between parallel and vertically stacked Ag nanowire pairs within the woodpile structure to achieve a high density of hot spots across the entire 3D SERS substrates.  ',\n",
       " 'High throughput and high yield nanofabrication of precisely designed gold nanohole array for fluorescence enhanced detection on biomarkers  We are the first to report combining nanopattern nickel mould fabrication and UV imprinting for gold nanostructure mass fabrication on a 4 glass wafer with high yield. The fluorescence enhanced by the fabricated chip for prostate specific antigen (PSA) detection demonstrated 10 times sensitivity improvement compared with a gold film.  ',\n",
       " 'Electron and hole mobility in solution-processed small molecule-fullerene  ambipolar effect with p- and n- blended orgaic semiconductor polymers  ',\n",
       " 'Ferroelectric PVDF homopolymer nanotubes derived from solution in anodic alumina membrane template  Poly(vinylidene fluoride) (PVDF) homo-polymer nanotube array with the desired ferroelectric phase is fabricated. A significantly improved effective piezoelectric coefficient d33 is obtained over the thin film counterpart with solid substrate.  ',\n",
       " 'Efficient Solution-Processed Small Molecule Solar Cells with Inverted Structure  Solution processed small molecule semiconductor that achieve PCE of 7.88%  ',\n",
       " 'Tunable terahertz metamaterials  This is an invited review paper. It discusses the methods and current progresses in tunable THz metamaterials, offering a glimpse of the future applications of these novel devices.  ',\n",
       " 'Stable Organic Monolayers on Oxide-Free Silicon/Germanium in Supercritical Medium: A New Route to Molecular Electronics  First report on oxide-free Si/Ge surfaces modification with organic molecules using SCCO2. BEEM reveals for the first time an increase in transmission of the ballistic current through the interface of up to three times compared to a control device, in contrast to similar studies reported in the literature suggestive of oxide free passivation in SCCO2. The SCCO2 process combined with the BEEM results opens up new avenues for interface engineering leading to molecular electronic devices.  ',\n",
       " 'Plasmonic Metal Nanostructures Array by Glancing Angle Deposition for Biosensing Application  This paper investigates the application of gold nanostructure array fabricated on a layer of closely packed polystyrene nanospheres as a plasmonic chemical or biological sensor.  ',\n",
       " 'Sustained delivery of paclitaxel using thermogelling poly(PEG/PPG/PCL urethane)s for enhanced toxicity against cancer cells  Work describes the use of a thermogel for chemotherapeutic applications  ',\n",
       " 'Design and synthesis of benzothiadiazoleoligothiophene polymers for organic solar cell applications  A series of p-type copolymers based on oligothiophene and benzothiadiazole units was synthesised via Stille coupling and their physical, electrochemical and photovoltaic properties were evaluated.  ',\n",
       " 'Multifunctional Semiconductor Nanoheterostructures via Site-Selective Silica Encapsulation  This paper details a facile synthetic strategy for producing, with exquisite structural control, multifunctionality in semiconductor nanoparticles. Via the strategy described in the paper, semiconductor nanoparticles which are known to be highly fluorescent in the visible range were also able to simultaneously produce fluorescence in the near infrared range. It is demonstrated that the method can also be used to produce fluorescent semiconductor nanoparticles which exhibited magnetic properties as well. To summarize, the importance of the synthetic strategy introduced in this work lies in its generality to design and incorporate a certain functionality into a semiconductor nanoparticle in a controlled and structurally well-defined way.  ',\n",
       " 'Electroplated CoPt magnets for actuation of stiff cantilevers  We developed a way to integrate permanent magnetic material on a MEMS structure, in this case an AFM cantilever, thus allowing much higher magnatic actuation force to be applied than typically available.  ',\n",
       " 'Desorption of Ambient Gas Molecules and Phase Transformation of a-Fe2O3 Nanostructures during Ultra High Vacuum Annealing  Desorption and readsorption of gas molecules from ambient air onto the surface of a-Fe2O3 quasi-1D nanostructures (nanoflakes and nanostrips) were studied in situ by X-ray photoelectron spectroscopy (XPS) and ex situ by X-ray diffraction (XRD) and scanning electron microscopy (SEM). XPS revealed that carbon and oxygen species were physisorbed and chemisorbed as C-C/C-H, C-O, O-C=O, and O2 states on both surfaces of a-Fe2O3 quasi-1D nanostructures upon exposure in air.  ',\n",
       " 'Magnetic Resonance Imaging (MRI) contrast agents for tumor diagnosis  The current state of MRI contrast agents are reviewed.  ',\n",
       " 'Aqueous Synthesis of Highly Luminescent AgInS2-ZnS Quantum Dots and their Biological Applications  Highly luminescent AgInS2-ZnS quantum dots that can be readily utilized in biological applications have been successfully prepared in aqueous media.  ',\n",
       " 'Surface Plasmon Damping Quantified with an Electron Nanoprobe  The damping parameters of surface plasmons is measured in single nanoparticles for the first time using a TEM-based technique. The presented method serves as a common platform to mutually compare the performance of novel plasmonic materials and devices.  ',\n",
       " 'Friction measurement on free standing plates using atomic force microscopy  This describes a new method to measure the friction on an object (e.g. a MEMS device, paper) which is free standing on a surface.  ',\n",
       " 'Effects of AlN thickness on structural and transport properties of In-rich n-AlInN/AlN/p-Si(001) heterojunctions grown by magnetron-sputtering  We have studied the effect of AlN buffer layers, having variable thicknesses in situ grown by rf-magnetron sputtering, on the structural and vibration dynamic properties of AlInN thin films grown by dc-magnetron sputtering on Si(0 0 1) substrates at 700 ?C.The solar cell based on n-AlInN/AlN/p-Si exhibits a typical diode-like dark IV curve; however, its photocarrier collection is apparently suppressed due to the polarization charges at the junction interfaces.  ',\n",
       " 'Study of amino-functionalized mesoporous silica nanoparticles (NH2-MSN) and polyamide-6 nanocomposites co-incorporated with NH2-MSN and organo-montmorillonite  In this work, spherical mesoporous silica nanospheres (MSNs) functionalized by content-tunable amino groups were synthesized via a facile co-condensation method aided by both ionic and nonionic surfactants. 3-Aminopropyltrimethoxysilane (APTMS) was added to co-condense with tetraethyl orthosilicate in basic aqueous solution at varied concentration, obtaining different surface amino content. The influence of APTMS concentration on the morphology, pore structure and surface amino coverage of synthesized nanoparticles was systematically investigated.  ',\n",
       " 'Effect of interphase and strain-rate on the tensile properties of polyamide 6 reinforced with functionalized silica nanoparticles  The effects of the polymer/nanofiller interphase as well as the strain-rate on the tensile behaviors of polyamide 6 (PA6) nanocomposites were studied.  ',\n",
       " 'Templated Nanopores for Robust Functional Surface Porosity in Poly(methyl methacrylate).  A new technique was developed to generate stable surface nanoporosity in poly(methyl methacrylate). Our method allows creation of a conformal surface porous layer in thermoplastics and a variety of nanoporous surface morphologies can be achieved. Nanoporous surfaces consisting of surface deposited nanoparticles were compared with surface porosity creted by our method. While equally functional, porous layers generated by our technique have superior durability.  ',\n",
       " 'Templated Nanopores for Robust Functional Surface Porosity in Poly(methyl methacrylate).  A new technique was developed to generate stable surface nanoporosity in poly(methyl methacrylate). Our method allows creation of a conformal surface porous layer in thermoplastics and a variety of nanoporous surface morphologies can be achieved. Nanoporous surfaces consisting of surface deposited nanoparticles were compared with surface porosity creted by our method. While equally functional, porous layers generated by our technique have superior durability.  ',\n",
       " 'Redox-controlled release of molecular payloads from multilayered organometallic polyelectrolyte films  stimulus responsive thin film study  ',\n",
       " 'Tuning Self-Assembly of Hybrid PLA-P(MA-POSS) block Copolymers in Solution via Stereocomplexation  Elucidating the mechanism of stereocomplex formation in hybrid block copolymers  ',\n",
       " 'Surface passivation and interface properties of bulk GaAs and epitaxial- GaAs/Ge using atomic layer deposited TiAlO alloy dielectric  High quality surface passivation on bulk-GaAs substrates and epitaxial-GaAs/Ge (epi- GaAs) layers were achieved by using atomic layer deposited (ALD) titanium-aluminum-oxide (TiAlO) alloy dielectric.  ',\n",
       " 'Holographically Formed, Acoustically Switchable Gratings Based on Polymer-Dispersed Liquid Crystals  We report holographic polymer-dispersed liquid crystal (H-PDLC) gratings driven by surface acoustic waves (SAWs).  ',\n",
       " 'Chemical Cross-Linkers for Protein Structure Studies by Mass Spectrometry  The cross-linking approach combined with mass spectrometry for protein structure determination is one of the most striking examples of multidisciplinary success. We review here the significant efforts made to design new cross-linkers matching all the requirements in terms of reactivity and selectivity but also displaying probes or reactive systems facilitating the isolation and the acquisition data.  ',\n",
       " 'Influence of stress on structural properties of AlGaN/GaN high electron mobility transistor layers grown on 150 mm diameter Si (111) substrate  Addressed the stress effect in the growth of GaN-on-Si.  ',\n",
       " 'Interfacial Properties of Silicon Nitride Grown on Epitaxial Graphene on 6H-SiC Substrate  Si3N4 thin films were grown on epitaxial graphene layers on 6H-SiC (0001) substrate, and the related interfacial properties have been studied by using highresolution transmission electron microscopy (TEM), X-ray photoemission spectroscopy (XPS), and first-principles calculations.  ',\n",
       " 'Azide-Bridged Cd(II) 1D Coordination Polymer with Cd13 Nano-Crown-like Cluster  A novel polymeric one-dimensional cadmium(II)chain shows tridecanuclear Cd13 crown-like clusters cores.  ',\n",
       " 'Measurement of contact voltage drop and resistance in organic solar cells  Direct determinaion of voltage drop (attributed to interfacial extraction barrier) was done via analysis based on space-charge-limited photocurrent  ',\n",
       " 'P(VDF-TrFE) ferroelectric nanotube array for high energy density capacitor applications  Compared with thin film with similar overall thickness, the nanotube array as proposed has a theoretical capacitance that is 763 times larger, indicating that the nanotube arrays as obtained are promising for realizing high density capacitance and high power dielectric energy storage.  ',\n",
       " 'Defect engineering in Se-doped CdS nanobelt: An insight into carrier relaxation dynamics via optical pump-terahertz probe spectroscopy  Our results demonstrate that doping effect can result in a significant modification for the optoelectrical property of semiconductors. These results are helpful for defect control through balancing the densities between surface trap states and interior structural defects states.  ',\n",
       " 'Biodegradable Hyperbranched Amphiphilic Polyurethane Multiblock Copolymers Consisting of Poly(propylene glycol), Poly(ethylene glycol), and Polycaprolactone as in Situ Thermogels  This paper reports the synthesis and characterization of new hyperbranched amphiphilic polyurethane multiblock copolymers consisting of poly(propylene glycol) (PPG), poly(ethylene glycol) (PEG), and polycaprolactone (PCL) segments as in situ thermogels. The new thermogelling copolymers reported in this paper could potentially be used as in situ-forming hydrogels for biomedical applications.  ',\n",
       " 'Large area patterning of single-wall carbon nanotubes by nanoimprint technology  Combination of a layer by layer technique and nanoimprint for realisation of large area patterning.  ',\n",
       " 'Effect of Al incorporation on the crystallization kinetics of amorphous FeSi2 into poly -FeSi2 film on SiO2/Si(100) substrate  The paper describes the use of Differential Thermal Analysis (DTA) to study the crystallization kinetics of amorphous FeSi2. Using this technique, Al incorporation found to increase activation energy of beta-phase FeSi2 formation.  ',\n",
       " 'pH-Responsive Nanogels: Synthesis and Physical Properties  The recent and significant research in the field of pH responsive nanogels is being summarized  ',\n",
       " 'PYRENE EMISSION FROM MONOLAYERS CLICKED ONTO QUARTZ  Shows possible CT interaction of closely packed pyrene molecules in a monolayer  ',\n",
       " 'Study Sequence Rules of ERa - DNA Interactions Using Dual Polarisation Interferometry and Computational Modeling  Dual Polarization Interferometry (DPI) was used to measure ERa binding to generate an in vitro binding energy model. A motif discovery algorithm, i.e. Thermodynamic Modeling of ChIP-seq (TherMos), was used to compute the binding energy model from in vivo genome-wide ERa binding data. The in vitro affinity model measured by DPI correlates very well with the TherMos prediction (in vivo model), with a rank correlation coefficient of 0.91. This is the first report of DPI study of protein-dsDNA interactions.  ',\n",
       " 'Slashing LED chip costs with large-scale silicon  This is a demonstration of IMRE expertise to showcase 200 mm LED on silicon in an industry-centric magazine.  ',\n",
       " 'Investigation of transmission of Au films with nanohole arrays created by nanosphere lithography  A nanohole array has been created onto Au films on glass substrates by using self-assembled polystyrene spheres. Transmission spectra of the nanostructured Au films show strong enhancement (more than 45%) in a wide range from 300 nm to 1600 nm.  ',\n",
       " 'Sustained delivery of doxorubicin from thermogelling poly(PEG/PPG/PTMCurethane)s for effective eradication of cancer cells  A series of multiblock poly(ether carbonate urethane)s comprising poly(trimethylene carbonate), poly(ethylene glycol), and poly(propylene glycol) segments, with a molecular weight of 60000 g mol-1, were synthesized. Thermogelling behaviors of the aqueous copolymer solutions were observed at gelation concentrations as low as 2 wt%. Rheological characterizations on the thermogel were carried out as a function of temperature and strain. The gels showed good recovery characteristics after being subjected to high strain. A sustained and complete doxorubicin release over 50 days can be achieved with this system. The rate of release can be tuned by changing the gel concentration or by using a copolymer with a different composition. The doxorubicin-loaded gels were effective in controlling the growth of HeLa cells when compared with doxorubicin dissolved in solution. The results demonstrated that the copolymers could be potentially used in chemotherapeutic applications.  ',\n",
       " 'Gene delivery by functional inorganic nanocarriers  This paper describes gene delivery by functional inorganic nanocarriers and compares the efficiencies of each of the methods  ',\n",
       " 'Supramolecular Anchoring of DNA Polyplexes in Cyclodextrin-Based Polypseudorotaxane Hydrogels for Sustained Gene Delivery  A supramolecular hydrogel system based cyclodextrin and supramolecularly anchored active cationic copolymer/plasmid DNA (pDNA) polyplexes was developed and studied as a sustained gene delivery carrier. Being thixotropic and easily prepared without using organic solvent, this supramolecular in situ gelling system has immense potential as an injectable carrier for sustained gene delivery applications.  ',\n",
       " '2D ordered arrays of nanopatterns fabricated by using colloidal crystals as templates  A facile approach to fabricate 2D ordered arrays of nanostructures is proposed firstly through natural lithography. The fabrication procedure can produce large-area, size-tunable, periodic nanostructures with excellent structural uniformity. Experimental and simulating results show that unique 2D nanostructures, with the feature size being much smaller than the diameter of the spherical particles used, can be obtained by our method  ',\n",
       " 'Impact of buffer layer on Atomic Layer Deposited TiAlO Alloy Dielectric Quality for Epitaxial-GaAs/Ge Device application  The results demonstrate the integration of ALD TiAlO dielectric with epi-GaAs through an AlGaAs buffer layer, which can provide a platform for the next-generation GaAs/ Ge-based technology.  ',\n",
       " 'The effect of pH on the hydrolytic degradation of poly(?-caprolactone)-block-poly(ethylene glycol) copolymers  The in-vitro hydrolytic behavior of diblock copolymer films consisting of poly(e-caprolactone) (PCL) and poly(ethylene glycol) (PEG) was studied at pH 7.4 and pH 9.5 at 37 C. The degradation of these films were characterized at various time intervals by mass loss measurements, GPC, 1H NMR, DSC, FT-IR, XRD and SEM.  ',\n",
       " 'Poly(DMAEMA-co-PPGMA): Dual-Responsive Reversible Micelles  This paper describes a series of reversible micelles with poly(dimethylaminoethyl methacrylate) (PDMAEMA), and poly(propylene glycol methacrylate) (PPGMA) segments were synthesized by atom transfer radical polymerization (ATRP) technique.  ',\n",
       " 'Magneto-optical Kerr Effect Investigation on Magnetoelectric Coupling in Ferromagnetic/Antiferroelectric Multilayer Thin Film Structures  A magnetoelectric (ME) membranes comprising soft ferromagnetic Ni and antiferroelectric (AFE) (Pb,La)(Zr,Sn,Ti)O3 (PLZST) layers were proposed and fabricated through a bulk micro-machining process on silicon wafers. A sensitive AC-mode magneto-optical Kerr effect (MOKE) technique was proposed to quantify the magnetoelectric coupling in the multilayer membranes.  ',\n",
       " 'Chelating Schiff bases assisted azide-bridged Mn(II), Ni(II) and Cu(II) magnetic coordination polymers  Interesting polymeric structures and magnetic behaviours.  ',\n",
       " 'PLASMONIC NANOLITHOGRAPHY: TOWARDS NEXT GENERATION NANOPATTERNING  Plasmonic nanolithography (PNL) is a surface plasmons (SPs)-based high resolution nanolithography technology. It has attracted great interests for its capability of forming sub-diractionlimit patterns. It explores the properties of surface plasmons in tight light connement, strongly localized optical eld and the enhancement of evanescent field for super-resolution imaging and lithography.Upon the distinct interactions between the light and nanostructures, the PNL is categorized into three types, i.e. enhanced near-field lithography (ENL), superlens (planar lens) lithography (SLL) and focused plasmonic lithography (FPL). This paper will give an overview of the development of these technologies and the latest achievements  ',\n",
       " 'Wafer level silicon mould fabrication and imprinting of high density microstructures  We fabricated the high density 4\" silicon mould through photolithography, the size of the microstructures are just 3 micrometers in square and they fill in the whole 4\" wafer with a gap of 8 micrometers only. This is difficult to achieve by photolithography in the cleanroom.  ',\n",
       " 'General One-Step Self-Assembly of Isostructural Intermetallic CoII3LnIII Cubane Aggregates  A new family of Co/rare-earth intermetallic cubane aggregates [Co3Ln(hmp)4(OAc)5H2O] (Ln = Dy, Ho, Er, Tm, Yb, Y) have been synthesized by self assembly. Single-crystal XRD analysis revealed that they are remarkably isostructural in showing a common [Co3Ln] core. Magnetic studies showed that the Dy, Er, Tm,Yb, and Y complexes are ferromagnetic. The Dy complex exhibits largest magnetocaloric effect (-?Sm = 12.58 J kg-1 K-1), which can be attributed to large magnetic density of DyIII.  ',\n",
       " 'High performance organic photovoltaic cells with blade-coated active layers  We demonstrate high performance OPV cells with efficiencies up to 6.74% by blade coating, a technique which is compatible with the roll-to-roll process.  ',\n",
       " 'Influences of alcoholic solvents on spray pyrolysis deposition of TiO2 blocking layer films for solid-state dye-sensitized solar cells  Influences of alcoholic solvents for titanium diisopropoxide bis(acetylacetonate)(TPA)precursor solutions on the spray pyrolysis deposited TiO2 films and the photovoltaic performance of the solid- state dye-sensitized solar cells(SDSCs)using these TiO2 films as the blocking layers were investigated.Smooth TiO2 films and better cell performance were obtained by use IPA as the solvent for spray pyrolysis deposition of TPA at a relatively low temperature of 260 C. On the other hand,when ethanol was used as solvent,the TiO2 films fabricated at the same temperature showed much rougher surfaces with many pinholes.Our results showed that ethanol reacts with TPA, which requires a higher thermal decomposition temperature .  ',\n",
       " 'Electromechanical properties and fatigue of antiferroelectric (Pb,La)(Zr,Sn,Ti)O3 thin film cantilevers fabricated by micromachining  Antiferroelectric PLZST microcantilvers were achieved with micromachining process, exhibiting digital-type displacement and superior strain-fatigue resistance.  ',\n",
       " 'Robust, High-Density Zinc Oxide Nanoarrays by Nanoimprint Lithography-Assisted Area-Selective Atomic Layer Deposition  A generic method to high resolution patterning of materials attainable by atomic layer deposition is described. The method is unique in that it effectively combines advantages of three different techniques: block copolymers for high pattern resolutions; NIL for repeatability and throughput; ALD for material quality and mechanical stability; High-quality ZnO nanopatterns with excellent charge trapping capacity and charge retention, promising for use within charge-trap flash memories is demonstrated.  ',\n",
       " 'Nanoimprinted ultrafine line and space nanogratings for liquid crystal alignment  Ultrafine 50 nm line and space nanogratings were fabricated using nanoimprint lithography, and were further used as an alignment layer for liquid crystals.  ',\n",
       " \"Fabrication of ZnO nanodisc arrays using nanoimprint lithography  A generic process is described, using block copolymer assisted NIL, to produce high-resolution NIL molds for the production of ZnO nanodiscs. The work shows promising charge storage properties of the produced ZnO nanodiscs for application within charge trap flash memories. The article is highlighted as a 'hot article' by the the journal in its blog (http://blogs.rsc.org/jm/2012/10/19/hot-paper-nanodisc-arrays-of-zno-from-block-copolymer-self-assembly-and-nanoimprint-lithography/)  \",\n",
       " 'Titania-coated Metals Nanostructures  The synergistic effect between metal and TiO2 nanoparticles brings about new, enhanced functionalities for a myriad of applications, ranging from labeling and sensing to catalysis and surface-enhanced Raman scattering.Although extensive work has been done in the preparation of concentric TiO2-coated metal nanostructures, current methods for the synthesis of noncentrosymmetric morphologies are still very limited. This Focus review summarizes the various methods used to prepare TiO2-coated metal nanostructures, with a particular emphasis on noncentrosymmetric morphologies, their novel plasmonic properties, and their promising applications in the fields of catalysis and photocatalysis.  ',\n",
       " 'Polyimide/Graphene Oxide Composites: Preparation, Matrix-Filler Interactions, and Enhancement in Thermomechanical Properties  The preparation of nanocomposites having polyimide (PI) as matrix and graphene oxide (GO) as filler, analyses of matrixfiller interactions, and enhancements in thermomechanical properties of PI/GO as compared with pristine PI. The matrixfiller interactions were analyzed by 1H NMR, X-ray photoelectron spectroscopy, and density functional theory calculations. The data suggested stronger matrixfiller interactions in PI/GO as compared with PI/G composites. The stronger matrixfiller interactions and homogeneous dispersion of fillers lead to a significant enhancement in mechanical properties in PI/GO nanocomposites.  ',\n",
       " 'Three dimensional integration of waveguides in bulk silicon  We demonstrated the ability to achieve three-dimensional (3D) vertical stacking of waveguides in bulk silicon using proton beam irradiation with electrochemical etching in hydrofluoric acid.  ',\n",
       " 'metal assisted photonic mode for ultrasmall bending radius with long propagation length at visible wavelengths  In this work, we investigate the use of metal-assisted photonic guiding in a polymer-metal waveguide as an alternative approach for high density photonic integration at visible wavelengths. We demonstrate high confinement and long propagation length in sub-wavelength dimensions down to 300nm200nm using leakage radiation microscopy at a wavelength of 632.8 nm.  ',\n",
       " 'Ultrafast insulator-metal phase transition in vanadium dioxide studied using optical pump-terahertz probe spectroscopy  Our results help improve the understanding of phase transition in VO2 and are useful for designing VO2 based optical device, such as optical switches and optical modulators.  ',\n",
       " 'Epitaxial growth of ZnO film on Si(111) with CeO2(111) as buffer layer  ZnO(0 0 2) epitaxial films have been successfully grown on Si(1 1 1) with CeO2 as a buffer layer by pulsed laser deposition. Further works on ZnO based transistor on Si can be explored on the basis of this work.  ',\n",
       " 'The 2nd Molecular Materials Meeting (M3) @ Singapore  It publicized the Molecular Materials Meeting (M3) @ Singapore that is an IMRE-own event, promoting research collaboration. Effort was also given to publicize Singapore being a good R&D hub for industrial collaborations.  ',\n",
       " 'Magnetron-sputter deposition of high-indium-content n-AlInN thin film on p-Si(001) substrate for photovoltaic applications  Explorating the potential of III-nitrides in photovoltaic applications.  ',\n",
       " 'Glycosylated Star-Shaped Conjugated Oligomer for Targeted Two-Photon Fluorescence Imaging  Water soluble oligomer for Two-photon cell imaging with good targeting ability  ',\n",
       " 'Composite Metal?Oxide Nanocatalysts  To incorporate new functionalities, various oxide materials can be composited with metal nanoparticles to form metaloxide nanostructures, which are very promising for a wide range of applications. In this review, we summarize the recent developments in advanced synthesis of structure-diversified coreshell, yolkshell, Janus, and their combined metaloxide nanostructures. We also summarize their representative catalytic applications including organic reduction and oxidation, CO oxidation, CO2 conversion, watergas shift reaction, and water splitting. We discuss recyclable metaloxide nanocatalysts with mesoporous, hollow, or multilayered structures. We highlight perspectives for their challenges ahead and opportunities for their widely used applications in plasmon localization enhanced photocatalysis,artificial enzyme catalysis, and catalytic biomass conversion.  ',\n",
       " 'Synthesis and electromagnetic properties of U-type hexaferrites: Ba4B2Fe36O60 (B: Co, Ni, Cu)  Polycrystalline U-type hexaferrites Ba4B2Fe36O60 (B: Co,NiandCu)were synthesized using a modified solid state reaction technique. The sintered hexaferrites were tested for their crystalline quality XRD technique and their magnetic properties using the PPMS. The individual ferrites were further used as fillers to prepare composites using polyethylene matrix. The composites were tested for their complex permittivity and permeability spectra and finally reflection loss spectra were derived from these results. Among the studied composites, lowest and highest values of saturation magnetization were 25 and 35emu/g, respectively, for the Cu doped and the Co doped hexaferrites. All the studied composites demonstrated microwave absorption property, which was tunable by manipulating the sample thickness. Co-doped composites offered the highest absorption(98%) and were found the most suitable to suppress electromagnetic interference.  ',\n",
       " 'Solution epitaxy of patterned ZnO nanorod arrays  ZnO nanorods with controllable size and tunable pattern pitch were grown at 90oC in by employing a nano-pattern fabricated by interference lithography that gave perfect c-axis alignment. The photoluminescence intensity of the UV emission peak is increased more than 100 times after the post-growth treatments which also led to lasing from the nanorods.  ',\n",
       " 'Effects of LiF on the Structure and Properties of Ba0.85Ca0.15Zr0.1Ti0.9O3 Lead-Free Ferroelectric Ceramics  Lead-free BCZT piezoelectric ceramic with improved performance properties can be achieved by shifting the polymorphic phase transition point nearer room temperature through the addition of LiF.  ',\n",
       " 'AlGaN/GaN two-dimensional electron gas heterostructures on 200 mm diameter Si(111)  This reports on the epitaxial growth, characterization, and device characteristics of crack-free AlGaN/GaN heterostructures on a 200mm diameter Si(111) substrate. IMRE made first HEMT on 8 inch Si wafer. These experimental results show immense potential of 200-mm diameter GaN-on-silicon technology for electronic device applications.  ',\n",
       " 'Colloidal Nanocrystals of Wurtzite-Type Cu2ZnSnS4: Facile Noninjection Synthesis and Formation Mechanism  Cu2ZnSnS4 (CZTS) is a promising light-absorbing material for solar cells. A facile noninjection route to preparing monodisperse nanocrystalline CZTS that exhibits a wurtzite-derived crystal structure is reported, and insights into the mechanism of its formation are given.  ',\n",
       " 'Alloyed (ZnS)x(CuInS2)1-x Semiconductor Nanorods: Synthesis, Bandgap Tuning and Photocatalytic Properties  Colloidal nanorods of the alloyed semiconductor (ZnS)x(CuInS2)1-x were prepared by using a facile injection-free synthetic approach. A nonlinear dependence of the semiconductor bandgap on the alloy composition was observed. These alloyed nanorods can be effectively utilized as photocatalysts in visible-light-driven dye degradation.  ',\n",
       " 'Layer-by-layer oxidation of InN(0001) thin films into body-center cubic In2O3(111) by cycle rapid thermal annealing  The authors demonstrated layer-by-layer oxidation of InN(0001) thin films into body-center-cubic In2O3(111) by cycle rapid thermal annealing.  ',\n",
       " 'Pyrene-Based Water Soluble Orange Emitter for One- and Two-Photon Fluorescence Cellular Imaging  The successful demonstration of the first water-dispersible pyrene-based TPA material will trigger more research on developing red emitters for bioimaging applications.  ',\n",
       " 'Analysis of photocurrents in lateral-geometry organic bulk heterojunction devices  Lateral-geometry devices are useful for characterizing bulk heterojunction materials use in organic solar cells. This Letter provides basic understanding of current-voltage characteristics.  ',\n",
       " 'Effects of electric field in band alignment measurements using photoelectron spectroscopy  Showed the effects of field in measurement of core levels and work function in photoelectron spectroscopy  ',\n",
       " 'Study of interfaces between phase-change material Ge2Sb2Te5 and prevalent complementary-metal-oxide-semiconductor materials by XPS  The energy band alignment between Ge2Sb2Te5 (GST) and common microelectronic materials such as dielectrics and metals was investigated using XPS. Energy band lineups of GST with various complementary metal-oxide semiconductor dielectrics, that is, SiO2, HfO2, Ta2O5 and Si3N4, were thus determined, which can be used as for phase change memory device engineering and integration with complementary metal-oxide semiconductor technology. Hole barrier height at metal/GST interface is reduced slightly by increasing the work function of the metal. Doping GST with nitrogen leads to an increase in hole barrier height at the interface between metals and nitrogen-doped GST. Significant pinning of metal Fermi level towards the valence band energy of undoped and nitrogen-doped GST was discovered. This leads to low hole barrier height and good ohmic contact formed between metals and GST. The hole barrier height between crystalline GST and various metals appears to increase as compared with the amorphous state.  ',\n",
       " 'Star-Branched Cationic Light-Emitting Dot with Silsesquioxane Core, Synthesis and Light Scattering Studies  Novel star-like hydrophobic and hydrophilic hybrid light-emitting dots were synthesized. The water-soluble cationic polymer contains POSS as a core and two layers shell. The 3D structure renders non-aggregation properties of polymer in water and organic solution as the wavelength for the absorption and luminescence spectra remains unchanged over different concentrations.  ',\n",
       " 'Intermolecular interactions and high dielectric energy storage density in poly(vinylidene fluoride-hexafluoropropylene)/poly(vinylidene fluoride) blend thin films  High energy density of 30.1 J/cm3 was achieved in P(VDF-HFP)/PVDF blend films due to enhanced interfacial polarization, structural reconfiguration and improved crystallinity.  ',\n",
       " 'Ferroelastic strain induced antiferroelectric-ferroelectric phase transformation in multilayer thin film structures  The ferroelastic strain was coupled to the PLZST sub-layer and resulted in antiferroelectric (AFE) to ferroelectric (FE) phase transformation in the PLZST layer. This finding indicates a different strategy to modulate the structure and function for multilayer thin films, and to create unprecedented devices with ferroic thin films.  ',\n",
       " 'Temperature and Composition Dependence of Photoluminescence Dynamics in CdSxSe1-x (0=x =1) Nanobelts  The results of current work are useful to understand the diverse and complex optical behaviors in ternary alloy semiconductor and doped semiconductor nanomaterials.  ',\n",
       " 'Magnetron-sputter epitaxy of -FeSi2(220)/Si(111) and -FeSi2(431)/Si(001) thin films at elevated temperatures  Observed a new epitaxial growth relationship of beta-FeSi2 on Si(001) substrate.  ',\n",
       " 'Hydrothermal Synthesis of CeO2 Nanocrystals: Ostwald Ripening or Oriented Attachment?  In the hydrothermal process, we have found that the oriented attachment of nuclei through a lattice matched surface and subsequent Ostwald ripening results in the growth of CeO2 nanocrystals.  ',\n",
       " 'Light-induced spectral shifting generated from azo-dye doped holographic 2D gratings  Optically tunable two-dimensional (2D) gratings were holographically fabricated in azobenzene-doped polymer-dispersed liquid crystals using a single diffractive element. Our experiments showed that the diffraction efficiency of the gratings could be switched reversibly upon light irradiation. More importantly, we demonstrated for the first time that the diffractive spectrum from the holographic 2D gratings could be optically tuned about 24 nm, which might be useful for optically switchable filters and spectroscopic applications. The all-optical tuning behavior is 15 highly reversible and reproducible, making such kind of gratings promising in active photonic elements.  ',\n",
       " 'Nano-antenna: towards highly efficient room-temperature terahertz source  This is a publication and highlight in the prestigious business journal in the field of laser and optics of our paper on high efficiency THz source using nanoantenna that was published in Nature Photonics.  ',\n",
       " 'Aqueous Phase Reactions on Hollow Silica Encapsulated Semiconductor Nanoheterostructures  We introduce a robust methodology for the aqueous phase synthesis of hierarchically complex metal-semiconductor heterostructures. By encapsulating semiconductor nanostructures within a porous SiO2 shell with a hollow interior, we are able to isolate each particle while allowing it access to metal precursors for subsequent metal growth. We demonstrate using this technique that potentially photocatalytic Pt-decorated CdSe/CdS, PdSe/PdS and Ag2Se/Ag2S tetrapods may be synthesized.  ',\n",
       " 'Degradation mechanisms in organic solar cells: Localized moisture encroachment and cathode reaction  The first mode is associated with a localized failed area due to moisture encroachment, where the confronted areas are either completely dead or still 100% functioning. The second mode was found to be related to a mild decrease in power conversion efficiency (PCE) and was induced by a possible interfacial passivation occurred at the organic/cathode interface, due to the presence of residual oxygen, moisture and other impurities.  ',\n",
       " 'Temperature-dependent phase separation during annealing of Ge2Sb2Te5 thin films in vacuum  Thermal stability of 100 nm Ge2Sb2Te5 thin film during annealing from room temperature to 240?C inside a UHV chamber was studied in situ by X-ray photoelectron spectroscopy (XPS) and ex situ by X-ray diffraction (XRD) and atomic force microscopy (AFM). Ge species are found to diffuse preferentially to the surface when GST film is annealed from 25?C to 100?C. This process is accompanied by a change of phase whereby the amorphous film completely becomes face-center-cubic (FCC) phase at 100 ?C. From 100?C to 200?C, both Sb and Te species are observed to diffuse more to the surface. The FCC phase is partially changed into hexagonal-close-pack (HCP) phase at 200?C. At 220?C, FCC phase is completely transformed into HCP phase. Loss of Sb and Te are also detected from the surface and this is attributed to desorption due to their high vapor pressures. At 240 ?C, Sb and Te species are found to have desorbed completely from the surface, and leave behind Ge-rich 3D droplets on the surface. The separation of Ge2Sb2Te5 into Sb,Te-rich phase and Ge-rich phase is thus the main mechanism to account for the failure of Ge2Sb2Te5-based phase change memory devices under thermal stress.  ',\n",
       " 'High Contrast Superlens Lithography Engineered by Loss Reduction  Sub-diffraction-limited resolution and high contrast thin flat silver superlenses (Ag, Ag/Ni and Ag/Ge) have been engineered through refining interfacial roughness to reduce scattering loss. A smooth interface is a key factor for realizing high performance superlens lithography while the seed layer effect is detrimental. It verifies that a superlens is a potential tool for nano-photolithography.  ',\n",
       " 'Transimission Electron Microscope tomography of nanostructured materials  Electron tomography is the most powerful tool for studying nano-engineered materials in three-dimensions at the nanometer scale. In this paper, we introduce the theory, basic functions, capabilities and limitations of electron tomography, as well as give two examples of its applications on characterizing nanostructured materials.  ',\n",
       " 'On-site chemical reaction lights up protein assemblies in cells  We report a fast and effective method to visualize interactive proteins across intact mammalian cells without fluorescence background interference and adverse effect on biological functions. This fluorogenic labeling opens a way for real-time monitoring of spatial distribution in protein network and comprehending important aspects of cellular functions of organelles.  ',\n",
       " 'Azulene-Containing Organic Chromophores with Tunable Near IR Absorption in the Range of 0.6 to 1.7 m  We report the synthesis of azulene-containing organic chromophores, whose absorption can be tuned in the range of 0.6-1.7 m simply by controlling the substitution of the molecule.  ',\n",
       " 'Chemical Controlled Reversible Gold Nanoparticles Dissolution and Reconstruction at Room-Temperature  we showed that gold nanoparticles can be atomically disollved with aromatic thiols (ArSH) at room temperature. Most importantly, uniform sized gold nanoparticles can be regenerated upon treated with hydrogen peroxide (H2O2).  ',\n",
       " 'Effects of doping and indium inclusions on structural and optical properties of InN thin films grown by MOCVD  Structural and optical perperties of InN thin film and their evolutions upon doping and metallic indium inclusions are studies in detail.  ',\n",
       " 'Magnetron-sputter deposition of Fe3S4 thin films and their conversion into pyrite (FeS2) by thermal sulfurization for photovoltaic applications  Studied the deposition and conversion of FeS2 using a low-cost sputtering and sulfurization method.  ',\n",
       " 'Low temperature processing solid-state dye sensitized solar cells  A study on low temperature processed solid state dye sensitized solar cell (LT-SDSC) is reported. These LT- SDSC are potentially compatible by using with low cost plastic substrates and showing promising manufacturing potential for low cost flexible SDSCs.  ',\n",
       " 'Self-polarized ferroelectric PVDF homopolymer ultra-thin films derived from Langmuir-Blodgett deposition  It was found that Langmuire Blodgett (LB) deposition process led to the direct formation of ferroelectric phase in PVDF homopolymer ultra-thin films with large piezoelectric coefficient.  ',\n",
       " 'Dangling-bond logic gates on a Si(100)-(2x1)-H surface  Atomic-scale Boolean logic gates with two inputs and one output (i.e. OR, NOR, AND, NAND) were designed on a Si(100)-(2x1)-H surface and connected to the macroscopic scale by metallic nano-pads physisorbed on the Si(100)-(2x1)-H surface.  ',\n",
       " 'Light-Driven Plasmonic Color Filters by Overlaying Photoresponsive Liquid Crystals on Gold Annular Aperture Arrays  We demonstrate a light-driven plasmonic color filter by integrating a gold annular aperture arrays with photoresponsive liquid crystals.  ',\n",
       " '\"Microencapsulated bio-markers for assessment of stress conditions in aquatic organisms in vivo\"  Bio-compatible polyelectrolyte sub-micron microcapsules have been developed and applied to deliver fluorescent dyes into zebrafish larvae heart via direct injection in pericardium in vivo. In the paper was demonstrated that micro-capsules circulate in tissues, including brain and trunk, with no blood flow disruptions or any other deleterious effect on its cardiac function. The developed approach has a great potential to use of encapsulated bio-markers as a diagnostic tool in vascular biology and medicine as well as for monitoring of aquatic pollution and ecological risk assessment in eco-toxicological studies.  ',\n",
       " 'High Aspect Subdiffraction-Limit Photolithography via a Silver Superlens  Here, we report an experimental demonstration of sub-50nm resolution nano-photolithography via a smooth silver superlens with a high aspect profile of ~45 nm, as well as grayscale sub-diffraction-limit 3D nano-patterning. Superlens based lithography can be integrated with conventional UV photolithography systems to endow them with the capability of nano-photolithography, which could provide a cost-effective approach for large scale and rapid nano-patterning.  ',\n",
       " 'Nanoparticle Cluster Arrays for High-Performance SERS Through Directed Self-Assembly on Flat Substrates and on Optical Fibers  Metal nanoparticle cluster arrays on flat chips as well as optical fibers, exhibiting gaps down to sub-5 nm between nanoparticles within the cluster and sub-10 nm between the clusters is demonstrated. This is obtained on large areas using cheap processing using directed self-assembly of gold nanoparticles from solution-phase. Rigorous investigation in combination with modeling, simulations establish underlying optical properties of these clusters.  ',\n",
       " 'Synthesis of Silver Nanoparticles with Monovalently Functionalized Self-Assembled Monolayers  First publication of water soluble and long term stable silver nanoparticles with no non-specific binding. Monofunctional silver nanoparticles demonstrated.  ',\n",
       " 'Optically switchable photonic crystals based on inverse opals partially infiltrated by photoresponsive liquid crystals  We demonstrate optically switchable photonic crystals based on SiO2 inverse opals infiltrated with photoresponsive liquid crystals.  ',\n",
       " 'A light emitting transistor based on a hybrid metal oxide-organic semiconductor lateral heterostructure  The light-emitting transistor is a potential display technology. Our approach to making one combines organic and metal oxide semiconductors, which brings several advantages.  ',\n",
       " 'Characterization of Epitaxial-GaAs MOS Capacitors using Atomic Layer Deposited TiO2/Al2O3 Gate Stack: Study of Ge Auto-doping and p-type Zn Doping  Electrical and physical properties of a metal-oxide-semiconductor [MOS] structure using atomic layer-deposited high-k dielectrics (TiO2/Al2O3) and epitaxial GaAs [epi-GaAs] grown on Ge(100) substrates have been investigated.The Zn-doped epi-GaAs with a doping concentration of approximately 1018 cm-3 converts the epi-GaAs layer into p-type since the Zn doping is relatively higher than the out-diffused Ge concentration. The capacitance-voltage characteristics show similar frequency dispersion and leakage current for n-type and p-type epi- GaAs layers with very low hysteresis voltage (approximately 10 mV).  ',\n",
       " 'Calculation of Infrared/Raman Spectra and Dielectric Properties of Various Crystalline Poly(lactic acid)s by Density Functional Perturbation Theory (DFPT) Method  Unlike previous studies (mainly focused on single polymer chain), in this work, we calculated the full spectra of PLA polymer in its condensed state. A better understanding of the effects of crystal symmetry, polymer chain packing and intermolecular interactions on the vibration spectra could thus be achieved via this direct correlation of spectrum to a molecular crystal structure approach.  ',\n",
       " 'Activation and Deactivation of Au-Cu/SBA-15 Catalyst for Preferential Oxidation of CO in H2-Rich Gas  A Au/CuO/SBA-15 catalyst was designed and prepared via a nanoengineering approach in which the metallic particles of average size 3 nm located in the vicinity of CuO particles were highly dispersed on the SBA-15 support. The identification of the catalyst structural evolution and this new contributing factor toward the deactivation of the Au catalysts has provided insights into the field of Au catalysis.  ',\n",
       " 'Comparative Study of Random and Oriented Antibody Immobilization as Measured by Dual Polarization Interferometry and Surface Plasmon Resonance Spectroscopy  Dual polarization interferometry (DPI) is used for a detailed study of antibody immobilization with and without orientation control, using prostate specific antigen (PSA) and its antibody as model. The detailed measurement of PSA-antibody binding process gives detailed geometrical and structural values of each layer, i.e. thickness, mass and density. With the end-on immobilized antibody, PSA at 10 pg/ml can be detected that satisfies the clinical requirement (assuming  ',\n",
       " \"Star-Shaped Glycosylated Conjugated Oligomer for Two-Photon Fluorescence Imaging of Live Cells  we have synthesized a glycosylated star-shaped neutral conjugated oligomer (4,4',4''-tris(4-(2-(4-(benzo[d]thiazol-2- yl)phenyl)-9,9'-bis(6-thiol--D-glucose)-hexyl)-fluoren-7-yl)- phenylamine (TFBS)), using a post-functionalization strategy for two-photon fluorescence imaging of live cells. Because of the presence of hydrophilic glucose substituents, TFBS is able to selfassemble into nanoparticles in aqueous media. The nanoparticles show a high two-photon absorption (TPA) cross section of ~1200 GM at 740 nm in water, which is higher than that for recently reported water-soluble TPA chromophores for twophoton microscopy (TPM) applications.  \",\n",
       " 'Solid State Nano Gears Manipulations  The detailed fabrication and manipulations of solid state nano gears up to 350nm in diameter is reported. Atomic Force Microscopy (AFM) and Ultra High Vacuum (UHV) Scanning Tunneling Microscopy (STM) are used to maneuver the gears. The aim is to bridge the gap between the current solid state gears and the now available nanoscale gears. As in many technology integrations, miniaturization is a way to boost efficiency and an opening to new applications.  ',\n",
       " 'Investigating the stability of defects in MoO3 and its role in organic solar cells  Showed stability of defects differ for annealed and sputtered samples. Showed role of defects in efficiency of solar cells  ',\n",
       " 'Fabricating high-quality GaN-based nanobelts by strain-controlled cracking of thin solid films for application in piezotronics  We reported a novel technique for fabricating gallium nitride based nanobelts with enhanced functions and applications. We have fabricated InGaN/GaN hetero-structured nanobelts that set a new benchmark for performance. We can control the structure and doping of these belts, which makes them more attractive candidates for piezotronic and optoelectronic devices. It is possible to make the nanobelts as long as desired, and they can be arranged in parallel arrays for integration into devices.  ',\n",
       " 'RETRACTED ARTICLE: Greatly enhanced continuous-wave terahertz emission by nano-electrodes in a photoconductive photomixer  An efficient, room-temperature-operation continuous-wave terahertz source will greatly benefit compact terahertz system development for high-resolution terahertz spectroscopy and imaging applications. Here, we report highly efficient continuous-wave terahertz emission using nanogap electrodes in a photoconductive antenna-based photomixer. The tip-totip nanogap electrode structure provides strong terahertz field enhancement and acts as a nano-antenna to radiate the terahertz wave generated in the active region of the photomixer. In addition, it provides good impedance-matching to the terahertz planar antenna and exhibits a lower RC time constant, allowing more efficient radiation, especially at the higher part of the terahertz spectrum. As a result, the output power of the photomixer with the new nanogap electrode structure in the active region is two orders of magnitude higher than for a photomixer with typical interdigitated electrodes. The terahertz emission bandwidth also increases by a factor of more than two  ',\n",
       " 'Field effects in plasmonic photocatalyst by precise SiO2 thickness control using atomic layer deposition  Field effects in plasmonic photocatalyst by precise SiO2 thickness control using atomic layer deposition  ',\n",
       " 'Effects of temperature and LT-ZnO template on structural and optical properties of thermal-evaporation deposited ZnO submicron crystals  The authors did a systematic investigation on growth conditions of ZnO nanofilms on the various substrates with/without buffer layers.  ',\n",
       " 'Experimental evidence for self-assembly of CeO2 particles in solution: formation of single-crystalline porous CeO2 nanocrystals  Using electron tomography, we imaged the three-dimensional structure of the pores in the nanocrystals and found that the oriented aggregation of small CeO2 nanoparticles resulted in the growth of CeO2 nanocrystals with an irregular truncated octahedral shape and pores extending along the 110 directions.  ',\n",
       " 'Optically tunable plasmonic color filters  We fabricated sub-wavelength patterned gold plasmonic nanostructures on a quartz substrate through the focused ion beam (FIB) technique. The perforated gold film demonstrated optical transmission peaks in the visible range, which therefore can be used as a plasmonic color filter. Furthermore, by integrating a layer of photoresponsive liquid crystals (LCs) with the gold nanostructure to form a hybrid system, we observed a red-shift of transmission peak wavelength. More importantly, the peak intensity can be further enhanced more than 10% in transmittance due to the refractive index match of the media on both sides of it. By optically pumping the hybrid system using a UV light, nematic-isotropic phase transition of the LCs was achieved, thus changing the effective refractive index experienced by the impinging light. Due to the refractive index change, the transmission peak intensity was modulated accordingly. As a result, an optically tunable plasmonic color filter was achieved. This kind of color filters could be potentially applied to many applications, such as complementary metal-oxide-semiconductor (CMOS) image sensors, liquid crystal display devices, light emitting diodes, etc  ',\n",
       " 'Azo-dye-doped absorbing photonic crystals with purely imaginary refractive index contrast and all-optically switchable diffraction properties  We demonstrate a two-dimensional absorbing photonic crystal with a uniform real part of the refractive index, but a periodically modulated imaginary part.  ',\n",
       " '0.94(K0.5Na0.5)NbO3-0.06LiNbO3 Piezoelectric Ceramics Prepared from the Solid State Reaction Modified with Polyvinylpyrrolidone (PVP) of Different Molecular Weights  This study showed that introducing PVP in the starting raw materials may be an effective method for obtaining stoichiometric piezoelectric KNNLN and other ceramics with volatile alkali ions.  ',\n",
       " 'Miniaturization of Grayscale Images  How does one make a miniature of a grayscale image without sacrificing details? Here we show how we did just that in a way that the original image can be reproduced when the miniature is imaged in a scanning electron microscope  ',\n",
       " 'Degradation Mechanisms and Electron Kinetics Analysis in Aging Dye Sensitized Solar Cell Using Electrochemical Impedance Spectroscopy  Degradation sequence and electron kinetics in an aging dye-sensitized solar cell (DSSC) is proposed based on the results of electrochemical impedance spectroscopy (EIS). The degradation begins with desorption of excess dye which leads to efficiency improvement and an increase in both the open-circuit voltage (VOC) and charge transfer resistance (RCT). Subsequent degradation mechanisms leading to steady reduction in the efficiency include infiltration of electrolyte into the mesoporous TiO2 film and aggregation of dye. The former leads to more active recapturing of injected electron by the redox couple and is associated with a reduction of RCT due to higher electron exchange current. Dye aggregation is proposed to be the main degradation mechanism at the end of the aging period. This is substantiated on the increase in RCT along with the decline in the chemical capacitance of TiO2, C.  ',\n",
       " 'Zinc, Cobalt and Copper Coordination Polymers with Different Structural Motifs from Picolyl-Triazole Hybrid Ligands  By the green and sustainable CuAAC click reaction, a series of hybrid 1,2,3-triazoles were designed for functional coordination polymers, which including POLO structures, spontaneous chiral resolution, polymorph, and temperature dependent photoluminescence.  ',\n",
       " 'Gallium and Indium codoping of epitaxial Zinc Oxide thin films grown in water at 90C  systematic study of codoping In and Ga to achieve low cost high quality of n type ZnO films with high carrier concentration using solution methods  ',\n",
       " 'Interrogating Estrogen Receptor-DNA Interactions using Metallic Nanoparticles and Surface Plasmon Resonance Technique  AuNP-based assay is a valuable complementary technique to SPR for interrogating sequence-specific proteinDNA interactions. AuNP assay can detect proteinDNA complex formation and determine sequence specificity more easily than SPR assay when the protein is partially denatured or has lower reactivity owing presumably to the homogeneous phase binding nature.  ',\n",
       " 'High electric breakdown strength and energy density in vinylidene fluoride oligomer/poly(vinylidene fluoride) blend thin films  A maximum polarization of 162 mC/m2 and a large electric energy density up to 27.3 J/cm3 were obtained in VDF-PVDF with high crystallinity and rigid dense amorphous phase incorporating long and short polymer chains.  ',\n",
       " 'Thin-film InGaN/GaN vertical light emitting diodes using GaN on silicon-on-insulator substrates  In this paper, we have demonstrated thin film photonic crystal vertical light emitting diodes using GaN-on-silicon-on-insulator approach  ',\n",
       " 'Epitaxy of porous and photocatalytically active TiO2 films at 50oC  Epitaxial anatase TiO2 thin films were grown on (001) oriented SrTiO3 single crystal substrates by liquid phase deposition at 50oC. The film consisted of nanosized crystallites and exhibited a significant void fraction of 31 %. This porosity comes in useful during the photodegradation of a methylene blue dye.  ',\n",
       " 'Nonlinear dielectric thin films for high power electric storage with energy density comparable with electrochemical supercapacitors  The results showed that ferroelectric thin film materials are promising for electric storage with outstandingly high power density and fairly high energy density, comparable with electrochemical supercapacitors.  ',\n",
       " 'First-principles study of NiSi2/HfO2 interfaces:energetics and schottky-barrier heights  Theoretical study on interface tuning of NiSi2/HfO2 to get the desired schottky-barrier heights.  ',\n",
       " 'Effects of annealing on structural and optical properties of InGaN/GaN multiple quantum wells at the emission wavelength of 490 nm.  Atomic interdiffusion within and across the InGaN/GaN MQWs were studied using HRXRD, PL, and TR-PL. The results obtained could be useful when frabricating GaN-based LEDs.  ',\n",
       " 'Performance enhancement in organic photovoltaic devices using plasma-polymerized fluorocarbon-modified Ag nanoparticles  The performance of zinc phthalocyanine:fullerene-based OPV devices showed a significant improvement when the structural identical cells are made with the CFX-modified Ag nanoparticles/ITO.  ',\n",
       " 'Stable Dispersions of Hybrid Nanoparticles Induced by Stereocomplexation between Enantiomeric Poly(lactide) Star Polymers  The formation and characterization of stable dispersions of hybrid nanoparticles in solution formed via stereocomplexation of enantiomeric poly(lactide) hybrid star polymers is reported.  ',\n",
       " 'Fabrication and characterization of bit-patterned media beyond 1.5 Tbit/in^2  Demonstrated one of the highest density bit-patterned media to date at 3.3 Tbit/in^2, ~7x higher than conventional hard disks. Performed magnetic force microscopy on these bits to observe magnetic isolation among bits, essential for these bits to be useful for data storage  ',\n",
       " 'AlxGa1-xN/GaN heterostructures on a thin silicon-on-insulator substrate for metal-semiconductor-metal photodetectors  The paper demonstrated AlGaN/GaN 2DEG heterostructures on a thin silicon-on-insulator (SOI) substrate for UV photodetector application. The technology shows high potential for integration with SOI-based electronics and photonics.  ',\n",
       " 'Evidence for the interfacial reaction between Ni adatoms and H-Si(001) surface  Hydrogen termination of Si surfaces (H-Si) does not stop the interfacial reaction between Ni adatoms and HSi(001) surface at room temperature. At low Ni coverage of 0.1% (equivalent to 0.02 ML), X-ray photoelectron spectroscopy (XPS) reveals a binding energy shift of Ni 2p3/2 to 854.0 eV, which corresponds to the formation a NiSi-like environment. As the coverage of Ni increases, the Ni 2p3/2 eventually shifts to 852.8 eV, indicative of formation of metallic Ni. XPS intensity vs Ni coverage analysis reveals a growth process akin to pseudolayer- by-layer growth mode, thereby suggesting the formation of bulk-Si(001)/NiSi-like/Ni-rich-silicide-like/ metallic Ni structure as growth proceeds. For Ni coverage not more that 33% (equivalent to 12.68 ML), Ni remains protected by the silicide environment and no oxidation of Ni to form Ni-oxides was observed even after exposing the samples to air for 400 days. For samples with Ni coverage above 41%, oxidation of Ni is observed by presence of NiO and NiSiO3 peaks at 854.5 and 857.0 eV, respectively. The current studies suggest that there is reaction between Ni adatoms and Si at the growth front on H-Si(001) surfaces upon Ni deposition at room temperature and hydrogen termination does not suppress the interface reaction between Ni and Si.  ',\n",
       " 'Surface passivation of GaAs substrates with SiO2 deposited using ALD  Feasibility of using atomic layer deposited (ALD) silicon dioxide (SiO2) as interface passivation layer in bulk-GaAs and epitaxial- GaAs (epi-GaAs) substrate is studied. Capacitance-voltage characteristics of the TaN/ALD SiO2/p-GaAs gate stack show low hysteresis (30 mV) compared to ALD HfO2 on bulk p-GaAs.  ',\n",
       " 'Deposition and characterizations of ZnO thin films on Al2O3 (0001) substrates with III-arsenide intermediating layers  This paper revealed the posibility of epitaxial growth of InAs and GaAs thin films on sapphire substrates by molecular beam epitaxy (MBE), as well as the posibliity of epitaxail growth of ZnO on the III-Arsenide layers by rf-magnetron sputtering.  ',\n",
       " 'Optical transmission enhancement and tuning by overylaying liquid crystals on a gold film with patterned nanoholes  The optical transmission of a gold nanohole array was enhanced by overlaying a liquid crystal layer. The tuning behavior of the transmission peak in both intensity and position is highly reversible and reproducible.  ',\n",
       " 'Vertically Standing, Highly Ordered and Dimensions, Morphology Controllable TiO2 Nanotube Arrays via Template-assisted Atomic Layer Deposition  Fabrication of vertically standing, highly ordered, dimensions and morphology controllable TiO2 nanotube arrays.  ',\n",
       " 'Plasmonic Gold Nanocrosses with Multidirectional Excitation and Strong Photothermal Effect  We report a facile chemical synthesis of welldefined gold nanocrosses through anisotropic growth along both and , whereas gold nanorods grow only along either or . The multiple branching was achieved by breaking the face-centered-cubic lattice symmetry of gold through copper-induced formation of single or double twins, and the resulting gold nanocrosses exhibited pronounced near-IR absorption with a great extension to the mid-IR region. As studied by discrete dipole approximation (DDA) simulations, the entire nanocross gets excited even when one of the branches is exposed to incident light. The above properties make them useful as octopus antennas for capturing near-IR light for effective photothermal destruction of cells. The cell damage process was analyzed using the Arrhenius model, and its intrinsic thermodynamic characteristics were determined quantitatively. Besides effective photothermal treatment and two-photon luminescence imaging, the near- and mid-IR-absorbing gold nanocrosses may also find applications in IR sensing, thermal imaging, telecommunications, and the like.  ',\n",
       " 'Fabrication and manipulation of solid-state SiO2 nano-gears on a gold surface  A process is presented to fabricate solid-state nano-gears down to a 60 nm outer diameter with six teeth, where the 350 nm diameter ones already have 24 teeth. The small gears are free to move on a polycrystalline gold surface. The gears can be manipulated one by one, using an atomic force microscope (AFM) tip, to construct a train of gears where mechanical motion can be transmitted from one gear to another by mastering the surface friction. This is a first step on the way to bridge the fabrication gap between microfabricated and molecule gears.  ',\n",
       " 'High performance optoelectronic device based on semitransparent organic photovoltaic cell integrated with organic light-emitting diode  New novle organic electronics device integrated by OLED and OPV.A high performance organic optoelectronic device that integrates a front semitransparent organic photovoltaic (OPV) cell and a microcavity organic light-emitting diode (MOLED) connected with a 0.3-nm-thick plasma-polymerized fluorocarbon film (CFX)-modified ultra-thin silver interlayer (Ag/CFX) has been reported. Through proper selection of the active materials, and optimal design of the device structure, the semitransparent OPV cell in the integrated device achieves power conversion efficiency of 88% of the discrete control OPV device. Here we show that the integrated device possesses a high power conversion efficiency of 3.30% measured under air mass 1.5 global irradiation and a high luminous efficiency of 11.5 cd/A operated at 4.5 V. The performance of devices holds great potential for application in organic sensors possessing both high power conversion efficiency and high luminous efficiency.  ',\n",
       " 'A Versatile Low Bandgap Polymer for Air-Stable, High Mobility Field-Effect Transistors and Efficient Polymer Solar Cells  This paper reports on the synthesis and characterization of a novel low bandgap polymer which can be applied in high efficiency organic solar cells and high mobility thin-film transistors  ',\n",
       " 'Efficient Semitransparent Bulk-Heterojunction Organic Photovoltaic Cells with High Performance Low-processing Temperature Indium-Tin-Oxide Top Electrode  High Efficient Semitransparent OPV  ',\n",
       " 'PEG-POSS Assisted facile preparation of amphiphilic gold nanoparticles and interface formation of Janus nanoparticles  A new method was reported for preparation of amphiphilic nanocrystalline and Janus particles.  ',\n",
       " 'Some recent developments of polyhedral oligomeric silsesquioxane (POSS)-based polymeric materials  We highlight some recent developments in applications of POSS materials, especially in the improving thermal and mechanical properties of polymers, in the design and synthesis of POSS-containing organic semiconductor materials, and in exploiting POSS as a hydrophobic unit to develop amphiphilic polymers for drug/gene delivery and formation of hydrogels.  ',\n",
       " 'Self-Assembly and Micellization of a Dual Thermoresponsive Supramolecular Pseudo-Block Copolymer  High  ',\n",
       " 'photoelectrochemical cell with carbon nanotubes  Carbon Nanotubes phototelectrode are fabricated and water splitting catalytic effects have been tested. Device physics has been studied.  ',\n",
       " 'Organicinorganic hybrid liquid crystals derived from octameric silsesquioxanes. Effect of the peripheral groups in mesogens on the formation of liquid crystals  This paper reported synthesis and characterization of a series of octameric silsesquioxane-based hybrid liquid crystals. The concept of flexible group density (FGD) was introduced to interpret the formation of liquid crystals. .  ',\n",
       " 'Physical and electrochemical characterizations of LiFePO4 incorporated Ag nanoparticles  Olivine-type LiFePO4 composite materials for cathode material of the lithium-ion batteries were synthesized by using a sol-gel method and were coated by a chemical deposition of silver particles. The discharge capacity of the LiFePO4/C-Ag electrode is 136.6 mAh/g, which is 7.6% higher than that of uncoated LiFePO4/C electrode (126.9 mAh/g). The LiFePO4/C coated by silver nanoparticles enhances the electrode conductivity and specific capacity at high discharge rates. The improved capacity at high discharge rates may be attributed to increased electrode conductivity and the synergistic effect on electron and Li+ transport after silver incorporation.  ',\n",
       " 'Efficient optimization on DSSC with low frequency noise analysis  The effects of time durations for ZnO nanorod growth and dye loading on a ZnO-based dye-sensitized solar cells efficiency and 1/f low-frequency noise (LFN) spectral were analyzed. Sufficient time durations for ZnO growth and dye loading were required for achieving optimum photoconversion efficiency. Extending these two time parameters beyond the optimal, however, reduced the efficiency due to nanorod defects and dye agglomerations. The mechanisms inducing the change in the efficiency was reflected in the LFN spectral and explained on the basis of Kleinpennings noise equation and excessive noises in the presence of structural defects.  ',\n",
       " 'Impact of vitronectin concentration and surface properties on the stable propagation of human embryonic stem cells  Immobilizing vitronectin by adsorption to a variety of polymer surface properties, from hydrophobic to hydrophilic, including cationic and anionic polyelectrolytes. These vitronectin-coated surfaces are demonstrated to be capable of supporting human embroyic cell expansion and the efficiency of this process is linked to the surface wettability.  ',\n",
       " 'Morphological tuning, self-assembly and optical properties of indium oxide nanocrystals  Important (invited paper)  ',\n",
       " 'Efficient gene delivery with paclitaxel-loaded DNA-hybrid polyplexes based on cationic polyhedral oligomeric silsesquioxanes  High  ',\n",
       " 'A generic approach for preparing core-shell carbon-metal oxide nanofibers: morphological evolution and its mechanism  A generic approach for preparing core-shell carbon-metal oxide nanofiber as well as metal oxide/metal nanotubes from electrospun polymer composite fibers  ',\n",
       " 'Synthesis and optical characteristics of organic light-emitting dot based on well-defined octa-functionalized silsesquioxane  ---  ',\n",
       " 'Large strain and high energy storage density in orthorhombic perovskite PLZST antiferroelectric thin films  \"Pyrochlore secondary phase was removed completely in our PLZST antiferroelectric thin films, and excellent electrical and electromechanical properties were exhibited. A large energy storage density up to 13.7 J /cm3 and a strain of 0.49% under the clamping of the substrate were achieved .\"  ',\n",
       " 'Conductance decay of a surface hydrogen tunneling junction fabricated along a Si(001)-(21)-H atomic wire  On a Si(001)-(21)-H substrate, electrons tunneling through hydrogen atomic junctions fabricated between two surface dangling-bond (DB) wires are theoretically investigated using the elastic-scattering quantum-chemistry method. The surface states introduced in the Si band gap by removing H atoms from a Si(001)-(21)-H surface were calculated and also analyzed using a simple tight-binding model. The two-channel surface conductance of a DB wire results from a combination of through-space and through-lattice electronic couplings between DB states. The conductance of the DB wire-H-junction-DB wire structure decreases exponentially with the length of H junction with an inverse decay rate ranging from 0.20 to 0.23 -1, depending on the energy. When the DB wire-H-junction-DB wire structure is contacted by Au nanoelectrodes, the transmission resonances corresponding to the DB wire states split, demonstrating a coupling of the DB wires through short surface hydrogen atomic junctions. This splitting decreases with the length of H junction between the DB wires with an inverse decay length ranging from 0.22 to 0.44 -1, indicating that such an atomic scale surface tunneling junction is not a very good insulator.  ',\n",
       " 'Direct transfer of gold nanoislands from a MoS2 stamp to a SiH surface  This printing of well defined triangular Au nanoislands offers the unique possibility to construct ultraclean interconnecting nanopad systems by scanning tunneling microscope on atomically clean and electronically suitable substrates, manipulating those nanopads one at a time.  ',\n",
       " 'Direct imprinting of high resolution TiO2 nanostructures  \"We demonstrate a different approach to direct nanoimprint lithography of oxides, in particular TiO2, using the metal methacrylate route which not only gives very high resolution (~20 nm) but also provides yields of ~100% over areas >1 cm x 1 cm. TiO2 was imprinted using a polymerizable liquid TiO2 resin consisting of a mixture of titanium methacrylate, ethylene glycol dimethacrylate, and azobis-(isobutyronitrile). The resin underwent free radical polymerization when imprinted using a silicon mold at 110 C with pressures as low as 10 bar. Polymerization strengthens the imprinted structures, thereby giving ~100% yield after demolding. Heat-treatment of the imprinted structures at 400 C resulted in the loss of organics and their subsequent shrinkage (~75%) without the loss of integrity or aspect ratio, and converted them to TiO2 nanostructures as small as ~20 nm wide.\"  ',\n",
       " 'Structural and Electrical Characterization of AlxGa1-xN/GaN Interfaces for Ultraviolet Photodetectors  Article reported on the structural and electrical characterization of 2DEG AlxGa1-xN/GaN heterostructures with different Al content (19% and 39%) in UV Schottky MSM PDs. Techniques such as TEM, HRXRD, AFM and UV micro-Raman spectroscopy were used for structural characterization. In order to study the behaviors of the interface phonon modes observed from such 2DEG structures, UV Raman measurements were simultaneously performed with and without applied bias voltages. The electrical properties of the UV PDs are then correlated to the optical observations.  ',\n",
       " 'Interfacial and mechanical studies of a composite Ag-IZO-PEN barrier film for effective encapsulation of organic TFT  Noval metal/metal oxide barrier film for OTFT  ',\n",
       " \"Spin-coatable HfO2 resist for optical and electron beam lithographies  Size scaling is important for further development of silicon microelectronics. To continue following Moore's law, feature sizes will have to be reduced below 20nm in the near to midterm.  \",\n",
       " 'Thermally Responsive Hydrogel Film Studied by Surface Plasmon Diffraction  This paper describes the use of surface plasmon diffraction as a convenient means to study the swelling of thermoresponsive polymer thin films, and by extension polymer thin films in general.  ',\n",
       " 'Preface to special topic, Selected Papers from the 20th International Symposium on Integrated Ferroelectrics  This is a preface to introduce 20th International Symposium on Integrated Ferroelectrics held in Singapore and chaired by IMRE, and the selected papers from this symposium published in Journal of Applied Physics.  ',\n",
       " 'DNA assembly on streptavidin modified surface: A study using quartz crystal microbalance with dissipation or resistance measurements  This is a frist study to compare QCM-D and R-QCM for DNA analysis.  ',\n",
       " 'Composite Nafion membrane embedded with hybrid nanofillers for promoting direct methanol fuel cell performance  A special type of hybrid nano-particles was incorporated into the Nafion matrix to form a composite membrane. These nano-particles possessed a coreshell structure consisting of silica core (  ',\n",
       " 'Nature and dynamics of photoexcited states in an electroluminescencet poly(phenylene vinylene-co-fluorenylene vinylene)-based pi conjugated polymer  This paper describes the photoexcited state properties of a novel electroluminescent PPV-PF copolymer synthesized in IMRE. The photoinduced absoprtion spectrum of this new polymer shows single peak due to triplet-triplet* transition and recombination dynamics of this excitation is discussed in detail. The relation between the photoexcited state properties and their influence on the device performance is analysed.  ',\n",
       " 'Charge Transport Studies in Electroluminescent Biphenylyl Substituted PPV Derivatives Using Time-of-Flight Photoconductivity Method  This paper investigates the influence of structural disorders on the charge transport properties of novel PPV derivatives synthesized at IMRE. Based on this investigation, the molecular structure of this materials can be tuned in order to obtain better charge mobility characteristics for device applications.  ',\n",
       " 'Greatly Enhanced Optical Properties of ZnO Nanorods Grown on GaN in Aqueous Solution by Using Two-Step Treatment Method  For the first time, we address the effect of plasma treatment on the optical properties of hydrothermally-grown ZnO nanorods. This plasma treatment also offers a prospective way to produce ZnO nanorods with p-type conductivity or compensate the n-type conductivity  ',\n",
       " 'The influence of nitrogen plasma treatment on the lattice vibrational properties of hydrothermally grown ZnO nanorods  For the first time, we address the effect of nitrogen-plasma treatment on the optical properties of hydrothermally-grown ZnO nanorods. The vibrational properties are addressed by uv-visible micro-Raman scattering  ',\n",
       " 'A study of interface-sustained ferromagnetism in 1/2(1-x)Ln2O3-xSrO/1/3Co3O4 nano composite  The Ln3+-doped Co3O4 oxide displays only paramagnetic behavior at room temperature, but the ferromagnetic response is attained upon its mixing with SrO in nano-scale. The SrO phase plays the role in assisting Co3O4 phase with aligning unpaired electrons through interfacial induction  ',\n",
       " 'A study of charge transport in a novel electroluminescent poly(phenylene vinylene-co-fluorenylene vinylene) based p-conjugated polymer  This manuscript reports the charge transport properties of a novel electroluminescent PPV copolymer developed in IMRE. This polymer is designed to improve the device properties of PPV based conjugated polymers by reducing the chemical and structural disorders. We have used time of flight photoconductivity technique to investigate the charge transport properties of this polymer. The microscopic charge transport parameters were extracted from the field and temperature dependent mobility data and compared with the data reported for the well studied structurally related conjugated polymers. We showed that the charge transport and structural disorder parameters can be controlled in this polymer through chemical modification and thereby the device properties can be optimized.  ',\n",
       " 'Non-dispersive hole transport in a noval trifluromethyl-biphylyl substituted PPV deriative  1This paper reports the optical and electrical properties of a novel electroluminescent polymer, poly[2-(2-p-trifluoromethyl-phenyl-4,5-bis(3-methylbutoxy))phenyl-1,4- phenylene vinylene], using absorption, photoluminescence (PL), photoluminescent quantum yield and time of flight (TOF) photoconductivity techniques. The PL quantum yield of the polymer was found to be 44 % in chloroform and 52 % in solid state. The room temperature TOF transients for positive charges showed non-dispersive nature of transport with a mobility of 3.83 x10-6 cm2/Vs at an electric field of 2x105 V/cm. The variation of hole mobility with applied electric field has been studied and analyzed according to disorder formalism. The non-dispersive nature of TOF hole transport with weak field dependence of mobility indicates that the chemical purity of this polymer chain is very high.  ']"
      ]
     },
     "execution_count": 31,
     "metadata": {},
     "output_type": "execute_result"
    }
   ],
   "source": [
    "corpus = []\n",
    "printable = set(string.printable)\n",
    "\n",
    "for i, j in zip(PRF_IMRE_first.Title_of_Paper, PRF_IMRE_first.Significance_of_Paper):\n",
    "    encoding_fixed = filter(lambda x: x in printable, i+j)\n",
    "    corpus.append(encoding_fixed)\n",
    "\n",
    "corpus # A list of documents"
   ]
  },
  {
   "cell_type": "markdown",
   "metadata": {},
   "source": [
    "- The text in the corpus is preprocessed to lower upper-case letters and remove punctuation."
   ]
  },
  {
   "cell_type": "code",
   "execution_count": 32,
   "metadata": {
    "collapsed": true
   },
   "outputs": [],
   "source": [
    "stemmer = PorterStemmer()\n",
    "token_dict_full = {}\n",
    "for ind, doc in enumerate(corpus):\n",
    "    lowers = doc.lower()\n",
    "    no_punctuation = lowers.translate(None, string.punctuation)\n",
    "    token_dict_full[ind] = no_punctuation # tokenized corpus"
   ]
  },
  {
   "cell_type": "code",
   "execution_count": 33,
   "metadata": {
    "collapsed": false,
    "scrolled": false
   },
   "outputs": [
    {
     "data": {
      "text/plain": [
       "'Bovine Serum Albulmin Protein-Templated Silver Nanocluster (BSA-Ag13): An Effective Singlet Oxygen Generator for Photodynamic Cancer Therapy  Bovine serum albumin-templated silver nanocluster containing 13 silver atoms per cluster (BSA-Ag13) has been synthesized by using NaBH4 dissolved in NaOH as a controlling reducing agent. The as-synthesized BSA-Ag13 NC exhibits very high quantum efficiency (1.26) in singlet oxygen generation and has been demonstrated as an effective photodynamic therapy agent to kill cancer cell.  '"
      ]
     },
     "execution_count": 33,
     "metadata": {},
     "output_type": "execute_result"
    }
   ],
   "source": [
    "corpus[4]"
   ]
  },
  {
   "cell_type": "markdown",
   "metadata": {},
   "source": [
    "- To each document in the corpus (which corresponds to the title and abstract texts of a publication), the texts are tokenized and stemmed."
   ]
  },
  {
   "cell_type": "code",
   "execution_count": 34,
   "metadata": {
    "collapsed": true
   },
   "outputs": [],
   "source": [
    "i = 0\n",
    "doc = corpus[0]\n",
    "\n",
    "def tokenize(text = doc):\n",
    "    tokens = nltk.word_tokenize(text)\n",
    "    stems = stem_tokens(tokens, stemmer)\n",
    "    return stems"
   ]
  },
  {
   "cell_type": "markdown",
   "metadata": {},
   "source": [
    "- The preprocessing function (on a specific body of text) is then passed to the tfidf vectorizer to create the tfidf model. Note that scikit-learn has its own dictionary of stopwords, which are removed from the document in the model-building process.\n",
    "\n",
    "- The model is automatically fitted for every document in the corpus, under the fit_transform() function"
   ]
  },
  {
   "cell_type": "code",
   "execution_count": 35,
   "metadata": {
    "collapsed": false,
    "scrolled": true
   },
   "outputs": [],
   "source": [
    "tfidfFull = TfidfVectorizer(tokenizer=tokenize, stop_words='english')\n",
    "fit0 = tfidfFull.fit_transform(token_dict_full.values())"
   ]
  },
  {
   "cell_type": "code",
   "execution_count": 36,
   "metadata": {
    "collapsed": false
   },
   "outputs": [
    {
     "data": {
      "text/plain": [
       "(500, 3776)"
      ]
     },
     "execution_count": 36,
     "metadata": {},
     "output_type": "execute_result"
    }
   ],
   "source": [
    "fit0.shape # A vocabulary of 3776 words, across 500 documents"
   ]
  },
  {
   "cell_type": "code",
   "execution_count": 37,
   "metadata": {
    "collapsed": true
   },
   "outputs": [],
   "source": [
    "# Expand the sparse matrix\n",
    "mFull = fit0.todense()"
   ]
  },
  {
   "cell_type": "markdown",
   "metadata": {},
   "source": [
    "- Extract the keywords corresponding to each document, ordered by tfidf score. The relevant author is also included in the data."
   ]
  },
  {
   "cell_type": "code",
   "execution_count": 38,
   "metadata": {
    "collapsed": false,
    "scrolled": true
   },
   "outputs": [
    {
     "data": {
      "text/html": [
       "<div>\n",
       "<table border=\"1\" class=\"dataframe\">\n",
       "  <thead>\n",
       "    <tr style=\"text-align: right;\">\n",
       "      <th></th>\n",
       "      <th>index</th>\n",
       "      <th>first_author</th>\n",
       "      <th>keywords</th>\n",
       "      <th>tfidf</th>\n",
       "    </tr>\n",
       "  </thead>\n",
       "  <tbody>\n",
       "    <tr>\n",
       "      <th>0</th>\n",
       "      <td>15</td>\n",
       "      <td>li jian</td>\n",
       "      <td>microspher</td>\n",
       "      <td>0.369182</td>\n",
       "    </tr>\n",
       "    <tr>\n",
       "      <th>1</th>\n",
       "      <td>7</td>\n",
       "      <td>li jian</td>\n",
       "      <td>embryon</td>\n",
       "      <td>0.369182</td>\n",
       "    </tr>\n",
       "    <tr>\n",
       "      <th>2</th>\n",
       "      <td>22</td>\n",
       "      <td>li jian</td>\n",
       "      <td>stem</td>\n",
       "      <td>0.351822</td>\n",
       "    </tr>\n",
       "    <tr>\n",
       "      <th>3</th>\n",
       "      <td>11</td>\n",
       "      <td>li jian</td>\n",
       "      <td>human</td>\n",
       "      <td>0.327355</td>\n",
       "    </tr>\n",
       "    <tr>\n",
       "      <th>4</th>\n",
       "      <td>25</td>\n",
       "      <td>li jian</td>\n",
       "      <td>uniforms</td>\n",
       "      <td>0.262433</td>\n",
       "    </tr>\n",
       "    <tr>\n",
       "      <th>5</th>\n",
       "      <td>4</td>\n",
       "      <td>li jian</td>\n",
       "      <td>cultur</td>\n",
       "      <td>0.262433</td>\n",
       "    </tr>\n",
       "    <tr>\n",
       "      <th>6</th>\n",
       "      <td>18</td>\n",
       "      <td>li jian</td>\n",
       "      <td>polycaprolacton</td>\n",
       "      <td>0.234548</td>\n",
       "    </tr>\n",
       "    <tr>\n",
       "      <th>7</th>\n",
       "      <td>17</td>\n",
       "      <td>li jian</td>\n",
       "      <td>pcl</td>\n",
       "      <td>0.225571</td>\n",
       "    </tr>\n",
       "    <tr>\n",
       "      <th>8</th>\n",
       "      <td>2</td>\n",
       "      <td>li jian</td>\n",
       "      <td>cell</td>\n",
       "      <td>0.198215</td>\n",
       "    </tr>\n",
       "    <tr>\n",
       "      <th>9</th>\n",
       "      <td>12</td>\n",
       "      <td>li jian</td>\n",
       "      <td>matrix</td>\n",
       "      <td>0.193852</td>\n",
       "    </tr>\n",
       "    <tr>\n",
       "      <th>10</th>\n",
       "      <td>10</td>\n",
       "      <td>li jian</td>\n",
       "      <td>fabric</td>\n",
       "      <td>0.132940</td>\n",
       "    </tr>\n",
       "    <tr>\n",
       "      <th>11</th>\n",
       "      <td>27</td>\n",
       "      <td>li jian</td>\n",
       "      <td>valid</td>\n",
       "      <td>0.131216</td>\n",
       "    </tr>\n",
       "    <tr>\n",
       "      <th>12</th>\n",
       "      <td>6</td>\n",
       "      <td>li jian</td>\n",
       "      <td>ecm</td>\n",
       "      <td>0.131216</td>\n",
       "    </tr>\n",
       "    <tr>\n",
       "      <th>13</th>\n",
       "      <td>9</td>\n",
       "      <td>li jian</td>\n",
       "      <td>extracellular</td>\n",
       "      <td>0.131216</td>\n",
       "    </tr>\n",
       "    <tr>\n",
       "      <th>14</th>\n",
       "      <td>13</td>\n",
       "      <td>li jian</td>\n",
       "      <td>microcarri</td>\n",
       "      <td>0.131216</td>\n",
       "    </tr>\n",
       "    <tr>\n",
       "      <th>15</th>\n",
       "      <td>14</td>\n",
       "      <td>li jian</td>\n",
       "      <td>microfluid</td>\n",
       "      <td>0.123061</td>\n",
       "    </tr>\n",
       "    <tr>\n",
       "      <th>16</th>\n",
       "      <td>8</td>\n",
       "      <td>li jian</td>\n",
       "      <td>expans</td>\n",
       "      <td>0.123061</td>\n",
       "    </tr>\n",
       "    <tr>\n",
       "      <th>17</th>\n",
       "      <td>1</td>\n",
       "      <td>li jian</td>\n",
       "      <td>capabl</td>\n",
       "      <td>0.103332</td>\n",
       "    </tr>\n",
       "    <tr>\n",
       "      <th>18</th>\n",
       "      <td>23</td>\n",
       "      <td>li jian</td>\n",
       "      <td>support</td>\n",
       "      <td>0.093566</td>\n",
       "    </tr>\n",
       "    <tr>\n",
       "      <th>19</th>\n",
       "      <td>19</td>\n",
       "      <td>li jian</td>\n",
       "      <td>protein</td>\n",
       "      <td>0.089389</td>\n",
       "    </tr>\n",
       "    <tr>\n",
       "      <th>20</th>\n",
       "      <td>3</td>\n",
       "      <td>li jian</td>\n",
       "      <td>coat</td>\n",
       "      <td>0.088170</td>\n",
       "    </tr>\n",
       "    <tr>\n",
       "      <th>21</th>\n",
       "      <td>20</td>\n",
       "      <td>li jian</td>\n",
       "      <td>provid</td>\n",
       "      <td>0.076745</td>\n",
       "    </tr>\n",
       "    <tr>\n",
       "      <th>22</th>\n",
       "      <td>5</td>\n",
       "      <td>li jian</td>\n",
       "      <td>devic</td>\n",
       "      <td>0.067715</td>\n",
       "    </tr>\n",
       "    <tr>\n",
       "      <th>23</th>\n",
       "      <td>21</td>\n",
       "      <td>li jian</td>\n",
       "      <td>report</td>\n",
       "      <td>0.062143</td>\n",
       "    </tr>\n",
       "    <tr>\n",
       "      <th>24</th>\n",
       "      <td>16</td>\n",
       "      <td>li jian</td>\n",
       "      <td>paper</td>\n",
       "      <td>0.057525</td>\n",
       "    </tr>\n",
       "    <tr>\n",
       "      <th>25</th>\n",
       "      <td>0</td>\n",
       "      <td>li jian</td>\n",
       "      <td>applic</td>\n",
       "      <td>0.050980</td>\n",
       "    </tr>\n",
       "    <tr>\n",
       "      <th>26</th>\n",
       "      <td>26</td>\n",
       "      <td>li jian</td>\n",
       "      <td>use</td>\n",
       "      <td>0.043583</td>\n",
       "    </tr>\n",
       "    <tr>\n",
       "      <th>27</th>\n",
       "      <td>24</td>\n",
       "      <td>li jian</td>\n",
       "      <td>thi</td>\n",
       "      <td>0.042333</td>\n",
       "    </tr>\n",
       "  </tbody>\n",
       "</table>\n",
       "</div>"
      ],
      "text/plain": [
       "    index first_author         keywords     tfidf\n",
       "0      15      li jian       microspher  0.369182\n",
       "1       7      li jian          embryon  0.369182\n",
       "2      22      li jian             stem  0.351822\n",
       "3      11      li jian            human  0.327355\n",
       "4      25      li jian         uniforms  0.262433\n",
       "5       4      li jian           cultur  0.262433\n",
       "6      18      li jian  polycaprolacton  0.234548\n",
       "7      17      li jian              pcl  0.225571\n",
       "8       2      li jian             cell  0.198215\n",
       "9      12      li jian           matrix  0.193852\n",
       "10     10      li jian           fabric  0.132940\n",
       "11     27      li jian            valid  0.131216\n",
       "12      6      li jian              ecm  0.131216\n",
       "13      9      li jian    extracellular  0.131216\n",
       "14     13      li jian       microcarri  0.131216\n",
       "15     14      li jian       microfluid  0.123061\n",
       "16      8      li jian           expans  0.123061\n",
       "17      1      li jian           capabl  0.103332\n",
       "18     23      li jian          support  0.093566\n",
       "19     19      li jian          protein  0.089389\n",
       "20      3      li jian             coat  0.088170\n",
       "21     20      li jian           provid  0.076745\n",
       "22      5      li jian            devic  0.067715\n",
       "23     21      li jian           report  0.062143\n",
       "24     16      li jian            paper  0.057525\n",
       "25      0      li jian           applic  0.050980\n",
       "26     26      li jian              use  0.043583\n",
       "27     24      li jian              thi  0.042333"
      ]
     },
     "execution_count": 38,
     "metadata": {},
     "output_type": "execute_result"
    }
   ],
   "source": [
    "getAuthorPubKeywords(100)"
   ]
  },
  {
   "cell_type": "code",
   "execution_count": 39,
   "metadata": {
    "collapsed": false
   },
   "outputs": [
    {
     "name": "stdout",
     "output_type": "stream",
     "text": [
      "0    microspher\n",
      "1       embryon\n",
      "2          stem\n",
      "3         human\n",
      "4      uniforms\n",
      "5        cultur\n",
      "Name: keywords, dtype: object\n",
      "[u'microspher' u'embryon' u'stem' u'human' u'uniforms']\n"
     ]
    }
   ],
   "source": [
    "# You can get the top 5 keywords in 2 ways.\n",
    "\n",
    "print getAuthorPubKeywords(100).loc[:5, 'keywords']\n",
    "print getAuthorPubKeywords(100).keywords.values[:5]"
   ]
  },
  {
   "cell_type": "markdown",
   "metadata": {},
   "source": [
    "# Append keywords to names"
   ]
  },
  {
   "cell_type": "markdown",
   "metadata": {},
   "source": [
    "## Aggregate authors and juxtapose with each's keywords"
   ]
  },
  {
   "cell_type": "code",
   "execution_count": 112,
   "metadata": {
    "collapsed": false
   },
   "outputs": [
    {
     "data": {
      "text/plain": [
       "168"
      ]
     },
     "execution_count": 112,
     "metadata": {},
     "output_type": "execute_result"
    }
   ],
   "source": [
    "len(set(firstIMRE))"
   ]
  },
  {
   "cell_type": "markdown",
   "metadata": {},
   "source": [
    "There are 168 unique first authors. Now:\n",
    "- Get author's name from the set\n",
    "- Get this name's position(s) in firstIMRE\n",
    "- Pass these positions to the getAuthorPubKeywords() function\n",
    "- Get the first 5 keywords from each of the name's publication"
   ]
  },
  {
   "cell_type": "code",
   "execution_count": 43,
   "metadata": {
    "collapsed": false,
    "scrolled": true
   },
   "outputs": [],
   "source": [
    "kw_all = []\n",
    "for author in set(firstIMRE):\n",
    "    pubInds = [ind for ind, i in enumerate(firstIMRE) if i == author]\n",
    "    kw_indv = []\n",
    "    for pubInd in pubInds:\n",
    "        kw_indv.extend(getAuthorPubKeywords(pubInd).keywords[:5].tolist())\n",
    "    kw_all.append(kw_indv)"
   ]
  },
  {
   "cell_type": "code",
   "execution_count": null,
   "metadata": {
    "collapsed": false,
    "scrolled": true
   },
   "outputs": [],
   "source": [
    "author_keywords = pd.DataFrame(\n",
    "    {'first_author': list(set(firstIMRE)),\n",
    "     'keywords': kw_all\n",
    "    })\n",
    "author_keywords"
   ]
  },
  {
   "cell_type": "code",
   "execution_count": null,
   "metadata": {
    "collapsed": false
   },
   "outputs": [],
   "source": [
    "author_keywords.to_csv('/Users/yingjiang/Dropbox/Learnings/Stats_data/Projects/IMRE_work/Manpower/author_keywords.csv')"
   ]
  },
  {
   "cell_type": "markdown",
   "metadata": {},
   "source": [
    "## \"Unstem\" the keywords to give back original"
   ]
  },
  {
   "cell_type": "markdown",
   "metadata": {},
   "source": [
    "For each author, go through pubInds and get\n",
    "- The keywords of each pub.\n",
    "- Tokenized and stemmed title+abstract of each pub, or get corpus[pubInd]\n",
    "- Tokenized but unstemmed title+abstract of each pub\n",
    "\n",
    "- For this author's list of keywords of each pub\n",
    "    - Compare each one with the stemmed word list. Get the index where this occurs.\n",
    "    - Use the index to find the unstemmed word on the other list."
   ]
  },
  {
   "cell_type": "code",
   "execution_count": null,
   "metadata": {
    "collapsed": true
   },
   "outputs": [],
   "source": [
    "kw_all_unstem = []\n",
    "for author in set(firstIMRE):\n",
    "    pubInds = [ind for ind, i in enumerate(firstIMRE) if i == author]\n",
    "    kw_indv = []\n",
    "    for pubInd in pubInds:\n",
    "        kw_tmp = getAuthorPubKeywords(pubInd).keywords[:5].tolist()\n",
    "        tokens = nltk.word_tokenize(token_dict_full.values()[pubInd])\n",
    "        tokens_stemmed = tokenize(token_dict_full.values()[pubInd])\n",
    "\n",
    "        for kw in kw_tmp:\n",
    "            kw_indv.append(tokens[tokens_stemmed.index(kw)])\n",
    "\n",
    "    kw_all_unstem.append(kw_indv)"
   ]
  },
  {
   "cell_type": "code",
   "execution_count": null,
   "metadata": {
    "collapsed": false
   },
   "outputs": [],
   "source": [
    "len(kw_all_unstem)"
   ]
  },
  {
   "cell_type": "code",
   "execution_count": null,
   "metadata": {
    "collapsed": true
   },
   "outputs": [],
   "source": [
    "author_keywords_unstem = pd.DataFrame(\n",
    "    {'first_author': list(set(firstIMRE)),\n",
    "     'keywords': kw_all_unstem\n",
    "    })\n",
    "author_keywords_unstem.to_csv('/Users/yingjiang/Dropbox/Learnings/Stats_data/Projects/IMRE_work/Manpower/author_keywords_unstem.csv')"
   ]
  },
  {
   "cell_type": "code",
   "execution_count": null,
   "metadata": {
    "collapsed": false
   },
   "outputs": [],
   "source": [
    "for i in author_keywords_unstem.keywords:\n",
    "    print i"
   ]
  },
  {
   "cell_type": "code",
   "execution_count": null,
   "metadata": {
    "collapsed": false
   },
   "outputs": [],
   "source": [
    "'develop' in 'development'"
   ]
  },
  {
   "cell_type": "markdown",
   "metadata": {},
   "source": [
    "## Remove more meaningless words\n",
    "\n",
    "There are lots of \"scientific stopwords\" that are not captured by scikit-learn's algo."
   ]
  },
  {
   "cell_type": "code",
   "execution_count": null,
   "metadata": {
    "collapsed": true
   },
   "outputs": [],
   "source": []
  }
 ],
 "metadata": {
  "kernelspec": {
   "display_name": "Python 2",
   "language": "python",
   "name": "python2"
  },
  "language_info": {
   "codemirror_mode": {
    "name": "ipython",
    "version": 2
   },
   "file_extension": ".py",
   "mimetype": "text/x-python",
   "name": "python",
   "nbconvert_exporter": "python",
   "pygments_lexer": "ipython2",
   "version": "2.7.11"
  }
 },
 "nbformat": 4,
 "nbformat_minor": 0
}
